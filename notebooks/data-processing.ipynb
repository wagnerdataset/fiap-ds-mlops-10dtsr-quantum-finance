{
  "cells": [
    {
      "cell_type": "markdown",
      "id": "06e0b846",
      "metadata": {
        "id": "06e0b846"
      },
      "source": [
        "### Importação das bibliotecas necessárias"
      ]
    },
    {
      "cell_type": "code",
      "execution_count": 40,
      "id": "02363993",
      "metadata": {
        "id": "02363993"
      },
      "outputs": [],
      "source": [
        "import pandas as pd\n",
        "import numpy as np\n",
        "import matplotlib.pyplot as plt\n",
        "from sklearn.model_selection import  GridSearchCV\n",
        "from sklearn.preprocessing import StandardScaler, LabelEncoder\n",
        "from sklearn.compose import ColumnTransformer\n",
        "from sklearn.pipeline import Pipeline\n",
        "from sklearn.impute import SimpleImputer\n",
        "from sklearn.ensemble import RandomForestClassifier\n",
        "from sklearn.metrics import make_scorer, classification_report, confusion_matrix, accuracy_score, f1_score, precision_score, recall_score, roc_auc_score\n",
        "import xgboost as xgb\n",
        "import lightgbm as lgb\n",
        "import warnings\n",
        "warnings.filterwarnings('ignore')"
      ]
    },
    {
      "cell_type": "markdown",
      "id": "691e2b5e",
      "metadata": {
        "id": "691e2b5e"
      },
      "source": [
        "### Carregamento e exploração inicial dos dados"
      ]
    },
    {
      "cell_type": "code",
      "execution_count": 41,
      "id": "99e636e3",
      "metadata": {
        "colab": {
          "base_uri": "https://localhost:8080/"
        },
        "id": "99e636e3",
        "outputId": "97cfb66a-4df5-41f6-cc54-f5117900f138"
      },
      "outputs": [
        {
          "name": "stdout",
          "output_type": "stream",
          "text": [
            "Shape train: (100000, 28)\n",
            "Shape test: (50000, 27)\n"
          ]
        }
      ],
      "source": [
        "# Carregar dados\n",
        "train_data = pd.read_csv(\"../data/raw/credit_score_train.csv\")\n",
        "test_data = pd.read_csv(\"../data/raw/credit_score_test.csv\")\n",
        "print(\"Shape train:\", train_data.shape)\n",
        "print(\"Shape test:\", test_data.shape)"
      ]
    },
    {
      "cell_type": "code",
      "execution_count": 42,
      "id": "8bcb446d",
      "metadata": {
        "colab": {
          "base_uri": "https://localhost:8080/",
          "height": 429
        },
        "id": "8bcb446d",
        "outputId": "64a08979-589b-495d-b630-d23bc153b1ee"
      },
      "outputs": [
        {
          "data": {
            "text/html": [
              "<div>\n",
              "<style scoped>\n",
              "    .dataframe tbody tr th:only-of-type {\n",
              "        vertical-align: middle;\n",
              "    }\n",
              "\n",
              "    .dataframe tbody tr th {\n",
              "        vertical-align: top;\n",
              "    }\n",
              "\n",
              "    .dataframe thead th {\n",
              "        text-align: right;\n",
              "    }\n",
              "</style>\n",
              "<table border=\"1\" class=\"dataframe\">\n",
              "  <thead>\n",
              "    <tr style=\"text-align: right;\">\n",
              "      <th></th>\n",
              "      <th>ID</th>\n",
              "      <th>Customer_ID</th>\n",
              "      <th>Month</th>\n",
              "      <th>Name</th>\n",
              "      <th>Age</th>\n",
              "      <th>SSN</th>\n",
              "      <th>Occupation</th>\n",
              "      <th>Annual_Income</th>\n",
              "      <th>Monthly_Inhand_Salary</th>\n",
              "      <th>Num_Bank_Accounts</th>\n",
              "      <th>...</th>\n",
              "      <th>Credit_Mix</th>\n",
              "      <th>Outstanding_Debt</th>\n",
              "      <th>Credit_Utilization_Ratio</th>\n",
              "      <th>Credit_History_Age</th>\n",
              "      <th>Payment_of_Min_Amount</th>\n",
              "      <th>Total_EMI_per_month</th>\n",
              "      <th>Amount_invested_monthly</th>\n",
              "      <th>Payment_Behaviour</th>\n",
              "      <th>Monthly_Balance</th>\n",
              "      <th>Credit_Score</th>\n",
              "    </tr>\n",
              "  </thead>\n",
              "  <tbody>\n",
              "    <tr>\n",
              "      <th>0</th>\n",
              "      <td>0x1602</td>\n",
              "      <td>CUS_0xd40</td>\n",
              "      <td>January</td>\n",
              "      <td>Aaron Maashoh</td>\n",
              "      <td>23</td>\n",
              "      <td>821-00-0265</td>\n",
              "      <td>Scientist</td>\n",
              "      <td>19114.12</td>\n",
              "      <td>1824.843333</td>\n",
              "      <td>3</td>\n",
              "      <td>...</td>\n",
              "      <td>_</td>\n",
              "      <td>809.98</td>\n",
              "      <td>26.822620</td>\n",
              "      <td>22 Years and 1 Months</td>\n",
              "      <td>No</td>\n",
              "      <td>49.574949</td>\n",
              "      <td>80.41529543900253</td>\n",
              "      <td>High_spent_Small_value_payments</td>\n",
              "      <td>312.49408867943663</td>\n",
              "      <td>Good</td>\n",
              "    </tr>\n",
              "    <tr>\n",
              "      <th>1</th>\n",
              "      <td>0x1603</td>\n",
              "      <td>CUS_0xd40</td>\n",
              "      <td>February</td>\n",
              "      <td>Aaron Maashoh</td>\n",
              "      <td>23</td>\n",
              "      <td>821-00-0265</td>\n",
              "      <td>Scientist</td>\n",
              "      <td>19114.12</td>\n",
              "      <td>NaN</td>\n",
              "      <td>3</td>\n",
              "      <td>...</td>\n",
              "      <td>Good</td>\n",
              "      <td>809.98</td>\n",
              "      <td>31.944960</td>\n",
              "      <td>NaN</td>\n",
              "      <td>No</td>\n",
              "      <td>49.574949</td>\n",
              "      <td>118.28022162236736</td>\n",
              "      <td>Low_spent_Large_value_payments</td>\n",
              "      <td>284.62916249607184</td>\n",
              "      <td>Good</td>\n",
              "    </tr>\n",
              "    <tr>\n",
              "      <th>2</th>\n",
              "      <td>0x1604</td>\n",
              "      <td>CUS_0xd40</td>\n",
              "      <td>March</td>\n",
              "      <td>Aaron Maashoh</td>\n",
              "      <td>-500</td>\n",
              "      <td>821-00-0265</td>\n",
              "      <td>Scientist</td>\n",
              "      <td>19114.12</td>\n",
              "      <td>NaN</td>\n",
              "      <td>3</td>\n",
              "      <td>...</td>\n",
              "      <td>Good</td>\n",
              "      <td>809.98</td>\n",
              "      <td>28.609352</td>\n",
              "      <td>22 Years and 3 Months</td>\n",
              "      <td>No</td>\n",
              "      <td>49.574949</td>\n",
              "      <td>81.699521264648</td>\n",
              "      <td>Low_spent_Medium_value_payments</td>\n",
              "      <td>331.2098628537912</td>\n",
              "      <td>Good</td>\n",
              "    </tr>\n",
              "    <tr>\n",
              "      <th>3</th>\n",
              "      <td>0x1605</td>\n",
              "      <td>CUS_0xd40</td>\n",
              "      <td>April</td>\n",
              "      <td>Aaron Maashoh</td>\n",
              "      <td>23</td>\n",
              "      <td>821-00-0265</td>\n",
              "      <td>Scientist</td>\n",
              "      <td>19114.12</td>\n",
              "      <td>NaN</td>\n",
              "      <td>3</td>\n",
              "      <td>...</td>\n",
              "      <td>Good</td>\n",
              "      <td>809.98</td>\n",
              "      <td>31.377862</td>\n",
              "      <td>22 Years and 4 Months</td>\n",
              "      <td>No</td>\n",
              "      <td>49.574949</td>\n",
              "      <td>199.4580743910713</td>\n",
              "      <td>Low_spent_Small_value_payments</td>\n",
              "      <td>223.45130972736786</td>\n",
              "      <td>Good</td>\n",
              "    </tr>\n",
              "    <tr>\n",
              "      <th>4</th>\n",
              "      <td>0x1606</td>\n",
              "      <td>CUS_0xd40</td>\n",
              "      <td>May</td>\n",
              "      <td>Aaron Maashoh</td>\n",
              "      <td>23</td>\n",
              "      <td>821-00-0265</td>\n",
              "      <td>Scientist</td>\n",
              "      <td>19114.12</td>\n",
              "      <td>1824.843333</td>\n",
              "      <td>3</td>\n",
              "      <td>...</td>\n",
              "      <td>Good</td>\n",
              "      <td>809.98</td>\n",
              "      <td>24.797347</td>\n",
              "      <td>22 Years and 5 Months</td>\n",
              "      <td>No</td>\n",
              "      <td>49.574949</td>\n",
              "      <td>41.420153086217326</td>\n",
              "      <td>High_spent_Medium_value_payments</td>\n",
              "      <td>341.48923103222177</td>\n",
              "      <td>Good</td>\n",
              "    </tr>\n",
              "  </tbody>\n",
              "</table>\n",
              "<p>5 rows × 28 columns</p>\n",
              "</div>"
            ],
            "text/plain": [
              "       ID Customer_ID     Month           Name   Age          SSN Occupation  \\\n",
              "0  0x1602   CUS_0xd40   January  Aaron Maashoh    23  821-00-0265  Scientist   \n",
              "1  0x1603   CUS_0xd40  February  Aaron Maashoh    23  821-00-0265  Scientist   \n",
              "2  0x1604   CUS_0xd40     March  Aaron Maashoh  -500  821-00-0265  Scientist   \n",
              "3  0x1605   CUS_0xd40     April  Aaron Maashoh    23  821-00-0265  Scientist   \n",
              "4  0x1606   CUS_0xd40       May  Aaron Maashoh    23  821-00-0265  Scientist   \n",
              "\n",
              "  Annual_Income  Monthly_Inhand_Salary  Num_Bank_Accounts  ...  Credit_Mix  \\\n",
              "0      19114.12            1824.843333                  3  ...           _   \n",
              "1      19114.12                    NaN                  3  ...        Good   \n",
              "2      19114.12                    NaN                  3  ...        Good   \n",
              "3      19114.12                    NaN                  3  ...        Good   \n",
              "4      19114.12            1824.843333                  3  ...        Good   \n",
              "\n",
              "   Outstanding_Debt Credit_Utilization_Ratio     Credit_History_Age  \\\n",
              "0            809.98                26.822620  22 Years and 1 Months   \n",
              "1            809.98                31.944960                    NaN   \n",
              "2            809.98                28.609352  22 Years and 3 Months   \n",
              "3            809.98                31.377862  22 Years and 4 Months   \n",
              "4            809.98                24.797347  22 Years and 5 Months   \n",
              "\n",
              "   Payment_of_Min_Amount Total_EMI_per_month Amount_invested_monthly  \\\n",
              "0                     No           49.574949       80.41529543900253   \n",
              "1                     No           49.574949      118.28022162236736   \n",
              "2                     No           49.574949         81.699521264648   \n",
              "3                     No           49.574949       199.4580743910713   \n",
              "4                     No           49.574949      41.420153086217326   \n",
              "\n",
              "                  Payment_Behaviour     Monthly_Balance Credit_Score  \n",
              "0   High_spent_Small_value_payments  312.49408867943663         Good  \n",
              "1    Low_spent_Large_value_payments  284.62916249607184         Good  \n",
              "2   Low_spent_Medium_value_payments   331.2098628537912         Good  \n",
              "3    Low_spent_Small_value_payments  223.45130972736786         Good  \n",
              "4  High_spent_Medium_value_payments  341.48923103222177         Good  \n",
              "\n",
              "[5 rows x 28 columns]"
            ]
          },
          "execution_count": 42,
          "metadata": {},
          "output_type": "execute_result"
        }
      ],
      "source": [
        "train_data.head()"
      ]
    },
    {
      "cell_type": "code",
      "execution_count": 43,
      "id": "5024b8a6",
      "metadata": {
        "colab": {
          "base_uri": "https://localhost:8080/"
        },
        "id": "5024b8a6",
        "outputId": "e771cadf-9dd5-4e82-88ae-678540032fbe"
      },
      "outputs": [
        {
          "data": {
            "text/plain": [
              "['ID',\n",
              " 'Customer_ID',\n",
              " 'Month',\n",
              " 'Name',\n",
              " 'Age',\n",
              " 'SSN',\n",
              " 'Occupation',\n",
              " 'Annual_Income',\n",
              " 'Monthly_Inhand_Salary',\n",
              " 'Num_Bank_Accounts',\n",
              " 'Num_Credit_Card',\n",
              " 'Interest_Rate',\n",
              " 'Num_of_Loan',\n",
              " 'Type_of_Loan',\n",
              " 'Delay_from_due_date',\n",
              " 'Num_of_Delayed_Payment',\n",
              " 'Changed_Credit_Limit',\n",
              " 'Num_Credit_Inquiries',\n",
              " 'Credit_Mix',\n",
              " 'Outstanding_Debt',\n",
              " 'Credit_Utilization_Ratio',\n",
              " 'Credit_History_Age',\n",
              " 'Payment_of_Min_Amount',\n",
              " 'Total_EMI_per_month',\n",
              " 'Amount_invested_monthly',\n",
              " 'Payment_Behaviour',\n",
              " 'Monthly_Balance',\n",
              " 'Credit_Score']"
            ]
          },
          "execution_count": 43,
          "metadata": {},
          "output_type": "execute_result"
        }
      ],
      "source": [
        "train_data.columns.tolist()\n"
      ]
    },
    {
      "cell_type": "code",
      "execution_count": 44,
      "id": "f7c49f56",
      "metadata": {
        "colab": {
          "base_uri": "https://localhost:8080/",
          "height": 429
        },
        "id": "f7c49f56",
        "outputId": "0b2d721f-46dd-4451-a173-378f56db8c2f"
      },
      "outputs": [
        {
          "data": {
            "text/html": [
              "<div>\n",
              "<style scoped>\n",
              "    .dataframe tbody tr th:only-of-type {\n",
              "        vertical-align: middle;\n",
              "    }\n",
              "\n",
              "    .dataframe tbody tr th {\n",
              "        vertical-align: top;\n",
              "    }\n",
              "\n",
              "    .dataframe thead th {\n",
              "        text-align: right;\n",
              "    }\n",
              "</style>\n",
              "<table border=\"1\" class=\"dataframe\">\n",
              "  <thead>\n",
              "    <tr style=\"text-align: right;\">\n",
              "      <th></th>\n",
              "      <th>ID</th>\n",
              "      <th>Customer_ID</th>\n",
              "      <th>Month</th>\n",
              "      <th>Name</th>\n",
              "      <th>Age</th>\n",
              "      <th>SSN</th>\n",
              "      <th>Occupation</th>\n",
              "      <th>Annual_Income</th>\n",
              "      <th>Monthly_Inhand_Salary</th>\n",
              "      <th>Num_Bank_Accounts</th>\n",
              "      <th>...</th>\n",
              "      <th>Num_Credit_Inquiries</th>\n",
              "      <th>Credit_Mix</th>\n",
              "      <th>Outstanding_Debt</th>\n",
              "      <th>Credit_Utilization_Ratio</th>\n",
              "      <th>Credit_History_Age</th>\n",
              "      <th>Payment_of_Min_Amount</th>\n",
              "      <th>Total_EMI_per_month</th>\n",
              "      <th>Amount_invested_monthly</th>\n",
              "      <th>Payment_Behaviour</th>\n",
              "      <th>Monthly_Balance</th>\n",
              "    </tr>\n",
              "  </thead>\n",
              "  <tbody>\n",
              "    <tr>\n",
              "      <th>0</th>\n",
              "      <td>0x160a</td>\n",
              "      <td>CUS_0xd40</td>\n",
              "      <td>September</td>\n",
              "      <td>Aaron Maashoh</td>\n",
              "      <td>23</td>\n",
              "      <td>821-00-0265</td>\n",
              "      <td>Scientist</td>\n",
              "      <td>19114.12</td>\n",
              "      <td>1824.843333</td>\n",
              "      <td>3</td>\n",
              "      <td>...</td>\n",
              "      <td>2022.0</td>\n",
              "      <td>Good</td>\n",
              "      <td>809.98</td>\n",
              "      <td>35.030402</td>\n",
              "      <td>22 Years and 9 Months</td>\n",
              "      <td>No</td>\n",
              "      <td>49.574949</td>\n",
              "      <td>236.64268203272135</td>\n",
              "      <td>Low_spent_Small_value_payments</td>\n",
              "      <td>186.26670208571772</td>\n",
              "    </tr>\n",
              "    <tr>\n",
              "      <th>1</th>\n",
              "      <td>0x160b</td>\n",
              "      <td>CUS_0xd40</td>\n",
              "      <td>October</td>\n",
              "      <td>Aaron Maashoh</td>\n",
              "      <td>24</td>\n",
              "      <td>821-00-0265</td>\n",
              "      <td>Scientist</td>\n",
              "      <td>19114.12</td>\n",
              "      <td>1824.843333</td>\n",
              "      <td>3</td>\n",
              "      <td>...</td>\n",
              "      <td>4.0</td>\n",
              "      <td>Good</td>\n",
              "      <td>809.98</td>\n",
              "      <td>33.053114</td>\n",
              "      <td>22 Years and 10 Months</td>\n",
              "      <td>No</td>\n",
              "      <td>49.574949</td>\n",
              "      <td>21.465380264657146</td>\n",
              "      <td>High_spent_Medium_value_payments</td>\n",
              "      <td>361.44400385378196</td>\n",
              "    </tr>\n",
              "    <tr>\n",
              "      <th>2</th>\n",
              "      <td>0x160c</td>\n",
              "      <td>CUS_0xd40</td>\n",
              "      <td>November</td>\n",
              "      <td>Aaron Maashoh</td>\n",
              "      <td>24</td>\n",
              "      <td>821-00-0265</td>\n",
              "      <td>Scientist</td>\n",
              "      <td>19114.12</td>\n",
              "      <td>1824.843333</td>\n",
              "      <td>3</td>\n",
              "      <td>...</td>\n",
              "      <td>4.0</td>\n",
              "      <td>Good</td>\n",
              "      <td>809.98</td>\n",
              "      <td>33.811894</td>\n",
              "      <td>NaN</td>\n",
              "      <td>No</td>\n",
              "      <td>49.574949</td>\n",
              "      <td>148.23393788500925</td>\n",
              "      <td>Low_spent_Medium_value_payments</td>\n",
              "      <td>264.67544623342997</td>\n",
              "    </tr>\n",
              "    <tr>\n",
              "      <th>3</th>\n",
              "      <td>0x160d</td>\n",
              "      <td>CUS_0xd40</td>\n",
              "      <td>December</td>\n",
              "      <td>Aaron Maashoh</td>\n",
              "      <td>24_</td>\n",
              "      <td>821-00-0265</td>\n",
              "      <td>Scientist</td>\n",
              "      <td>19114.12</td>\n",
              "      <td>NaN</td>\n",
              "      <td>3</td>\n",
              "      <td>...</td>\n",
              "      <td>4.0</td>\n",
              "      <td>Good</td>\n",
              "      <td>809.98</td>\n",
              "      <td>32.430559</td>\n",
              "      <td>23 Years and 0 Months</td>\n",
              "      <td>No</td>\n",
              "      <td>49.574949</td>\n",
              "      <td>39.08251089460281</td>\n",
              "      <td>High_spent_Medium_value_payments</td>\n",
              "      <td>343.82687322383634</td>\n",
              "    </tr>\n",
              "    <tr>\n",
              "      <th>4</th>\n",
              "      <td>0x1616</td>\n",
              "      <td>CUS_0x21b1</td>\n",
              "      <td>September</td>\n",
              "      <td>Rick Rothackerj</td>\n",
              "      <td>28</td>\n",
              "      <td>004-07-5839</td>\n",
              "      <td>_______</td>\n",
              "      <td>34847.84</td>\n",
              "      <td>3037.986667</td>\n",
              "      <td>2</td>\n",
              "      <td>...</td>\n",
              "      <td>5.0</td>\n",
              "      <td>Good</td>\n",
              "      <td>605.03</td>\n",
              "      <td>25.926822</td>\n",
              "      <td>27 Years and 3 Months</td>\n",
              "      <td>No</td>\n",
              "      <td>18.816215</td>\n",
              "      <td>39.684018417945296</td>\n",
              "      <td>High_spent_Large_value_payments</td>\n",
              "      <td>485.2984336755923</td>\n",
              "    </tr>\n",
              "  </tbody>\n",
              "</table>\n",
              "<p>5 rows × 27 columns</p>\n",
              "</div>"
            ],
            "text/plain": [
              "       ID Customer_ID      Month             Name  Age          SSN  \\\n",
              "0  0x160a   CUS_0xd40  September    Aaron Maashoh   23  821-00-0265   \n",
              "1  0x160b   CUS_0xd40    October    Aaron Maashoh   24  821-00-0265   \n",
              "2  0x160c   CUS_0xd40   November    Aaron Maashoh   24  821-00-0265   \n",
              "3  0x160d   CUS_0xd40   December    Aaron Maashoh  24_  821-00-0265   \n",
              "4  0x1616  CUS_0x21b1  September  Rick Rothackerj   28  004-07-5839   \n",
              "\n",
              "  Occupation Annual_Income  Monthly_Inhand_Salary  Num_Bank_Accounts  ...  \\\n",
              "0  Scientist      19114.12            1824.843333                  3  ...   \n",
              "1  Scientist      19114.12            1824.843333                  3  ...   \n",
              "2  Scientist      19114.12            1824.843333                  3  ...   \n",
              "3  Scientist      19114.12                    NaN                  3  ...   \n",
              "4    _______      34847.84            3037.986667                  2  ...   \n",
              "\n",
              "   Num_Credit_Inquiries  Credit_Mix Outstanding_Debt Credit_Utilization_Ratio  \\\n",
              "0                2022.0        Good           809.98                35.030402   \n",
              "1                   4.0        Good           809.98                33.053114   \n",
              "2                   4.0        Good           809.98                33.811894   \n",
              "3                   4.0        Good           809.98                32.430559   \n",
              "4                   5.0        Good           605.03                25.926822   \n",
              "\n",
              "       Credit_History_Age Payment_of_Min_Amount Total_EMI_per_month  \\\n",
              "0   22 Years and 9 Months                    No           49.574949   \n",
              "1  22 Years and 10 Months                    No           49.574949   \n",
              "2                     NaN                    No           49.574949   \n",
              "3   23 Years and 0 Months                    No           49.574949   \n",
              "4   27 Years and 3 Months                    No           18.816215   \n",
              "\n",
              "   Amount_invested_monthly                 Payment_Behaviour  \\\n",
              "0       236.64268203272135    Low_spent_Small_value_payments   \n",
              "1       21.465380264657146  High_spent_Medium_value_payments   \n",
              "2       148.23393788500925   Low_spent_Medium_value_payments   \n",
              "3        39.08251089460281  High_spent_Medium_value_payments   \n",
              "4       39.684018417945296   High_spent_Large_value_payments   \n",
              "\n",
              "      Monthly_Balance  \n",
              "0  186.26670208571772  \n",
              "1  361.44400385378196  \n",
              "2  264.67544623342997  \n",
              "3  343.82687322383634  \n",
              "4   485.2984336755923  \n",
              "\n",
              "[5 rows x 27 columns]"
            ]
          },
          "execution_count": 44,
          "metadata": {},
          "output_type": "execute_result"
        }
      ],
      "source": [
        "test_data.head()"
      ]
    },
    {
      "cell_type": "code",
      "execution_count": 45,
      "id": "93fde057",
      "metadata": {
        "colab": {
          "base_uri": "https://localhost:8080/"
        },
        "id": "93fde057",
        "outputId": "95acbbf9-bf60-4d45-e7ae-a773cd95810d"
      },
      "outputs": [
        {
          "data": {
            "text/plain": [
              "['ID',\n",
              " 'Customer_ID',\n",
              " 'Month',\n",
              " 'Name',\n",
              " 'Age',\n",
              " 'SSN',\n",
              " 'Occupation',\n",
              " 'Annual_Income',\n",
              " 'Monthly_Inhand_Salary',\n",
              " 'Num_Bank_Accounts',\n",
              " 'Num_Credit_Card',\n",
              " 'Interest_Rate',\n",
              " 'Num_of_Loan',\n",
              " 'Type_of_Loan',\n",
              " 'Delay_from_due_date',\n",
              " 'Num_of_Delayed_Payment',\n",
              " 'Changed_Credit_Limit',\n",
              " 'Num_Credit_Inquiries',\n",
              " 'Credit_Mix',\n",
              " 'Outstanding_Debt',\n",
              " 'Credit_Utilization_Ratio',\n",
              " 'Credit_History_Age',\n",
              " 'Payment_of_Min_Amount',\n",
              " 'Total_EMI_per_month',\n",
              " 'Amount_invested_monthly',\n",
              " 'Payment_Behaviour',\n",
              " 'Monthly_Balance']"
            ]
          },
          "execution_count": 45,
          "metadata": {},
          "output_type": "execute_result"
        }
      ],
      "source": [
        "test_data.columns.tolist()"
      ]
    },
    {
      "cell_type": "code",
      "execution_count": 46,
      "id": "0da5a042",
      "metadata": {
        "colab": {
          "base_uri": "https://localhost:8080/"
        },
        "id": "0da5a042",
        "outputId": "70dd4d2a-abd7-46fe-dc97-9c29ae582b21"
      },
      "outputs": [
        {
          "name": "stdout",
          "output_type": "stream",
          "text": [
            "Colunas apenas no treino: {'Credit_Score'}\n",
            "Colunas apenas no teste: set()\n"
          ]
        }
      ],
      "source": [
        "# Observando a diferença entre os conjuntos (teste não tem Credit_Score)\n",
        "train_cols = set(train_data.columns.tolist())\n",
        "test_cols = set(test_data.columns.tolist())\n",
        "print(\"Colunas apenas no treino:\", train_cols - test_cols)\n",
        "print(\"Colunas apenas no teste:\", test_cols - train_cols)"
      ]
    },
    {
      "cell_type": "markdown",
      "id": "5216661b",
      "metadata": {
        "id": "5216661b"
      },
      "source": [
        "### Análise exploratória de dados (EDA)"
      ]
    },
    {
      "cell_type": "code",
      "execution_count": 47,
      "id": "73c0c445",
      "metadata": {
        "colab": {
          "base_uri": "https://localhost:8080/"
        },
        "id": "73c0c445",
        "outputId": "ba6fc833-c796-449d-87a5-863b5d2f2fd5"
      },
      "outputs": [
        {
          "name": "stdout",
          "output_type": "stream",
          "text": [
            "<class 'pandas.core.frame.DataFrame'>\n",
            "RangeIndex: 100000 entries, 0 to 99999\n",
            "Data columns (total 28 columns):\n",
            " #   Column                    Non-Null Count   Dtype  \n",
            "---  ------                    --------------   -----  \n",
            " 0   ID                        100000 non-null  object \n",
            " 1   Customer_ID               100000 non-null  object \n",
            " 2   Month                     100000 non-null  object \n",
            " 3   Name                      90015 non-null   object \n",
            " 4   Age                       100000 non-null  object \n",
            " 5   SSN                       100000 non-null  object \n",
            " 6   Occupation                100000 non-null  object \n",
            " 7   Annual_Income             100000 non-null  object \n",
            " 8   Monthly_Inhand_Salary     84998 non-null   float64\n",
            " 9   Num_Bank_Accounts         100000 non-null  int64  \n",
            " 10  Num_Credit_Card           100000 non-null  int64  \n",
            " 11  Interest_Rate             100000 non-null  int64  \n",
            " 12  Num_of_Loan               100000 non-null  object \n",
            " 13  Type_of_Loan              88592 non-null   object \n",
            " 14  Delay_from_due_date       100000 non-null  int64  \n",
            " 15  Num_of_Delayed_Payment    92998 non-null   object \n",
            " 16  Changed_Credit_Limit      100000 non-null  object \n",
            " 17  Num_Credit_Inquiries      98035 non-null   float64\n",
            " 18  Credit_Mix                100000 non-null  object \n",
            " 19  Outstanding_Debt          100000 non-null  object \n",
            " 20  Credit_Utilization_Ratio  100000 non-null  float64\n",
            " 21  Credit_History_Age        90970 non-null   object \n",
            " 22  Payment_of_Min_Amount     100000 non-null  object \n",
            " 23  Total_EMI_per_month       100000 non-null  float64\n",
            " 24  Amount_invested_monthly   95521 non-null   object \n",
            " 25  Payment_Behaviour         100000 non-null  object \n",
            " 26  Monthly_Balance           98800 non-null   object \n",
            " 27  Credit_Score              100000 non-null  object \n",
            "dtypes: float64(4), int64(4), object(20)\n",
            "memory usage: 21.4+ MB\n"
          ]
        }
      ],
      "source": [
        "train_data.info()"
      ]
    },
    {
      "cell_type": "code",
      "execution_count": 48,
      "id": "b2455dc5",
      "metadata": {
        "colab": {
          "base_uri": "https://localhost:8080/",
          "height": 300
        },
        "id": "b2455dc5",
        "outputId": "9ab7f000-4ac7-4885-9e39-3e05299da40f"
      },
      "outputs": [
        {
          "data": {
            "text/html": [
              "<div>\n",
              "<style scoped>\n",
              "    .dataframe tbody tr th:only-of-type {\n",
              "        vertical-align: middle;\n",
              "    }\n",
              "\n",
              "    .dataframe tbody tr th {\n",
              "        vertical-align: top;\n",
              "    }\n",
              "\n",
              "    .dataframe thead th {\n",
              "        text-align: right;\n",
              "    }\n",
              "</style>\n",
              "<table border=\"1\" class=\"dataframe\">\n",
              "  <thead>\n",
              "    <tr style=\"text-align: right;\">\n",
              "      <th></th>\n",
              "      <th>Monthly_Inhand_Salary</th>\n",
              "      <th>Num_Bank_Accounts</th>\n",
              "      <th>Num_Credit_Card</th>\n",
              "      <th>Interest_Rate</th>\n",
              "      <th>Delay_from_due_date</th>\n",
              "      <th>Num_Credit_Inquiries</th>\n",
              "      <th>Credit_Utilization_Ratio</th>\n",
              "      <th>Total_EMI_per_month</th>\n",
              "    </tr>\n",
              "  </thead>\n",
              "  <tbody>\n",
              "    <tr>\n",
              "      <th>count</th>\n",
              "      <td>84998.000000</td>\n",
              "      <td>100000.000000</td>\n",
              "      <td>100000.00000</td>\n",
              "      <td>100000.000000</td>\n",
              "      <td>100000.000000</td>\n",
              "      <td>98035.000000</td>\n",
              "      <td>100000.000000</td>\n",
              "      <td>100000.000000</td>\n",
              "    </tr>\n",
              "    <tr>\n",
              "      <th>mean</th>\n",
              "      <td>4194.170850</td>\n",
              "      <td>17.091280</td>\n",
              "      <td>22.47443</td>\n",
              "      <td>72.466040</td>\n",
              "      <td>21.068780</td>\n",
              "      <td>27.754251</td>\n",
              "      <td>32.285173</td>\n",
              "      <td>1403.118217</td>\n",
              "    </tr>\n",
              "    <tr>\n",
              "      <th>std</th>\n",
              "      <td>3183.686167</td>\n",
              "      <td>117.404834</td>\n",
              "      <td>129.05741</td>\n",
              "      <td>466.422621</td>\n",
              "      <td>14.860104</td>\n",
              "      <td>193.177339</td>\n",
              "      <td>5.116875</td>\n",
              "      <td>8306.041270</td>\n",
              "    </tr>\n",
              "    <tr>\n",
              "      <th>min</th>\n",
              "      <td>303.645417</td>\n",
              "      <td>-1.000000</td>\n",
              "      <td>0.00000</td>\n",
              "      <td>1.000000</td>\n",
              "      <td>-5.000000</td>\n",
              "      <td>0.000000</td>\n",
              "      <td>20.000000</td>\n",
              "      <td>0.000000</td>\n",
              "    </tr>\n",
              "    <tr>\n",
              "      <th>25%</th>\n",
              "      <td>1625.568229</td>\n",
              "      <td>3.000000</td>\n",
              "      <td>4.00000</td>\n",
              "      <td>8.000000</td>\n",
              "      <td>10.000000</td>\n",
              "      <td>3.000000</td>\n",
              "      <td>28.052567</td>\n",
              "      <td>30.306660</td>\n",
              "    </tr>\n",
              "    <tr>\n",
              "      <th>50%</th>\n",
              "      <td>3093.745000</td>\n",
              "      <td>6.000000</td>\n",
              "      <td>5.00000</td>\n",
              "      <td>13.000000</td>\n",
              "      <td>18.000000</td>\n",
              "      <td>6.000000</td>\n",
              "      <td>32.305784</td>\n",
              "      <td>69.249473</td>\n",
              "    </tr>\n",
              "    <tr>\n",
              "      <th>75%</th>\n",
              "      <td>5957.448333</td>\n",
              "      <td>7.000000</td>\n",
              "      <td>7.00000</td>\n",
              "      <td>20.000000</td>\n",
              "      <td>28.000000</td>\n",
              "      <td>9.000000</td>\n",
              "      <td>36.496663</td>\n",
              "      <td>161.224249</td>\n",
              "    </tr>\n",
              "    <tr>\n",
              "      <th>max</th>\n",
              "      <td>15204.633333</td>\n",
              "      <td>1798.000000</td>\n",
              "      <td>1499.00000</td>\n",
              "      <td>5797.000000</td>\n",
              "      <td>67.000000</td>\n",
              "      <td>2597.000000</td>\n",
              "      <td>50.000000</td>\n",
              "      <td>82331.000000</td>\n",
              "    </tr>\n",
              "  </tbody>\n",
              "</table>\n",
              "</div>"
            ],
            "text/plain": [
              "       Monthly_Inhand_Salary  Num_Bank_Accounts  Num_Credit_Card  \\\n",
              "count           84998.000000      100000.000000     100000.00000   \n",
              "mean             4194.170850          17.091280         22.47443   \n",
              "std              3183.686167         117.404834        129.05741   \n",
              "min               303.645417          -1.000000          0.00000   \n",
              "25%              1625.568229           3.000000          4.00000   \n",
              "50%              3093.745000           6.000000          5.00000   \n",
              "75%              5957.448333           7.000000          7.00000   \n",
              "max             15204.633333        1798.000000       1499.00000   \n",
              "\n",
              "       Interest_Rate  Delay_from_due_date  Num_Credit_Inquiries  \\\n",
              "count  100000.000000        100000.000000          98035.000000   \n",
              "mean       72.466040            21.068780             27.754251   \n",
              "std       466.422621            14.860104            193.177339   \n",
              "min         1.000000            -5.000000              0.000000   \n",
              "25%         8.000000            10.000000              3.000000   \n",
              "50%        13.000000            18.000000              6.000000   \n",
              "75%        20.000000            28.000000              9.000000   \n",
              "max      5797.000000            67.000000           2597.000000   \n",
              "\n",
              "       Credit_Utilization_Ratio  Total_EMI_per_month  \n",
              "count             100000.000000        100000.000000  \n",
              "mean                  32.285173          1403.118217  \n",
              "std                    5.116875          8306.041270  \n",
              "min                   20.000000             0.000000  \n",
              "25%                   28.052567            30.306660  \n",
              "50%                   32.305784            69.249473  \n",
              "75%                   36.496663           161.224249  \n",
              "max                   50.000000         82331.000000  "
            ]
          },
          "execution_count": 48,
          "metadata": {},
          "output_type": "execute_result"
        }
      ],
      "source": [
        "train_data.describe()"
      ]
    },
    {
      "cell_type": "code",
      "execution_count": 49,
      "id": "925f1b29",
      "metadata": {
        "colab": {
          "base_uri": "https://localhost:8080/",
          "height": 962
        },
        "id": "925f1b29",
        "outputId": "8e4a077c-86d0-4bb3-d216-0d6efdb295c9"
      },
      "outputs": [
        {
          "data": {
            "text/plain": [
              "ID                              0\n",
              "Customer_ID                     0\n",
              "Month                           0\n",
              "Name                         9985\n",
              "Age                             0\n",
              "SSN                             0\n",
              "Occupation                      0\n",
              "Annual_Income                   0\n",
              "Monthly_Inhand_Salary       15002\n",
              "Num_Bank_Accounts               0\n",
              "Num_Credit_Card                 0\n",
              "Interest_Rate                   0\n",
              "Num_of_Loan                     0\n",
              "Type_of_Loan                11408\n",
              "Delay_from_due_date             0\n",
              "Num_of_Delayed_Payment       7002\n",
              "Changed_Credit_Limit            0\n",
              "Num_Credit_Inquiries         1965\n",
              "Credit_Mix                      0\n",
              "Outstanding_Debt                0\n",
              "Credit_Utilization_Ratio        0\n",
              "Credit_History_Age           9030\n",
              "Payment_of_Min_Amount           0\n",
              "Total_EMI_per_month             0\n",
              "Amount_invested_monthly      4479\n",
              "Payment_Behaviour               0\n",
              "Monthly_Balance              1200\n",
              "Credit_Score                    0\n",
              "dtype: int64"
            ]
          },
          "execution_count": 49,
          "metadata": {},
          "output_type": "execute_result"
        }
      ],
      "source": [
        "train_data.isnull().sum()"
      ]
    },
    {
      "cell_type": "code",
      "execution_count": 50,
      "id": "96a8f01b",
      "metadata": {
        "colab": {
          "base_uri": "https://localhost:8080/"
        },
        "id": "96a8f01b",
        "outputId": "27bbdf2f-723c-4b49-bff4-8b1478ca674b"
      },
      "outputs": [
        {
          "data": {
            "text/plain": [
              "array(['Good', 'Standard', 'Poor'], dtype=object)"
            ]
          },
          "execution_count": 50,
          "metadata": {},
          "output_type": "execute_result"
        }
      ],
      "source": [
        "train_data['Credit_Score'].unique()"
      ]
    },
    {
      "cell_type": "code",
      "execution_count": 51,
      "id": "48da43bb",
      "metadata": {
        "colab": {
          "base_uri": "https://localhost:8080/"
        },
        "id": "48da43bb",
        "outputId": "2b9af7e9-f2e4-4105-b9f8-7a6691fd462c"
      },
      "outputs": [
        {
          "name": "stdout",
          "output_type": "stream",
          "text": [
            "\n",
            "Distribuição da variável alvo (Credit_Score):\n",
            "Credit_Score\n",
            "Standard    53174\n",
            "Poor        28998\n",
            "Good        17828\n",
            "Name: count, dtype: int64\n",
            "Credit_Score\n",
            "Standard    53.174\n",
            "Poor        28.998\n",
            "Good        17.828\n",
            "Name: proportion, dtype: float64\n"
          ]
        }
      ],
      "source": [
        "# Verificando a distribuição da variável alvo\n",
        "print(\"\\nDistribuição da variável alvo (Credit_Score):\")\n",
        "print(train_data['Credit_Score'].value_counts())\n",
        "print(train_data['Credit_Score'].value_counts(normalize=True) * 100)"
      ]
    },
    {
      "cell_type": "markdown",
      "id": "e9cda062",
      "metadata": {
        "id": "e9cda062"
      },
      "source": [
        "Pré-processamento"
      ]
    },
    {
      "cell_type": "code",
      "execution_count": 52,
      "id": "83e18198",
      "metadata": {
        "colab": {
          "base_uri": "https://localhost:8080/"
        },
        "id": "83e18198",
        "outputId": "711a1947-41b6-49af-8fe5-d95c78756f79"
      },
      "outputs": [
        {
          "name": "stdout",
          "output_type": "stream",
          "text": [
            "Validação de duplicação.\n",
            "Não existem duplicadas\n",
            "Validação de duplicação.\n",
            "Não existem duplicadas\n"
          ]
        }
      ],
      "source": [
        "def duplicate_values(df):\n",
        "    print(\"Validação de duplicação.\")\n",
        "    num_duplicates = df.duplicated(subset=None, keep='first').sum()\n",
        "    if num_duplicates > 0:\n",
        "        print(\"Existem\", num_duplicates, \"duplicadas.\")\n",
        "        df.drop_duplicates(keep='first', inplace=True)\n",
        "        print(num_duplicates, \"duplicadas excluidas\")\n",
        "    else:\n",
        "        print(\"Não existem duplicadas\")\n",
        "\n",
        "duplicate_values(train_data)\n",
        "duplicate_values(test_data)"
      ]
    },
    {
      "cell_type": "code",
      "execution_count": 53,
      "id": "acf1780f",
      "metadata": {
        "colab": {
          "base_uri": "https://localhost:8080/"
        },
        "id": "acf1780f",
        "outputId": "d82cffb4-ab30-4fbf-cd06-16f34331fc93"
      },
      "outputs": [
        {
          "name": "stdout",
          "output_type": "stream",
          "text": [
            "Verificando valores numéricos inválidos...\n",
            "Coluna Monthly_Inhand_Salary contém valores não numéricos: [nan]\n",
            "Coluna Num_Credit_Inquiries contém valores não numéricos: [nan]\n"
          ]
        }
      ],
      "source": [
        "# Verificando valores inválidos ou inconsistentes em colunas numéricas\n",
        "print(\"Verificando valores numéricos inválidos...\")\n",
        "numeric_cols = train_data.select_dtypes(include=['int64', 'float64']).columns.tolist()\n",
        "for col in numeric_cols:\n",
        "    invalid_values = train_data[~train_data[col].astype(str).str.replace('.', '').str.replace('-', '').str.isdigit()]\n",
        "    if not invalid_values.empty:\n",
        "        print(f\"Coluna {col} contém valores não numéricos: {invalid_values[col].unique()}\")"
      ]
    },
    {
      "cell_type": "markdown",
      "id": "d2eb2531",
      "metadata": {
        "id": "d2eb2531"
      },
      "source": [
        "Aqui pudemos notar que existem valores que não fazem sentindo para o campo Idade"
      ]
    },
    {
      "cell_type": "code",
      "execution_count": 54,
      "id": "da54e957",
      "metadata": {
        "colab": {
          "base_uri": "https://localhost:8080/"
        },
        "id": "da54e957",
        "outputId": "47ebee84-ee1c-4b24-f643-7ca8014223b9"
      },
      "outputs": [
        {
          "data": {
            "text/plain": [
              "array(['23', '-500', '28_', ..., '4808_', '2263', '1342'],\n",
              "      shape=(1788,), dtype=object)"
            ]
          },
          "execution_count": 54,
          "metadata": {},
          "output_type": "execute_result"
        }
      ],
      "source": [
        "train_data['Age'].unique()"
      ]
    },
    {
      "cell_type": "code",
      "execution_count": 55,
      "id": "9c350d52",
      "metadata": {
        "colab": {
          "base_uri": "https://localhost:8080/"
        },
        "id": "9c350d52",
        "outputId": "4785ee9e-3915-4c5f-b7af-3a995c038b8b"
      },
      "outputs": [
        {
          "data": {
            "text/plain": [
              "array(['Scientist', '_______', 'Teacher', 'Engineer', 'Entrepreneur',\n",
              "       'Developer', 'Lawyer', 'Media_Manager', 'Doctor', 'Journalist',\n",
              "       'Manager', 'Accountant', 'Musician', 'Mechanic', 'Writer',\n",
              "       'Architect'], dtype=object)"
            ]
          },
          "execution_count": 55,
          "metadata": {},
          "output_type": "execute_result"
        }
      ],
      "source": [
        "train_data['Occupation'].unique()"
      ]
    },
    {
      "cell_type": "markdown",
      "id": "bbffe385",
      "metadata": {
        "id": "bbffe385"
      },
      "source": [
        "Então criamos uma função para limpar e converter valores"
      ]
    },
    {
      "cell_type": "code",
      "execution_count": 56,
      "id": "fedbd8c4",
      "metadata": {
        "id": "fedbd8c4"
      },
      "outputs": [],
      "source": [
        "# Função para limpar e converter valores\n",
        "def clean_data(df):\n",
        "    df_copy = df.copy()\n",
        "\n",
        "    # colunas que não serão usadas\n",
        "    df_copy = df_copy.drop(['ID','Customer_ID','Month','Name','SSN', 'Type_of_Loan', 'Changed_Credit_Limit', 'Monthly_Inhand_Salary'], axis = 1)\n",
        "\n",
        "    # Tratando valores especiais como NaN\n",
        "    for col in df_copy.columns:\n",
        "        df_copy[col] = df_copy[col].replace('_', np.nan)\n",
        "        df_copy[col] = df_copy[col].replace('!@9#%8', np.nan)\n",
        "        df_copy[col] = df_copy[col].replace('#F%$D@*&8', np.nan)\n",
        "    # preenche o na do Credit_Mix com desconhecido\n",
        "    df_copy['Credit_Mix'].fillna('Unknown', inplace=True)\n",
        "    df_copy['Credit_Mix'] = df_copy['Credit_Mix'].astype('object')\n",
        "\n",
        "    # Tratando valores especiais na coluna Occupation\n",
        "    df_copy['Occupation'] = df_copy['Occupation'].replace('_______', 'Other')\n",
        "    df_copy.loc[pd.isna(df_copy['Occupation']), 'Occupation'] = 'Other'\n",
        "\n",
        "    # Limpando e convertendo a coluna Age para numérico\n",
        "    df_copy['Age'] = pd.to_numeric(df_copy['Age'].astype(str).str.replace('_', ''), errors='coerce')\n",
        "    # Substituir valores inválidos (negativos ou muito altos) por NaN\n",
        "    df_copy.loc[df_copy['Age'] < 0, 'Age'] = np.nan\n",
        "    df_copy.loc[df_copy['Age'] > 100, 'Age'] = np.nan\n",
        "\n",
        "    # Preencher NaN com a mediana das idades válidas\n",
        "    mediana_idade = df_copy['Age'].median()\n",
        "    df_copy['Age'].fillna(mediana_idade, inplace=True)\n",
        "\n",
        "    # Convertendo Credit_History_Age para numérico (em meses)\n",
        "    def convert_credit_history(x):\n",
        "        if pd.isna(x) or x == 'NA':\n",
        "            return np.nan\n",
        "        try:\n",
        "            years = 0\n",
        "            months = 0\n",
        "            if 'Years' in str(x):\n",
        "                years = int(str(x).split('Years')[0].strip())\n",
        "            if 'Months' in str(x):\n",
        "                months = int(str(x).split('Months')[0].split('and')[-1].strip())\n",
        "            return years * 12 + months\n",
        "        except:\n",
        "            return np.nan\n",
        "\n",
        "    df_copy['Credit_History_Age'] = df_copy['Credit_History_Age'].apply(convert_credit_history)\n",
        "        # Preencher NaN com a mediana dos valores válidos de Credit_History_Age\n",
        "    mediana_credit_history = df_copy['Credit_History_Age'].median()\n",
        "    df_copy['Credit_History_Age'].fillna(mediana_credit_history, inplace=True)\n",
        "\n",
        "\n",
        "    # Convertendo colunas numéricas\n",
        "    numeric_cols = ['Age','Annual_Income', 'Num_Bank_Accounts', 'Num_Credit_Card', 'Credit_History_Age',\n",
        "                  'Interest_Rate', 'Num_of_Loan', 'Delay_from_due_date',\n",
        "                  'Num_of_Delayed_Payment', 'Num_Credit_Inquiries',\n",
        "                  'Outstanding_Debt', 'Credit_Utilization_Ratio', 'Total_EMI_per_month',\n",
        "                  'Amount_invested_monthly', 'Monthly_Balance']\n",
        "\n",
        "    for col in numeric_cols:\n",
        "        # Primeiro limpar quaisquer caracteres não numéricos\n",
        "        if col in df_copy.columns:\n",
        "            # Converter para string, remover caracteres não numéricos exceto ponto decimal\n",
        "            df_copy[col] = df_copy[col].astype(str).str.replace(r'[^0-9.-]', '', regex=True)\n",
        "            # Converter para float\n",
        "            df_copy[col] = pd.to_numeric(df_copy[col], errors='coerce')\n",
        "\n",
        "    return df_copy"
      ]
    },
    {
      "cell_type": "code",
      "execution_count": 57,
      "id": "fcc0ad81",
      "metadata": {
        "id": "fcc0ad81"
      },
      "outputs": [],
      "source": [
        "# Aplicando a limpeza aos conjuntos de dados\n",
        "train_data = clean_data(train_data)\n",
        "test_data = clean_data(test_data)"
      ]
    },
    {
      "cell_type": "code",
      "execution_count": 58,
      "id": "8da8bc86",
      "metadata": {
        "colab": {
          "base_uri": "https://localhost:8080/"
        },
        "id": "8da8bc86",
        "outputId": "79540e5a-8769-412d-d91d-d29e0d92dbbb"
      },
      "outputs": [
        {
          "name": "stdout",
          "output_type": "stream",
          "text": [
            "<class 'pandas.core.frame.DataFrame'>\n",
            "RangeIndex: 50000 entries, 0 to 49999\n",
            "Data columns (total 19 columns):\n",
            " #   Column                    Non-Null Count  Dtype  \n",
            "---  ------                    --------------  -----  \n",
            " 0   Age                       50000 non-null  float64\n",
            " 1   Occupation                50000 non-null  object \n",
            " 2   Annual_Income             50000 non-null  float64\n",
            " 3   Num_Bank_Accounts         50000 non-null  int64  \n",
            " 4   Num_Credit_Card           50000 non-null  int64  \n",
            " 5   Interest_Rate             50000 non-null  int64  \n",
            " 6   Num_of_Loan               50000 non-null  int64  \n",
            " 7   Delay_from_due_date       50000 non-null  int64  \n",
            " 8   Num_of_Delayed_Payment    46502 non-null  float64\n",
            " 9   Num_Credit_Inquiries      48965 non-null  float64\n",
            " 10  Credit_Mix                50000 non-null  object \n",
            " 11  Outstanding_Debt          50000 non-null  float64\n",
            " 12  Credit_Utilization_Ratio  50000 non-null  float64\n",
            " 13  Credit_History_Age        50000 non-null  float64\n",
            " 14  Payment_of_Min_Amount     50000 non-null  object \n",
            " 15  Total_EMI_per_month       50000 non-null  float64\n",
            " 16  Amount_invested_monthly   47729 non-null  float64\n",
            " 17  Payment_Behaviour         46200 non-null  object \n",
            " 18  Monthly_Balance           49438 non-null  float64\n",
            "dtypes: float64(10), int64(5), object(4)\n",
            "memory usage: 7.2+ MB\n"
          ]
        }
      ],
      "source": [
        "test_data.info()"
      ]
    },
    {
      "cell_type": "code",
      "execution_count": 59,
      "id": "0b362ffc",
      "metadata": {
        "colab": {
          "base_uri": "https://localhost:8080/"
        },
        "id": "0b362ffc",
        "outputId": "29394a4c-6c6c-44c8-8575-df794729c20c"
      },
      "outputs": [
        {
          "name": "stdout",
          "output_type": "stream",
          "text": [
            "<class 'pandas.core.frame.DataFrame'>\n",
            "RangeIndex: 100000 entries, 0 to 99999\n",
            "Data columns (total 20 columns):\n",
            " #   Column                    Non-Null Count   Dtype  \n",
            "---  ------                    --------------   -----  \n",
            " 0   Age                       100000 non-null  float64\n",
            " 1   Occupation                100000 non-null  object \n",
            " 2   Annual_Income             100000 non-null  float64\n",
            " 3   Num_Bank_Accounts         100000 non-null  int64  \n",
            " 4   Num_Credit_Card           100000 non-null  int64  \n",
            " 5   Interest_Rate             100000 non-null  int64  \n",
            " 6   Num_of_Loan               100000 non-null  int64  \n",
            " 7   Delay_from_due_date       100000 non-null  int64  \n",
            " 8   Num_of_Delayed_Payment    92998 non-null   float64\n",
            " 9   Num_Credit_Inquiries      98035 non-null   float64\n",
            " 10  Credit_Mix                100000 non-null  object \n",
            " 11  Outstanding_Debt          100000 non-null  float64\n",
            " 12  Credit_Utilization_Ratio  100000 non-null  float64\n",
            " 13  Credit_History_Age        100000 non-null  float64\n",
            " 14  Payment_of_Min_Amount     100000 non-null  object \n",
            " 15  Total_EMI_per_month       100000 non-null  float64\n",
            " 16  Amount_invested_monthly   95521 non-null   float64\n",
            " 17  Payment_Behaviour         92400 non-null   object \n",
            " 18  Monthly_Balance           98800 non-null   float64\n",
            " 19  Credit_Score              100000 non-null  object \n",
            "dtypes: float64(10), int64(5), object(5)\n",
            "memory usage: 15.3+ MB\n"
          ]
        }
      ],
      "source": [
        "train_data.info()"
      ]
    },
    {
      "cell_type": "code",
      "execution_count": 60,
      "id": "57557bce",
      "metadata": {
        "id": "57557bce"
      },
      "outputs": [],
      "source": [
        "# Usando dicionário para mapear categorias para valores numéricos\n",
        "mapeamento = {'Good': 2, 'Standard': 1, 'Poor': 0}\n",
        "\n",
        "# Aplicando o mapeamento\n",
        "train_data['Credit_Score'] = train_data['Credit_Score'].map(mapeamento)"
      ]
    },
    {
      "cell_type": "code",
      "execution_count": 61,
      "id": "b86b2e99",
      "metadata": {
        "colab": {
          "base_uri": "https://localhost:8080/"
        },
        "id": "b86b2e99",
        "outputId": "609087c4-2ad2-43ac-cc7c-0ebfc4ba5694"
      },
      "outputs": [
        {
          "name": "stdout",
          "output_type": "stream",
          "text": [
            "\n",
            "Valores nulos após limpeza (treino):\n",
            "Age                            0\n",
            "Occupation                     0\n",
            "Annual_Income                  0\n",
            "Num_Bank_Accounts              0\n",
            "Num_Credit_Card                0\n",
            "Interest_Rate                  0\n",
            "Num_of_Loan                    0\n",
            "Delay_from_due_date            0\n",
            "Num_of_Delayed_Payment      7002\n",
            "Num_Credit_Inquiries        1965\n",
            "Credit_Mix                     0\n",
            "Outstanding_Debt               0\n",
            "Credit_Utilization_Ratio       0\n",
            "Credit_History_Age             0\n",
            "Payment_of_Min_Amount          0\n",
            "Total_EMI_per_month            0\n",
            "Amount_invested_monthly     4479\n",
            "Payment_Behaviour           7600\n",
            "Monthly_Balance             1200\n",
            "Credit_Score                   0\n",
            "dtype: int64\n",
            "\n",
            "Valores nulos após limpeza (teste):\n",
            "Age                            0\n",
            "Occupation                     0\n",
            "Annual_Income                  0\n",
            "Num_Bank_Accounts              0\n",
            "Num_Credit_Card                0\n",
            "Interest_Rate                  0\n",
            "Num_of_Loan                    0\n",
            "Delay_from_due_date            0\n",
            "Num_of_Delayed_Payment      3498\n",
            "Num_Credit_Inquiries        1035\n",
            "Credit_Mix                     0\n",
            "Outstanding_Debt               0\n",
            "Credit_Utilization_Ratio       0\n",
            "Credit_History_Age             0\n",
            "Payment_of_Min_Amount          0\n",
            "Total_EMI_per_month            0\n",
            "Amount_invested_monthly     2271\n",
            "Payment_Behaviour           3800\n",
            "Monthly_Balance              562\n",
            "dtype: int64\n"
          ]
        }
      ],
      "source": [
        "# Verificando valores nulos após limpeza\n",
        "print(\"\\nValores nulos após limpeza (treino):\")\n",
        "print(train_data.isnull().sum())\n",
        "print(\"\\nValores nulos após limpeza (teste):\")\n",
        "print(test_data.isnull().sum())"
      ]
    },
    {
      "cell_type": "code",
      "execution_count": 62,
      "id": "85389d0c",
      "metadata": {
        "colab": {
          "base_uri": "https://localhost:8080/"
        },
        "id": "85389d0c",
        "outputId": "6d02ae21-024f-40cd-ffea-7e13bcc29cbf"
      },
      "outputs": [
        {
          "data": {
            "text/plain": [
              "array(['Unknown', 'Good', 'Standard', 'Bad'], dtype=object)"
            ]
          },
          "execution_count": 62,
          "metadata": {},
          "output_type": "execute_result"
        }
      ],
      "source": [
        "train_data['Credit_Mix'].unique()"
      ]
    },
    {
      "cell_type": "code",
      "execution_count": 63,
      "id": "a80f8306",
      "metadata": {
        "colab": {
          "base_uri": "https://localhost:8080/",
          "height": 1000
        },
        "id": "a80f8306",
        "outputId": "812e17d3-b1b2-4571-8bde-a1bba3dbba74"
      },
      "outputs": [],
      "source": [
        "numeric_cols = train_data.select_dtypes(include=['int64', 'float64']).columns.tolist()\n",
        "corr_matrix = train_data[numeric_cols].corr()"
      ]
    },
    {
      "cell_type": "code",
      "execution_count": 64,
      "id": "861a52dd",
      "metadata": {
        "colab": {
          "base_uri": "https://localhost:8080/"
        },
        "id": "861a52dd",
        "outputId": "aecfeb3f-9ac3-4783-8415-32f8cbfb7326"
      },
      "outputs": [
        {
          "name": "stdout",
          "output_type": "stream",
          "text": [
            "[ 3 -1  5  6  8  7 13 10  0  4  9  1 12 11 30 31 34 27 14  2 -2 16 17 15\n",
            " 23 22 21 18 19 52 51 48 53 26 43 28 25 20 47 46 49 24 61 29 50 58 45 59\n",
            " 55 56 57 54 62 65 64 67 36 41 33 32 39 44 42 60 35 38 -3 63 40 37 -5 -4\n",
            " 66]\n"
          ]
        }
      ],
      "source": [
        "print(train_data['Delay_from_due_date'].unique())"
      ]
    },
    {
      "cell_type": "markdown",
      "id": "66eea47b",
      "metadata": {
        "id": "66eea47b"
      },
      "source": [
        "Isso mostra que o atraso no pagamento auxlia na decisão de aprovar ou não o crédito"
      ]
    },
    {
      "cell_type": "code",
      "execution_count": 65,
      "id": "4d937348",
      "metadata": {
        "colab": {
          "base_uri": "https://localhost:8080/"
        },
        "id": "4d937348",
        "outputId": "dc65e5e2-f3a3-461e-b62c-df3c58f52122"
      },
      "outputs": [
        {
          "name": "stdout",
          "output_type": "stream",
          "text": [
            "[ 809.98  605.03 1303.01 ...  620.64 3571.7   502.38]\n"
          ]
        }
      ],
      "source": [
        "print(train_data['Outstanding_Debt'].unique())"
      ]
    },
    {
      "cell_type": "code",
      "execution_count": 66,
      "id": "21eac67a",
      "metadata": {
        "colab": {
          "base_uri": "https://localhost:8080/"
        },
        "id": "21eac67a",
        "outputId": "ed156663-ec49-49f3-fba2-2efd77b8c4b7"
      },
      "outputs": [
        {
          "name": "stdout",
          "output_type": "stream",
          "text": [
            "Valores únicos na coluna Occupation: ['Scientist' 'Other' 'Teacher' 'Engineer' 'Entrepreneur' 'Developer'\n",
            " 'Lawyer' 'Media_Manager' 'Doctor' 'Journalist' 'Manager' 'Accountant'\n",
            " 'Musician' 'Mechanic' 'Writer' 'Architect']\n",
            "Valores únicos na coluna Credit_Mix: ['Unknown' 'Good' 'Standard' 'Bad']\n",
            "Valores únicos na coluna Payment_of_Min_Amount: ['No' 'NM' 'Yes']\n",
            "Valores únicos na coluna Payment_Behaviour: ['High_spent_Small_value_payments' 'Low_spent_Large_value_payments'\n",
            " 'Low_spent_Medium_value_payments' 'Low_spent_Small_value_payments'\n",
            " 'High_spent_Medium_value_payments' nan 'High_spent_Large_value_payments']\n"
          ]
        }
      ],
      "source": [
        "colunas_obj = ['Occupation', 'Credit_Mix', 'Payment_of_Min_Amount', 'Payment_Behaviour']\n",
        "for coluna in colunas_obj:\n",
        "    print(f\"Valores únicos na coluna {coluna}: {train_data[coluna].unique()}\")\n"
      ]
    },
    {
      "cell_type": "code",
      "execution_count": 67,
      "id": "0f03c7bf",
      "metadata": {
        "colab": {
          "base_uri": "https://localhost:8080/"
        },
        "id": "0f03c7bf",
        "outputId": "7f9b3108-68df-4a95-de67-b0d3ea45ccab"
      },
      "outputs": [
        {
          "name": "stdout",
          "output_type": "stream",
          "text": [
            "Valores codificados na coluna Occupation: [13 12 14  4  5  2  7 10  3  6  8  0 11  9 15  1]\n",
            "Valores codificados na coluna Credit_Mix: [3 1 2 0]\n",
            "Valores codificados na coluna Payment_of_Min_Amount: [1 0 2]\n",
            "Valores codificados na coluna Payment_Behaviour: [2 3 4 5 1 6 0]\n"
          ]
        }
      ],
      "source": [
        "# Criar um dicionário para armazenar os encoders\n",
        "encoders = {}\n",
        "\n",
        "# Colunas categóricas a serem codificadas\n",
        "colunas_categoricas = ['Occupation', 'Credit_Mix', 'Payment_of_Min_Amount', 'Payment_Behaviour']\n",
        "\n",
        "# Aplicar Label Encoding em cada coluna categórica\n",
        "for coluna in colunas_categoricas:\n",
        "    le = LabelEncoder()\n",
        "    # Preencher valores NaN com uma string para codificação\n",
        "    train_data[coluna] = train_data[coluna].fillna('Missing')\n",
        "    train_data[coluna] = le.fit_transform(train_data[coluna])\n",
        "    encoders[coluna] = le\n",
        "\n",
        "# Exibir os valores codificados para verificação\n",
        "for coluna in colunas_categoricas:\n",
        "    print(f\"Valores codificados na coluna {coluna}: {train_data[coluna].unique()}\")\n"
      ]
    },
    {
      "cell_type": "code",
      "execution_count": 68,
      "id": "0693151d",
      "metadata": {
        "colab": {
          "base_uri": "https://localhost:8080/"
        },
        "id": "0693151d",
        "outputId": "0b4f1110-ac2a-47bf-f530-12142e7d58e4"
      },
      "outputs": [
        {
          "name": "stdout",
          "output_type": "stream",
          "text": [
            "Correlação entre Occupation e Credit_Score: -0.01030381716828363\n",
            "Correlação entre Credit_Mix e Credit_Score: 0.10632627078934266\n",
            "Correlação entre Payment_of_Min_Amount e Credit_Score: -0.2781269555652287\n",
            "Correlação entre Payment_Behaviour e Credit_Score: -0.10301659049414222\n"
          ]
        }
      ],
      "source": [
        "# Calcular a correlação entre as colunas codificadas e a coluna 'Credit_Score'\n",
        "correlacoes = {}\n",
        "for coluna in colunas_categoricas:\n",
        "    correlacao = train_data[coluna].corr(train_data['Credit_Score'])\n",
        "    correlacoes[coluna] = correlacao\n",
        "\n",
        "# Exibir a lista de correlações\n",
        "for coluna, correlacao in correlacoes.items():\n",
        "    print(f\"Correlação entre {coluna} e Credit_Score: {correlacao}\")\n"
      ]
    },
    {
      "cell_type": "code",
      "execution_count": 69,
      "id": "fa7dbea2",
      "metadata": {
        "colab": {
          "base_uri": "https://localhost:8080/",
          "height": 711
        },
        "id": "fa7dbea2",
        "outputId": "885868cd-83cb-46b1-cd14-589d0516e540"
      },
      "outputs": [
        {
          "data": {
            "text/plain": [
              "Credit_Score                1.000000\n",
              "Credit_History_Age          0.371374\n",
              "Age                         0.157543\n",
              "Credit_Mix                  0.106326\n",
              "Credit_Utilization_Ratio    0.045793\n",
              "Amount_invested_monthly     0.011631\n",
              "Annual_Income               0.008015\n",
              "Total_EMI_per_month         0.004382\n",
              "Monthly_Balance            -0.001585\n",
              "Interest_Rate              -0.002591\n",
              "Num_Credit_Card            -0.007624\n",
              "Num_of_Delayed_Payment     -0.008103\n",
              "Occupation                 -0.010304\n",
              "Num_Bank_Accounts          -0.010491\n",
              "Num_of_Loan                -0.010915\n",
              "Num_Credit_Inquiries       -0.011235\n",
              "Payment_Behaviour          -0.103017\n",
              "Payment_of_Min_Amount      -0.278127\n",
              "Outstanding_Debt           -0.386525\n",
              "Delay_from_due_date        -0.431591\n",
              "Name: Credit_Score, dtype: float64"
            ]
          },
          "execution_count": 69,
          "metadata": {},
          "output_type": "execute_result"
        }
      ],
      "source": [
        "# Calcular a correlação entre todas as colunas e a coluna 'Credit_Score'\n",
        "correlacoes_todas = train_data.corr()['Credit_Score']\n",
        "correlacoes_todas.sort_values(ascending=False)"
      ]
    },
    {
      "cell_type": "code",
      "execution_count": 70,
      "id": "59c5b06e",
      "metadata": {
        "colab": {
          "base_uri": "https://localhost:8080/"
        },
        "id": "59c5b06e",
        "outputId": "8a0b7e69-9e75-4986-ee42-0503e442dfcd"
      },
      "outputs": [
        {
          "name": "stdout",
          "output_type": "stream",
          "text": [
            "\n",
            "Verificando valores numéricos inválidos...\n",
            "Coluna Num_of_Delayed_Payment contém valores não numéricos: [nan]\n",
            "Coluna Num_Credit_Inquiries contém valores não numéricos: [nan]\n",
            "Coluna Amount_invested_monthly contém valores não numéricos: [nan]\n",
            "Coluna Monthly_Balance contém valores não numéricos: [            nan -3.33333333e+26]\n"
          ]
        }
      ],
      "source": [
        "print(\"\\nVerificando valores numéricos inválidos...\")\n",
        "numeric_cols = train_data.select_dtypes(include=['int64', 'float64']).columns.tolist()\n",
        "for col in numeric_cols:\n",
        "    invalid_values = train_data[~train_data[col].astype(str).str.replace('.', '').str.replace('-', '').str.isdigit()]\n",
        "    if not invalid_values.empty:\n",
        "        print(f\"Coluna {col} contém valores não numéricos: {invalid_values[col].unique()}\")"
      ]
    },
    {
      "cell_type": "code",
      "execution_count": 71,
      "id": "c9a52cb3",
      "metadata": {
        "colab": {
          "base_uri": "https://localhost:8080/"
        },
        "id": "c9a52cb3",
        "outputId": "3d8eb746-66c7-44ed-e553-48313ab07c35"
      },
      "outputs": [
        {
          "name": "stdout",
          "output_type": "stream",
          "text": [
            "Age                            0\n",
            "Occupation                     0\n",
            "Annual_Income                  0\n",
            "Num_Bank_Accounts              0\n",
            "Num_Credit_Card                0\n",
            "Interest_Rate                  0\n",
            "Num_of_Loan                    0\n",
            "Delay_from_due_date            0\n",
            "Num_of_Delayed_Payment      7002\n",
            "Num_Credit_Inquiries        1965\n",
            "Credit_Mix                     0\n",
            "Outstanding_Debt               0\n",
            "Credit_Utilization_Ratio       0\n",
            "Credit_History_Age             0\n",
            "Payment_of_Min_Amount          0\n",
            "Total_EMI_per_month            0\n",
            "Amount_invested_monthly     4479\n",
            "Payment_Behaviour              0\n",
            "Monthly_Balance             1200\n",
            "Credit_Score                   0\n",
            "dtype: int64\n"
          ]
        }
      ],
      "source": [
        "print(train_data.isnull().sum())"
      ]
    },
    {
      "cell_type": "code",
      "execution_count": 72,
      "id": "7a248215",
      "metadata": {
        "id": "7a248215"
      },
      "outputs": [],
      "source": [
        "# Separando features e target\n",
        "X = train_data.drop(['Credit_Score'], axis=1)\n",
        "y = train_data['Credit_Score']"
      ]
    },
    {
      "cell_type": "code",
      "execution_count": 73,
      "id": "cd62b931",
      "metadata": {},
      "outputs": [
        {
          "name": "stdout",
          "output_type": "stream",
          "text": [
            "Arquivos salvos como quantum_finance_train_processed.csv e quantum_finance_test_processed.csv\n"
          ]
        }
      ],
      "source": [
        "# Salvar processados\n",
        "train_data.to_csv(\"../data/processed/quantum_finance_train_processed.csv\", index=False)\n",
        "test_data.to_csv(\"../data/processed/quantum_finance_test_processed.csv\", index=False)\n",
        "print(\"Arquivos salvos como quantum_finance_train_processed.csv e quantum_finance_test_processed.csv\")"
      ]
    }
  ],
  "metadata": {
    "colab": {
      "provenance": []
    },
    "kernelspec": {
      "display_name": ".venv",
      "language": "python",
      "name": "python3"
    },
    "language_info": {
      "codemirror_mode": {
        "name": "ipython",
        "version": 3
      },
      "file_extension": ".py",
      "mimetype": "text/x-python",
      "name": "python",
      "nbconvert_exporter": "python",
      "pygments_lexer": "ipython3",
      "version": "3.11.9"
    }
  },
  "nbformat": 4,
  "nbformat_minor": 5
}
