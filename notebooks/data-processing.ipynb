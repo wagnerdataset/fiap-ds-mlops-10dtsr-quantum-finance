{
 "cells": [
  {
   "cell_type": "markdown",
   "id": "9c6e0870",
   "metadata": {},
   "source": [
    "# Exploração e Processamento de Dados para Classificação de Score de Crédito"
   ]
  },
  {
   "cell_type": "code",
   "execution_count": 6,
   "id": "3eb5de94",
   "metadata": {},
   "outputs": [
    {
     "name": "stderr",
     "output_type": "stream",
     "text": [
      "C:\\Users\\wagne\\AppData\\Local\\Temp\\ipykernel_6356\\2197089559.py:6: DtypeWarning: Columns (26) have mixed types. Specify dtype option on import or set low_memory=False.\n",
      "  df_train = pd.read_csv(\"../data/raw/credit_score_train.csv\")\n"
     ]
    },
    {
     "name": "stdout",
     "output_type": "stream",
     "text": [
      "Shape train: (100000, 28)\n",
      "Shape test: (50000, 27)\n"
     ]
    }
   ],
   "source": [
    "\n",
    "import pandas as pd\n",
    "import numpy as np\n",
    "import re\n",
    "\n",
    "# Carregar dados\n",
    "df_train = pd.read_csv(\"../data/raw/credit_score_train.csv\")\n",
    "df_test = pd.read_csv(\"../data/raw/credit_score_test.csv\")\n",
    "print(\"Shape train:\", df_train.shape)\n",
    "print(\"Shape test:\", df_test.shape)\n"
   ]
  },
  {
   "cell_type": "markdown",
   "id": "3d3ca88a",
   "metadata": {},
   "source": [
    "## Conversões de tipos e limpeza de colunas numéricas"
   ]
  },
  {
   "cell_type": "code",
   "execution_count": 7,
   "id": "13296308",
   "metadata": {},
   "outputs": [],
   "source": [
    "\n",
    "def to_float(val):\n",
    "    try:\n",
    "        return float(str(val).replace(\"_\", \"\").replace(\",\", \"\"))\n",
    "    except:\n",
    "        return np.nan\n",
    "\n",
    "def extract_months(age_str):\n",
    "    if isinstance(age_str, str):\n",
    "        match = re.search(r\"(\\d+)\\s*Years?.*?(\\d+)?\\s*Months?\", age_str)\n",
    "        if match:\n",
    "            years = int(match.group(1))\n",
    "            months = int(match.group(2)) if match.group(2) else 0\n",
    "            return years * 12 + months\n",
    "    return np.nan\n",
    "\n",
    "def to_numeric(val):\n",
    "    try:\n",
    "        return pd.to_numeric(val)\n",
    "    except:\n",
    "        return np.nan\n",
    "\n",
    "# Conversões\n",
    "cols_to_float = ['Annual_Income', 'Outstanding_Debt', 'Amount_invested_monthly', 'Monthly_Balance']\n",
    "for col in cols_to_float:\n",
    "    df_train[col] = df_train[col].apply(to_float)\n",
    "    df_test[col] = df_test[col].apply(to_float)\n",
    "\n",
    "df_train['Age'] = df_train['Age'].apply(to_numeric)\n",
    "df_test['Age'] = df_test['Age'].apply(to_numeric)\n",
    "\n",
    "df_train['Num_of_Loan'] = df_train['Num_of_Loan'].apply(to_numeric)\n",
    "df_test['Num_of_Loan'] = df_test['Num_of_Loan'].apply(to_numeric)\n",
    "\n",
    "df_train['Num_of_Delayed_Payment'] = df_train['Num_of_Delayed_Payment'].apply(to_numeric)\n",
    "df_test['Num_of_Delayed_Payment'] = df_test['Num_of_Delayed_Payment'].apply(to_numeric)\n",
    "\n",
    "df_train['Credit_History_Age'] = df_train['Credit_History_Age'].apply(extract_months)\n",
    "df_test['Credit_History_Age'] = df_test['Credit_History_Age'].apply(extract_months)\n"
   ]
  },
  {
   "cell_type": "markdown",
   "id": "1bc93be0",
   "metadata": {},
   "source": [
    "## Tratamento de valores ausentes"
   ]
  },
  {
   "cell_type": "code",
   "execution_count": 8,
   "id": "e870b5a5",
   "metadata": {},
   "outputs": [
    {
     "name": "stderr",
     "output_type": "stream",
     "text": [
      "C:\\Users\\wagne\\AppData\\Local\\Temp\\ipykernel_6356\\474719650.py:7: FutureWarning: A value is trying to be set on a copy of a DataFrame or Series through chained assignment using an inplace method.\n",
      "The behavior will change in pandas 3.0. This inplace method will never work because the intermediate object on which we are setting values always behaves as a copy.\n",
      "\n",
      "For example, when doing 'df[col].method(value, inplace=True)', try using 'df.method({col: value}, inplace=True)' or df[col] = df[col].method(value) instead, to perform the operation inplace on the original object.\n",
      "\n",
      "\n",
      "  df_train[col].fillna(mean_val, inplace=True)\n",
      "C:\\Users\\wagne\\AppData\\Local\\Temp\\ipykernel_6356\\474719650.py:9: FutureWarning: A value is trying to be set on a copy of a DataFrame or Series through chained assignment using an inplace method.\n",
      "The behavior will change in pandas 3.0. This inplace method will never work because the intermediate object on which we are setting values always behaves as a copy.\n",
      "\n",
      "For example, when doing 'df[col].method(value, inplace=True)', try using 'df.method({col: value}, inplace=True)' or df[col] = df[col].method(value) instead, to perform the operation inplace on the original object.\n",
      "\n",
      "\n",
      "  df_test[col].fillna(mean_val, inplace=True)\n",
      "C:\\Users\\wagne\\AppData\\Local\\Temp\\ipykernel_6356\\474719650.py:12: FutureWarning: A value is trying to be set on a copy of a DataFrame or Series through chained assignment using an inplace method.\n",
      "The behavior will change in pandas 3.0. This inplace method will never work because the intermediate object on which we are setting values always behaves as a copy.\n",
      "\n",
      "For example, when doing 'df[col].method(value, inplace=True)', try using 'df.method({col: value}, inplace=True)' or df[col] = df[col].method(value) instead, to perform the operation inplace on the original object.\n",
      "\n",
      "\n",
      "  df_train[col].fillna(\"Unknown\", inplace=True)\n",
      "C:\\Users\\wagne\\AppData\\Local\\Temp\\ipykernel_6356\\474719650.py:14: FutureWarning: A value is trying to be set on a copy of a DataFrame or Series through chained assignment using an inplace method.\n",
      "The behavior will change in pandas 3.0. This inplace method will never work because the intermediate object on which we are setting values always behaves as a copy.\n",
      "\n",
      "For example, when doing 'df[col].method(value, inplace=True)', try using 'df.method({col: value}, inplace=True)' or df[col] = df[col].method(value) instead, to perform the operation inplace on the original object.\n",
      "\n",
      "\n",
      "  df_test[col].fillna(\"Unknown\", inplace=True)\n"
     ]
    }
   ],
   "source": [
    "\n",
    "# Preencher valores ausentes com média (numéricos) e 'Unknown' (categóricos)\n",
    "num_cols = df_train.select_dtypes(include=[np.number]).columns\n",
    "cat_cols = df_train.select_dtypes(include=['object']).columns.drop(['Credit_Score'])\n",
    "\n",
    "for col in num_cols:\n",
    "    mean_val = df_train[col].mean()\n",
    "    df_train[col].fillna(mean_val, inplace=True)\n",
    "    if col in df_test.columns:\n",
    "        df_test[col].fillna(mean_val, inplace=True)\n",
    "\n",
    "for col in cat_cols:\n",
    "    df_train[col].fillna(\"Unknown\", inplace=True)\n",
    "    if col in df_test.columns:\n",
    "        df_test[col].fillna(\"Unknown\", inplace=True)\n"
   ]
  },
  {
   "cell_type": "markdown",
   "id": "9dde6cef",
   "metadata": {},
   "source": [
    "## Transformação da variável alvo"
   ]
  },
  {
   "cell_type": "code",
   "execution_count": 9,
   "id": "7e706a48",
   "metadata": {},
   "outputs": [
    {
     "data": {
      "text/plain": [
       "{'Good': np.int64(0), 'Poor': np.int64(1), 'Standard': np.int64(2)}"
      ]
     },
     "execution_count": 9,
     "metadata": {},
     "output_type": "execute_result"
    }
   ],
   "source": [
    "\n",
    "from sklearn.preprocessing import LabelEncoder\n",
    "\n",
    "label_encoder = LabelEncoder()\n",
    "df_train['Credit_Score_Label'] = label_encoder.fit_transform(df_train['Credit_Score'])\n",
    "\n",
    "# Exibir classes\n",
    "dict(zip(label_encoder.classes_, label_encoder.transform(label_encoder.classes_)))\n"
   ]
  },
  {
   "cell_type": "markdown",
   "id": "e6a7201c",
   "metadata": {},
   "source": [
    "## Seleção de colunas relevantes e exportação"
   ]
  },
  {
   "cell_type": "code",
   "execution_count": null,
   "id": "27d420ea",
   "metadata": {},
   "outputs": [
    {
     "name": "stdout",
     "output_type": "stream",
     "text": [
      "Arquivos salvos como train_processed.csv e test_processed.csv\n"
     ]
    }
   ],
   "source": [
    "\n",
    "# Remover colunas irrelevantes\n",
    "cols_to_remove = ['ID', 'Occupation', 'Customer_ID', 'Name', 'SSN', 'Month', 'Credit_Score']\n",
    "df_train_cleaned = df_train.drop(columns=cols_to_remove)\n",
    "df_test_cleaned = df_test.drop(columns=[col for col in cols_to_remove if col in df_test.columns])\n",
    "\n",
    "# Salvar processados\n",
    "df_train_cleaned.to_csv(\"../data/processed/quantum_finance_train_processed.csv\", index=False)\n",
    "df_test_cleaned.to_csv(\"../data/processed/quantum_finance_test_processed.csv\", index=False)\n",
    "print(\"Arquivos salvos como quantum_finance_train_processed.csv e quantum_finance_test_processed.csv\")\n"
   ]
  }
 ],
 "metadata": {
  "kernelspec": {
   "display_name": ".venv",
   "language": "python",
   "name": "python3"
  },
  "language_info": {
   "codemirror_mode": {
    "name": "ipython",
    "version": 3
   },
   "file_extension": ".py",
   "mimetype": "text/x-python",
   "name": "python",
   "nbconvert_exporter": "python",
   "pygments_lexer": "ipython3",
   "version": "3.11.9"
  }
 },
 "nbformat": 4,
 "nbformat_minor": 5
}
