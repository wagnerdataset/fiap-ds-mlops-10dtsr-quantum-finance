{
  "cells": [
    {
      "cell_type": "markdown",
      "id": "7bfe563f-2354-41f1-9a01-ed484767ed11",
      "metadata": {
        "id": "7bfe563f-2354-41f1-9a01-ed484767ed11"
      },
      "source": [
        "# Trabalho Final - Machine Learning\n",
        "\n",
        "* Arthur Bernardes Suematsu\n",
        "* Eduardo Henrique Silva Souza\n",
        "* Gustavo Almeida Brezzi\n",
        "* Wagner Sanches Gonçalves"
      ]
    },
    {
      "cell_type": "markdown",
      "id": "785145b6-ec24-45e8-a6db-c9b65c177dca",
      "metadata": {
        "id": "785145b6-ec24-45e8-a6db-c9b65c177dca"
      },
      "source": [
        "Neste trabalho, como parte do time de analistas da Quantum Finance, vocês deverão explorar uma base de dados originalmente utilizada para classificação de score de crédito, disponível no Kaggle (https://www.kaggle.com/datasets/parisrohan/credit-score-classification), utilizando técnicas de Análise Exploratória de Dados (EDA) e algoritmos de Machine Learning supervisionados.\n",
        "\n",
        "\n",
        "O objetivo é aplicar e interpretar os resultados obtidos, assim como criar um sistema que gere valor a partir da análise da base de dados.\n",
        "\n",
        "**Modelo de Classificação Supervisionada**\n",
        "\n",
        "\n",
        "Desenvolver um modelo de classificação supervisionada para prever a classificação de crédito dos indivíduos presentes na base.\n",
        "\n",
        "\n",
        "Passos esperados:\n",
        "\n",
        "1. Realizar uma análise exploratória dos dados (EDA) para entender as características principais da base e as relações entre variáveis; 2 pontos\n",
        "\n",
        "2. Implementar um pipeline de modelo de classificação usando Random Forest, XGBoost e LightGBM. Use GridSearch para otimizar os parametros de cada modelo; 4 pontos\n",
        "\n",
        "3. Avaliar os resultados utilizando a métrica mais adequada e **justifique** sua escolha; 2 pontos\n",
        "\n",
        "4. Apresentar os resultados, indicando a métrica no conjunto de treino (train.csv) e explicar como o modelo pode ser utilizado para decisões financeiras. 2 pontos\n",
        "\n",
        "\n",
        "Entregáveis:\n",
        "\n",
        "1. Este jupyter notebook executado e com os resultados aparentes (não serão aceitoa outros formatos)"
      ]
    },
    {
      "cell_type": "markdown",
      "id": "06e0b846",
      "metadata": {
        "id": "06e0b846"
      },
      "source": [
        "### Importação das bibliotecas necessárias"
      ]
    },
    {
      "cell_type": "code",
      "execution_count": 5,
      "id": "02363993",
      "metadata": {
        "id": "02363993"
      },
      "outputs": [],
      "source": [
        "import pandas as pd\n",
        "import numpy as np\n",
        "import matplotlib.pyplot as plt\n",
        "import seaborn as sns\n",
        "from sklearn.model_selection import  GridSearchCV\n",
        "from sklearn.preprocessing import StandardScaler, LabelEncoder\n",
        "from sklearn.compose import ColumnTransformer\n",
        "from sklearn.pipeline import Pipeline\n",
        "from sklearn.impute import SimpleImputer\n",
        "from sklearn.ensemble import RandomForestClassifier\n",
        "from sklearn.metrics import make_scorer, classification_report, confusion_matrix, accuracy_score, f1_score, precision_score, recall_score, roc_auc_score\n",
        "import xgboost as xgb\n",
        "import lightgbm as lgb\n",
        "import warnings\n",
        "warnings.filterwarnings('ignore')"
      ]
    },
    {
      "cell_type": "markdown",
      "id": "691e2b5e",
      "metadata": {
        "id": "691e2b5e"
      },
      "source": [
        "### Carregamento e exploração inicial dos dados"
      ]
    },
    {
      "cell_type": "code",
      "execution_count": 6,
      "id": "99e636e3",
      "metadata": {
        "colab": {
          "base_uri": "https://localhost:8080/"
        },
        "id": "99e636e3",
        "outputId": "97cfb66a-4df5-41f6-cc54-f5117900f138"
      },
      "outputs": [
        {
          "output_type": "stream",
          "name": "stdout",
          "text": [
            "Dimensões do conjunto de treino: (13524, 28)\n",
            "Dimensões do conjunto de teste: (13685, 27)\n"
          ]
        }
      ],
      "source": [
        "train_data = pd.read_csv('train.csv')\n",
        "test_data = pd.read_csv('test.csv')\n",
        "\n",
        "# Verificando as dimensões dos dados\n",
        "print(f\"Dimensões do conjunto de treino: {train_data.shape}\")\n",
        "print(f\"Dimensões do conjunto de teste: {test_data.shape}\")"
      ]
    },
    {
      "cell_type": "code",
      "execution_count": 7,
      "id": "8bcb446d",
      "metadata": {
        "colab": {
          "base_uri": "https://localhost:8080/",
          "height": 429
        },
        "id": "8bcb446d",
        "outputId": "64a08979-589b-495d-b630-d23bc153b1ee"
      },
      "outputs": [
        {
          "output_type": "execute_result",
          "data": {
            "text/plain": [
              "       ID Customer_ID     Month           Name   Age          SSN Occupation  \\\n",
              "0  0x1602   CUS_0xd40   January  Aaron Maashoh    23  821-00-0265  Scientist   \n",
              "1  0x1603   CUS_0xd40  February  Aaron Maashoh    23  821-00-0265  Scientist   \n",
              "2  0x1604   CUS_0xd40     March  Aaron Maashoh  -500  821-00-0265  Scientist   \n",
              "3  0x1605   CUS_0xd40     April  Aaron Maashoh    23  821-00-0265  Scientist   \n",
              "4  0x1606   CUS_0xd40       May  Aaron Maashoh    23  821-00-0265  Scientist   \n",
              "\n",
              "  Annual_Income  Monthly_Inhand_Salary  Num_Bank_Accounts  ...  Credit_Mix  \\\n",
              "0      19114.12            1824.843333                3.0  ...           _   \n",
              "1      19114.12                    NaN                3.0  ...        Good   \n",
              "2      19114.12                    NaN                3.0  ...        Good   \n",
              "3      19114.12                    NaN                3.0  ...        Good   \n",
              "4      19114.12            1824.843333                3.0  ...        Good   \n",
              "\n",
              "   Outstanding_Debt Credit_Utilization_Ratio     Credit_History_Age  \\\n",
              "0            809.98                26.822620  22 Years and 1 Months   \n",
              "1            809.98                31.944960                    NaN   \n",
              "2            809.98                28.609352  22 Years and 3 Months   \n",
              "3            809.98                31.377862  22 Years and 4 Months   \n",
              "4            809.98                24.797347  22 Years and 5 Months   \n",
              "\n",
              "   Payment_of_Min_Amount Total_EMI_per_month Amount_invested_monthly  \\\n",
              "0                     No           49.574949       80.41529543900253   \n",
              "1                     No           49.574949      118.28022162236736   \n",
              "2                     No           49.574949         81.699521264648   \n",
              "3                     No           49.574949       199.4580743910713   \n",
              "4                     No           49.574949      41.420153086217326   \n",
              "\n",
              "                  Payment_Behaviour     Monthly_Balance Credit_Score  \n",
              "0   High_spent_Small_value_payments  312.49408867943663         Good  \n",
              "1    Low_spent_Large_value_payments  284.62916249607184         Good  \n",
              "2   Low_spent_Medium_value_payments   331.2098628537912         Good  \n",
              "3    Low_spent_Small_value_payments  223.45130972736786         Good  \n",
              "4  High_spent_Medium_value_payments  341.48923103222177         Good  \n",
              "\n",
              "[5 rows x 28 columns]"
            ],
            "text/html": [
              "\n",
              "  <div id=\"df-bdc7d86b-9c01-480a-a818-8129264b6b1c\" class=\"colab-df-container\">\n",
              "    <div>\n",
              "<style scoped>\n",
              "    .dataframe tbody tr th:only-of-type {\n",
              "        vertical-align: middle;\n",
              "    }\n",
              "\n",
              "    .dataframe tbody tr th {\n",
              "        vertical-align: top;\n",
              "    }\n",
              "\n",
              "    .dataframe thead th {\n",
              "        text-align: right;\n",
              "    }\n",
              "</style>\n",
              "<table border=\"1\" class=\"dataframe\">\n",
              "  <thead>\n",
              "    <tr style=\"text-align: right;\">\n",
              "      <th></th>\n",
              "      <th>ID</th>\n",
              "      <th>Customer_ID</th>\n",
              "      <th>Month</th>\n",
              "      <th>Name</th>\n",
              "      <th>Age</th>\n",
              "      <th>SSN</th>\n",
              "      <th>Occupation</th>\n",
              "      <th>Annual_Income</th>\n",
              "      <th>Monthly_Inhand_Salary</th>\n",
              "      <th>Num_Bank_Accounts</th>\n",
              "      <th>...</th>\n",
              "      <th>Credit_Mix</th>\n",
              "      <th>Outstanding_Debt</th>\n",
              "      <th>Credit_Utilization_Ratio</th>\n",
              "      <th>Credit_History_Age</th>\n",
              "      <th>Payment_of_Min_Amount</th>\n",
              "      <th>Total_EMI_per_month</th>\n",
              "      <th>Amount_invested_monthly</th>\n",
              "      <th>Payment_Behaviour</th>\n",
              "      <th>Monthly_Balance</th>\n",
              "      <th>Credit_Score</th>\n",
              "    </tr>\n",
              "  </thead>\n",
              "  <tbody>\n",
              "    <tr>\n",
              "      <th>0</th>\n",
              "      <td>0x1602</td>\n",
              "      <td>CUS_0xd40</td>\n",
              "      <td>January</td>\n",
              "      <td>Aaron Maashoh</td>\n",
              "      <td>23</td>\n",
              "      <td>821-00-0265</td>\n",
              "      <td>Scientist</td>\n",
              "      <td>19114.12</td>\n",
              "      <td>1824.843333</td>\n",
              "      <td>3.0</td>\n",
              "      <td>...</td>\n",
              "      <td>_</td>\n",
              "      <td>809.98</td>\n",
              "      <td>26.822620</td>\n",
              "      <td>22 Years and 1 Months</td>\n",
              "      <td>No</td>\n",
              "      <td>49.574949</td>\n",
              "      <td>80.41529543900253</td>\n",
              "      <td>High_spent_Small_value_payments</td>\n",
              "      <td>312.49408867943663</td>\n",
              "      <td>Good</td>\n",
              "    </tr>\n",
              "    <tr>\n",
              "      <th>1</th>\n",
              "      <td>0x1603</td>\n",
              "      <td>CUS_0xd40</td>\n",
              "      <td>February</td>\n",
              "      <td>Aaron Maashoh</td>\n",
              "      <td>23</td>\n",
              "      <td>821-00-0265</td>\n",
              "      <td>Scientist</td>\n",
              "      <td>19114.12</td>\n",
              "      <td>NaN</td>\n",
              "      <td>3.0</td>\n",
              "      <td>...</td>\n",
              "      <td>Good</td>\n",
              "      <td>809.98</td>\n",
              "      <td>31.944960</td>\n",
              "      <td>NaN</td>\n",
              "      <td>No</td>\n",
              "      <td>49.574949</td>\n",
              "      <td>118.28022162236736</td>\n",
              "      <td>Low_spent_Large_value_payments</td>\n",
              "      <td>284.62916249607184</td>\n",
              "      <td>Good</td>\n",
              "    </tr>\n",
              "    <tr>\n",
              "      <th>2</th>\n",
              "      <td>0x1604</td>\n",
              "      <td>CUS_0xd40</td>\n",
              "      <td>March</td>\n",
              "      <td>Aaron Maashoh</td>\n",
              "      <td>-500</td>\n",
              "      <td>821-00-0265</td>\n",
              "      <td>Scientist</td>\n",
              "      <td>19114.12</td>\n",
              "      <td>NaN</td>\n",
              "      <td>3.0</td>\n",
              "      <td>...</td>\n",
              "      <td>Good</td>\n",
              "      <td>809.98</td>\n",
              "      <td>28.609352</td>\n",
              "      <td>22 Years and 3 Months</td>\n",
              "      <td>No</td>\n",
              "      <td>49.574949</td>\n",
              "      <td>81.699521264648</td>\n",
              "      <td>Low_spent_Medium_value_payments</td>\n",
              "      <td>331.2098628537912</td>\n",
              "      <td>Good</td>\n",
              "    </tr>\n",
              "    <tr>\n",
              "      <th>3</th>\n",
              "      <td>0x1605</td>\n",
              "      <td>CUS_0xd40</td>\n",
              "      <td>April</td>\n",
              "      <td>Aaron Maashoh</td>\n",
              "      <td>23</td>\n",
              "      <td>821-00-0265</td>\n",
              "      <td>Scientist</td>\n",
              "      <td>19114.12</td>\n",
              "      <td>NaN</td>\n",
              "      <td>3.0</td>\n",
              "      <td>...</td>\n",
              "      <td>Good</td>\n",
              "      <td>809.98</td>\n",
              "      <td>31.377862</td>\n",
              "      <td>22 Years and 4 Months</td>\n",
              "      <td>No</td>\n",
              "      <td>49.574949</td>\n",
              "      <td>199.4580743910713</td>\n",
              "      <td>Low_spent_Small_value_payments</td>\n",
              "      <td>223.45130972736786</td>\n",
              "      <td>Good</td>\n",
              "    </tr>\n",
              "    <tr>\n",
              "      <th>4</th>\n",
              "      <td>0x1606</td>\n",
              "      <td>CUS_0xd40</td>\n",
              "      <td>May</td>\n",
              "      <td>Aaron Maashoh</td>\n",
              "      <td>23</td>\n",
              "      <td>821-00-0265</td>\n",
              "      <td>Scientist</td>\n",
              "      <td>19114.12</td>\n",
              "      <td>1824.843333</td>\n",
              "      <td>3.0</td>\n",
              "      <td>...</td>\n",
              "      <td>Good</td>\n",
              "      <td>809.98</td>\n",
              "      <td>24.797347</td>\n",
              "      <td>22 Years and 5 Months</td>\n",
              "      <td>No</td>\n",
              "      <td>49.574949</td>\n",
              "      <td>41.420153086217326</td>\n",
              "      <td>High_spent_Medium_value_payments</td>\n",
              "      <td>341.48923103222177</td>\n",
              "      <td>Good</td>\n",
              "    </tr>\n",
              "  </tbody>\n",
              "</table>\n",
              "<p>5 rows × 28 columns</p>\n",
              "</div>\n",
              "    <div class=\"colab-df-buttons\">\n",
              "\n",
              "  <div class=\"colab-df-container\">\n",
              "    <button class=\"colab-df-convert\" onclick=\"convertToInteractive('df-bdc7d86b-9c01-480a-a818-8129264b6b1c')\"\n",
              "            title=\"Convert this dataframe to an interactive table.\"\n",
              "            style=\"display:none;\">\n",
              "\n",
              "  <svg xmlns=\"http://www.w3.org/2000/svg\" height=\"24px\" viewBox=\"0 -960 960 960\">\n",
              "    <path d=\"M120-120v-720h720v720H120Zm60-500h600v-160H180v160Zm220 220h160v-160H400v160Zm0 220h160v-160H400v160ZM180-400h160v-160H180v160Zm440 0h160v-160H620v160ZM180-180h160v-160H180v160Zm440 0h160v-160H620v160Z\"/>\n",
              "  </svg>\n",
              "    </button>\n",
              "\n",
              "  <style>\n",
              "    .colab-df-container {\n",
              "      display:flex;\n",
              "      gap: 12px;\n",
              "    }\n",
              "\n",
              "    .colab-df-convert {\n",
              "      background-color: #E8F0FE;\n",
              "      border: none;\n",
              "      border-radius: 50%;\n",
              "      cursor: pointer;\n",
              "      display: none;\n",
              "      fill: #1967D2;\n",
              "      height: 32px;\n",
              "      padding: 0 0 0 0;\n",
              "      width: 32px;\n",
              "    }\n",
              "\n",
              "    .colab-df-convert:hover {\n",
              "      background-color: #E2EBFA;\n",
              "      box-shadow: 0px 1px 2px rgba(60, 64, 67, 0.3), 0px 1px 3px 1px rgba(60, 64, 67, 0.15);\n",
              "      fill: #174EA6;\n",
              "    }\n",
              "\n",
              "    .colab-df-buttons div {\n",
              "      margin-bottom: 4px;\n",
              "    }\n",
              "\n",
              "    [theme=dark] .colab-df-convert {\n",
              "      background-color: #3B4455;\n",
              "      fill: #D2E3FC;\n",
              "    }\n",
              "\n",
              "    [theme=dark] .colab-df-convert:hover {\n",
              "      background-color: #434B5C;\n",
              "      box-shadow: 0px 1px 3px 1px rgba(0, 0, 0, 0.15);\n",
              "      filter: drop-shadow(0px 1px 2px rgba(0, 0, 0, 0.3));\n",
              "      fill: #FFFFFF;\n",
              "    }\n",
              "  </style>\n",
              "\n",
              "    <script>\n",
              "      const buttonEl =\n",
              "        document.querySelector('#df-bdc7d86b-9c01-480a-a818-8129264b6b1c button.colab-df-convert');\n",
              "      buttonEl.style.display =\n",
              "        google.colab.kernel.accessAllowed ? 'block' : 'none';\n",
              "\n",
              "      async function convertToInteractive(key) {\n",
              "        const element = document.querySelector('#df-bdc7d86b-9c01-480a-a818-8129264b6b1c');\n",
              "        const dataTable =\n",
              "          await google.colab.kernel.invokeFunction('convertToInteractive',\n",
              "                                                    [key], {});\n",
              "        if (!dataTable) return;\n",
              "\n",
              "        const docLinkHtml = 'Like what you see? Visit the ' +\n",
              "          '<a target=\"_blank\" href=https://colab.research.google.com/notebooks/data_table.ipynb>data table notebook</a>'\n",
              "          + ' to learn more about interactive tables.';\n",
              "        element.innerHTML = '';\n",
              "        dataTable['output_type'] = 'display_data';\n",
              "        await google.colab.output.renderOutput(dataTable, element);\n",
              "        const docLink = document.createElement('div');\n",
              "        docLink.innerHTML = docLinkHtml;\n",
              "        element.appendChild(docLink);\n",
              "      }\n",
              "    </script>\n",
              "  </div>\n",
              "\n",
              "\n",
              "    <div id=\"df-f9ca4b2f-663f-4697-9b02-3873fa10d611\">\n",
              "      <button class=\"colab-df-quickchart\" onclick=\"quickchart('df-f9ca4b2f-663f-4697-9b02-3873fa10d611')\"\n",
              "                title=\"Suggest charts\"\n",
              "                style=\"display:none;\">\n",
              "\n",
              "<svg xmlns=\"http://www.w3.org/2000/svg\" height=\"24px\"viewBox=\"0 0 24 24\"\n",
              "     width=\"24px\">\n",
              "    <g>\n",
              "        <path d=\"M19 3H5c-1.1 0-2 .9-2 2v14c0 1.1.9 2 2 2h14c1.1 0 2-.9 2-2V5c0-1.1-.9-2-2-2zM9 17H7v-7h2v7zm4 0h-2V7h2v10zm4 0h-2v-4h2v4z\"/>\n",
              "    </g>\n",
              "</svg>\n",
              "      </button>\n",
              "\n",
              "<style>\n",
              "  .colab-df-quickchart {\n",
              "      --bg-color: #E8F0FE;\n",
              "      --fill-color: #1967D2;\n",
              "      --hover-bg-color: #E2EBFA;\n",
              "      --hover-fill-color: #174EA6;\n",
              "      --disabled-fill-color: #AAA;\n",
              "      --disabled-bg-color: #DDD;\n",
              "  }\n",
              "\n",
              "  [theme=dark] .colab-df-quickchart {\n",
              "      --bg-color: #3B4455;\n",
              "      --fill-color: #D2E3FC;\n",
              "      --hover-bg-color: #434B5C;\n",
              "      --hover-fill-color: #FFFFFF;\n",
              "      --disabled-bg-color: #3B4455;\n",
              "      --disabled-fill-color: #666;\n",
              "  }\n",
              "\n",
              "  .colab-df-quickchart {\n",
              "    background-color: var(--bg-color);\n",
              "    border: none;\n",
              "    border-radius: 50%;\n",
              "    cursor: pointer;\n",
              "    display: none;\n",
              "    fill: var(--fill-color);\n",
              "    height: 32px;\n",
              "    padding: 0;\n",
              "    width: 32px;\n",
              "  }\n",
              "\n",
              "  .colab-df-quickchart:hover {\n",
              "    background-color: var(--hover-bg-color);\n",
              "    box-shadow: 0 1px 2px rgba(60, 64, 67, 0.3), 0 1px 3px 1px rgba(60, 64, 67, 0.15);\n",
              "    fill: var(--button-hover-fill-color);\n",
              "  }\n",
              "\n",
              "  .colab-df-quickchart-complete:disabled,\n",
              "  .colab-df-quickchart-complete:disabled:hover {\n",
              "    background-color: var(--disabled-bg-color);\n",
              "    fill: var(--disabled-fill-color);\n",
              "    box-shadow: none;\n",
              "  }\n",
              "\n",
              "  .colab-df-spinner {\n",
              "    border: 2px solid var(--fill-color);\n",
              "    border-color: transparent;\n",
              "    border-bottom-color: var(--fill-color);\n",
              "    animation:\n",
              "      spin 1s steps(1) infinite;\n",
              "  }\n",
              "\n",
              "  @keyframes spin {\n",
              "    0% {\n",
              "      border-color: transparent;\n",
              "      border-bottom-color: var(--fill-color);\n",
              "      border-left-color: var(--fill-color);\n",
              "    }\n",
              "    20% {\n",
              "      border-color: transparent;\n",
              "      border-left-color: var(--fill-color);\n",
              "      border-top-color: var(--fill-color);\n",
              "    }\n",
              "    30% {\n",
              "      border-color: transparent;\n",
              "      border-left-color: var(--fill-color);\n",
              "      border-top-color: var(--fill-color);\n",
              "      border-right-color: var(--fill-color);\n",
              "    }\n",
              "    40% {\n",
              "      border-color: transparent;\n",
              "      border-right-color: var(--fill-color);\n",
              "      border-top-color: var(--fill-color);\n",
              "    }\n",
              "    60% {\n",
              "      border-color: transparent;\n",
              "      border-right-color: var(--fill-color);\n",
              "    }\n",
              "    80% {\n",
              "      border-color: transparent;\n",
              "      border-right-color: var(--fill-color);\n",
              "      border-bottom-color: var(--fill-color);\n",
              "    }\n",
              "    90% {\n",
              "      border-color: transparent;\n",
              "      border-bottom-color: var(--fill-color);\n",
              "    }\n",
              "  }\n",
              "</style>\n",
              "\n",
              "      <script>\n",
              "        async function quickchart(key) {\n",
              "          const quickchartButtonEl =\n",
              "            document.querySelector('#' + key + ' button');\n",
              "          quickchartButtonEl.disabled = true;  // To prevent multiple clicks.\n",
              "          quickchartButtonEl.classList.add('colab-df-spinner');\n",
              "          try {\n",
              "            const charts = await google.colab.kernel.invokeFunction(\n",
              "                'suggestCharts', [key], {});\n",
              "          } catch (error) {\n",
              "            console.error('Error during call to suggestCharts:', error);\n",
              "          }\n",
              "          quickchartButtonEl.classList.remove('colab-df-spinner');\n",
              "          quickchartButtonEl.classList.add('colab-df-quickchart-complete');\n",
              "        }\n",
              "        (() => {\n",
              "          let quickchartButtonEl =\n",
              "            document.querySelector('#df-f9ca4b2f-663f-4697-9b02-3873fa10d611 button');\n",
              "          quickchartButtonEl.style.display =\n",
              "            google.colab.kernel.accessAllowed ? 'block' : 'none';\n",
              "        })();\n",
              "      </script>\n",
              "    </div>\n",
              "\n",
              "    </div>\n",
              "  </div>\n"
            ],
            "application/vnd.google.colaboratory.intrinsic+json": {
              "type": "dataframe",
              "variable_name": "train_data"
            }
          },
          "metadata": {},
          "execution_count": 7
        }
      ],
      "source": [
        "train_data.head()"
      ]
    },
    {
      "cell_type": "code",
      "execution_count": 8,
      "id": "5024b8a6",
      "metadata": {
        "colab": {
          "base_uri": "https://localhost:8080/"
        },
        "id": "5024b8a6",
        "outputId": "e771cadf-9dd5-4e82-88ae-678540032fbe"
      },
      "outputs": [
        {
          "output_type": "execute_result",
          "data": {
            "text/plain": [
              "['ID',\n",
              " 'Customer_ID',\n",
              " 'Month',\n",
              " 'Name',\n",
              " 'Age',\n",
              " 'SSN',\n",
              " 'Occupation',\n",
              " 'Annual_Income',\n",
              " 'Monthly_Inhand_Salary',\n",
              " 'Num_Bank_Accounts',\n",
              " 'Num_Credit_Card',\n",
              " 'Interest_Rate',\n",
              " 'Num_of_Loan',\n",
              " 'Type_of_Loan',\n",
              " 'Delay_from_due_date',\n",
              " 'Num_of_Delayed_Payment',\n",
              " 'Changed_Credit_Limit',\n",
              " 'Num_Credit_Inquiries',\n",
              " 'Credit_Mix',\n",
              " 'Outstanding_Debt',\n",
              " 'Credit_Utilization_Ratio',\n",
              " 'Credit_History_Age',\n",
              " 'Payment_of_Min_Amount',\n",
              " 'Total_EMI_per_month',\n",
              " 'Amount_invested_monthly',\n",
              " 'Payment_Behaviour',\n",
              " 'Monthly_Balance',\n",
              " 'Credit_Score']"
            ]
          },
          "metadata": {},
          "execution_count": 8
        }
      ],
      "source": [
        "train_data.columns.tolist()\n"
      ]
    },
    {
      "cell_type": "code",
      "execution_count": 9,
      "id": "f7c49f56",
      "metadata": {
        "colab": {
          "base_uri": "https://localhost:8080/",
          "height": 429
        },
        "id": "f7c49f56",
        "outputId": "0b2d721f-46dd-4451-a173-378f56db8c2f"
      },
      "outputs": [
        {
          "output_type": "execute_result",
          "data": {
            "text/plain": [
              "       ID Customer_ID      Month             Name  Age          SSN  \\\n",
              "0  0x160a   CUS_0xd40  September    Aaron Maashoh   23  821-00-0265   \n",
              "1  0x160b   CUS_0xd40    October    Aaron Maashoh   24  821-00-0265   \n",
              "2  0x160c   CUS_0xd40   November    Aaron Maashoh   24  821-00-0265   \n",
              "3  0x160d   CUS_0xd40   December    Aaron Maashoh  24_  821-00-0265   \n",
              "4  0x1616  CUS_0x21b1  September  Rick Rothackerj   28  004-07-5839   \n",
              "\n",
              "  Occupation Annual_Income  Monthly_Inhand_Salary  Num_Bank_Accounts  ...  \\\n",
              "0  Scientist      19114.12            1824.843333                3.0  ...   \n",
              "1  Scientist      19114.12            1824.843333                3.0  ...   \n",
              "2  Scientist      19114.12            1824.843333                3.0  ...   \n",
              "3  Scientist      19114.12                    NaN                3.0  ...   \n",
              "4    _______      34847.84            3037.986667                2.0  ...   \n",
              "\n",
              "   Num_Credit_Inquiries  Credit_Mix Outstanding_Debt Credit_Utilization_Ratio  \\\n",
              "0                2022.0        Good           809.98                35.030402   \n",
              "1                   4.0        Good           809.98                33.053114   \n",
              "2                   4.0        Good           809.98                33.811894   \n",
              "3                   4.0        Good           809.98                32.430559   \n",
              "4                   5.0        Good           605.03                25.926822   \n",
              "\n",
              "       Credit_History_Age Payment_of_Min_Amount Total_EMI_per_month  \\\n",
              "0   22 Years and 9 Months                    No           49.574949   \n",
              "1  22 Years and 10 Months                    No           49.574949   \n",
              "2                     NaN                    No           49.574949   \n",
              "3   23 Years and 0 Months                    No           49.574949   \n",
              "4   27 Years and 3 Months                    No           18.816215   \n",
              "\n",
              "   Amount_invested_monthly                 Payment_Behaviour  \\\n",
              "0       236.64268203272135    Low_spent_Small_value_payments   \n",
              "1       21.465380264657146  High_spent_Medium_value_payments   \n",
              "2       148.23393788500925   Low_spent_Medium_value_payments   \n",
              "3        39.08251089460281  High_spent_Medium_value_payments   \n",
              "4       39.684018417945296   High_spent_Large_value_payments   \n",
              "\n",
              "      Monthly_Balance  \n",
              "0  186.26670208571772  \n",
              "1  361.44400385378196  \n",
              "2  264.67544623342997  \n",
              "3  343.82687322383634  \n",
              "4   485.2984336755923  \n",
              "\n",
              "[5 rows x 27 columns]"
            ],
            "text/html": [
              "\n",
              "  <div id=\"df-34dae538-c29a-45f5-a4b4-9633e09d12ca\" class=\"colab-df-container\">\n",
              "    <div>\n",
              "<style scoped>\n",
              "    .dataframe tbody tr th:only-of-type {\n",
              "        vertical-align: middle;\n",
              "    }\n",
              "\n",
              "    .dataframe tbody tr th {\n",
              "        vertical-align: top;\n",
              "    }\n",
              "\n",
              "    .dataframe thead th {\n",
              "        text-align: right;\n",
              "    }\n",
              "</style>\n",
              "<table border=\"1\" class=\"dataframe\">\n",
              "  <thead>\n",
              "    <tr style=\"text-align: right;\">\n",
              "      <th></th>\n",
              "      <th>ID</th>\n",
              "      <th>Customer_ID</th>\n",
              "      <th>Month</th>\n",
              "      <th>Name</th>\n",
              "      <th>Age</th>\n",
              "      <th>SSN</th>\n",
              "      <th>Occupation</th>\n",
              "      <th>Annual_Income</th>\n",
              "      <th>Monthly_Inhand_Salary</th>\n",
              "      <th>Num_Bank_Accounts</th>\n",
              "      <th>...</th>\n",
              "      <th>Num_Credit_Inquiries</th>\n",
              "      <th>Credit_Mix</th>\n",
              "      <th>Outstanding_Debt</th>\n",
              "      <th>Credit_Utilization_Ratio</th>\n",
              "      <th>Credit_History_Age</th>\n",
              "      <th>Payment_of_Min_Amount</th>\n",
              "      <th>Total_EMI_per_month</th>\n",
              "      <th>Amount_invested_monthly</th>\n",
              "      <th>Payment_Behaviour</th>\n",
              "      <th>Monthly_Balance</th>\n",
              "    </tr>\n",
              "  </thead>\n",
              "  <tbody>\n",
              "    <tr>\n",
              "      <th>0</th>\n",
              "      <td>0x160a</td>\n",
              "      <td>CUS_0xd40</td>\n",
              "      <td>September</td>\n",
              "      <td>Aaron Maashoh</td>\n",
              "      <td>23</td>\n",
              "      <td>821-00-0265</td>\n",
              "      <td>Scientist</td>\n",
              "      <td>19114.12</td>\n",
              "      <td>1824.843333</td>\n",
              "      <td>3.0</td>\n",
              "      <td>...</td>\n",
              "      <td>2022.0</td>\n",
              "      <td>Good</td>\n",
              "      <td>809.98</td>\n",
              "      <td>35.030402</td>\n",
              "      <td>22 Years and 9 Months</td>\n",
              "      <td>No</td>\n",
              "      <td>49.574949</td>\n",
              "      <td>236.64268203272135</td>\n",
              "      <td>Low_spent_Small_value_payments</td>\n",
              "      <td>186.26670208571772</td>\n",
              "    </tr>\n",
              "    <tr>\n",
              "      <th>1</th>\n",
              "      <td>0x160b</td>\n",
              "      <td>CUS_0xd40</td>\n",
              "      <td>October</td>\n",
              "      <td>Aaron Maashoh</td>\n",
              "      <td>24</td>\n",
              "      <td>821-00-0265</td>\n",
              "      <td>Scientist</td>\n",
              "      <td>19114.12</td>\n",
              "      <td>1824.843333</td>\n",
              "      <td>3.0</td>\n",
              "      <td>...</td>\n",
              "      <td>4.0</td>\n",
              "      <td>Good</td>\n",
              "      <td>809.98</td>\n",
              "      <td>33.053114</td>\n",
              "      <td>22 Years and 10 Months</td>\n",
              "      <td>No</td>\n",
              "      <td>49.574949</td>\n",
              "      <td>21.465380264657146</td>\n",
              "      <td>High_spent_Medium_value_payments</td>\n",
              "      <td>361.44400385378196</td>\n",
              "    </tr>\n",
              "    <tr>\n",
              "      <th>2</th>\n",
              "      <td>0x160c</td>\n",
              "      <td>CUS_0xd40</td>\n",
              "      <td>November</td>\n",
              "      <td>Aaron Maashoh</td>\n",
              "      <td>24</td>\n",
              "      <td>821-00-0265</td>\n",
              "      <td>Scientist</td>\n",
              "      <td>19114.12</td>\n",
              "      <td>1824.843333</td>\n",
              "      <td>3.0</td>\n",
              "      <td>...</td>\n",
              "      <td>4.0</td>\n",
              "      <td>Good</td>\n",
              "      <td>809.98</td>\n",
              "      <td>33.811894</td>\n",
              "      <td>NaN</td>\n",
              "      <td>No</td>\n",
              "      <td>49.574949</td>\n",
              "      <td>148.23393788500925</td>\n",
              "      <td>Low_spent_Medium_value_payments</td>\n",
              "      <td>264.67544623342997</td>\n",
              "    </tr>\n",
              "    <tr>\n",
              "      <th>3</th>\n",
              "      <td>0x160d</td>\n",
              "      <td>CUS_0xd40</td>\n",
              "      <td>December</td>\n",
              "      <td>Aaron Maashoh</td>\n",
              "      <td>24_</td>\n",
              "      <td>821-00-0265</td>\n",
              "      <td>Scientist</td>\n",
              "      <td>19114.12</td>\n",
              "      <td>NaN</td>\n",
              "      <td>3.0</td>\n",
              "      <td>...</td>\n",
              "      <td>4.0</td>\n",
              "      <td>Good</td>\n",
              "      <td>809.98</td>\n",
              "      <td>32.430559</td>\n",
              "      <td>23 Years and 0 Months</td>\n",
              "      <td>No</td>\n",
              "      <td>49.574949</td>\n",
              "      <td>39.08251089460281</td>\n",
              "      <td>High_spent_Medium_value_payments</td>\n",
              "      <td>343.82687322383634</td>\n",
              "    </tr>\n",
              "    <tr>\n",
              "      <th>4</th>\n",
              "      <td>0x1616</td>\n",
              "      <td>CUS_0x21b1</td>\n",
              "      <td>September</td>\n",
              "      <td>Rick Rothackerj</td>\n",
              "      <td>28</td>\n",
              "      <td>004-07-5839</td>\n",
              "      <td>_______</td>\n",
              "      <td>34847.84</td>\n",
              "      <td>3037.986667</td>\n",
              "      <td>2.0</td>\n",
              "      <td>...</td>\n",
              "      <td>5.0</td>\n",
              "      <td>Good</td>\n",
              "      <td>605.03</td>\n",
              "      <td>25.926822</td>\n",
              "      <td>27 Years and 3 Months</td>\n",
              "      <td>No</td>\n",
              "      <td>18.816215</td>\n",
              "      <td>39.684018417945296</td>\n",
              "      <td>High_spent_Large_value_payments</td>\n",
              "      <td>485.2984336755923</td>\n",
              "    </tr>\n",
              "  </tbody>\n",
              "</table>\n",
              "<p>5 rows × 27 columns</p>\n",
              "</div>\n",
              "    <div class=\"colab-df-buttons\">\n",
              "\n",
              "  <div class=\"colab-df-container\">\n",
              "    <button class=\"colab-df-convert\" onclick=\"convertToInteractive('df-34dae538-c29a-45f5-a4b4-9633e09d12ca')\"\n",
              "            title=\"Convert this dataframe to an interactive table.\"\n",
              "            style=\"display:none;\">\n",
              "\n",
              "  <svg xmlns=\"http://www.w3.org/2000/svg\" height=\"24px\" viewBox=\"0 -960 960 960\">\n",
              "    <path d=\"M120-120v-720h720v720H120Zm60-500h600v-160H180v160Zm220 220h160v-160H400v160Zm0 220h160v-160H400v160ZM180-400h160v-160H180v160Zm440 0h160v-160H620v160ZM180-180h160v-160H180v160Zm440 0h160v-160H620v160Z\"/>\n",
              "  </svg>\n",
              "    </button>\n",
              "\n",
              "  <style>\n",
              "    .colab-df-container {\n",
              "      display:flex;\n",
              "      gap: 12px;\n",
              "    }\n",
              "\n",
              "    .colab-df-convert {\n",
              "      background-color: #E8F0FE;\n",
              "      border: none;\n",
              "      border-radius: 50%;\n",
              "      cursor: pointer;\n",
              "      display: none;\n",
              "      fill: #1967D2;\n",
              "      height: 32px;\n",
              "      padding: 0 0 0 0;\n",
              "      width: 32px;\n",
              "    }\n",
              "\n",
              "    .colab-df-convert:hover {\n",
              "      background-color: #E2EBFA;\n",
              "      box-shadow: 0px 1px 2px rgba(60, 64, 67, 0.3), 0px 1px 3px 1px rgba(60, 64, 67, 0.15);\n",
              "      fill: #174EA6;\n",
              "    }\n",
              "\n",
              "    .colab-df-buttons div {\n",
              "      margin-bottom: 4px;\n",
              "    }\n",
              "\n",
              "    [theme=dark] .colab-df-convert {\n",
              "      background-color: #3B4455;\n",
              "      fill: #D2E3FC;\n",
              "    }\n",
              "\n",
              "    [theme=dark] .colab-df-convert:hover {\n",
              "      background-color: #434B5C;\n",
              "      box-shadow: 0px 1px 3px 1px rgba(0, 0, 0, 0.15);\n",
              "      filter: drop-shadow(0px 1px 2px rgba(0, 0, 0, 0.3));\n",
              "      fill: #FFFFFF;\n",
              "    }\n",
              "  </style>\n",
              "\n",
              "    <script>\n",
              "      const buttonEl =\n",
              "        document.querySelector('#df-34dae538-c29a-45f5-a4b4-9633e09d12ca button.colab-df-convert');\n",
              "      buttonEl.style.display =\n",
              "        google.colab.kernel.accessAllowed ? 'block' : 'none';\n",
              "\n",
              "      async function convertToInteractive(key) {\n",
              "        const element = document.querySelector('#df-34dae538-c29a-45f5-a4b4-9633e09d12ca');\n",
              "        const dataTable =\n",
              "          await google.colab.kernel.invokeFunction('convertToInteractive',\n",
              "                                                    [key], {});\n",
              "        if (!dataTable) return;\n",
              "\n",
              "        const docLinkHtml = 'Like what you see? Visit the ' +\n",
              "          '<a target=\"_blank\" href=https://colab.research.google.com/notebooks/data_table.ipynb>data table notebook</a>'\n",
              "          + ' to learn more about interactive tables.';\n",
              "        element.innerHTML = '';\n",
              "        dataTable['output_type'] = 'display_data';\n",
              "        await google.colab.output.renderOutput(dataTable, element);\n",
              "        const docLink = document.createElement('div');\n",
              "        docLink.innerHTML = docLinkHtml;\n",
              "        element.appendChild(docLink);\n",
              "      }\n",
              "    </script>\n",
              "  </div>\n",
              "\n",
              "\n",
              "    <div id=\"df-721db0f9-a0cd-4f54-91c5-48c92dae003b\">\n",
              "      <button class=\"colab-df-quickchart\" onclick=\"quickchart('df-721db0f9-a0cd-4f54-91c5-48c92dae003b')\"\n",
              "                title=\"Suggest charts\"\n",
              "                style=\"display:none;\">\n",
              "\n",
              "<svg xmlns=\"http://www.w3.org/2000/svg\" height=\"24px\"viewBox=\"0 0 24 24\"\n",
              "     width=\"24px\">\n",
              "    <g>\n",
              "        <path d=\"M19 3H5c-1.1 0-2 .9-2 2v14c0 1.1.9 2 2 2h14c1.1 0 2-.9 2-2V5c0-1.1-.9-2-2-2zM9 17H7v-7h2v7zm4 0h-2V7h2v10zm4 0h-2v-4h2v4z\"/>\n",
              "    </g>\n",
              "</svg>\n",
              "      </button>\n",
              "\n",
              "<style>\n",
              "  .colab-df-quickchart {\n",
              "      --bg-color: #E8F0FE;\n",
              "      --fill-color: #1967D2;\n",
              "      --hover-bg-color: #E2EBFA;\n",
              "      --hover-fill-color: #174EA6;\n",
              "      --disabled-fill-color: #AAA;\n",
              "      --disabled-bg-color: #DDD;\n",
              "  }\n",
              "\n",
              "  [theme=dark] .colab-df-quickchart {\n",
              "      --bg-color: #3B4455;\n",
              "      --fill-color: #D2E3FC;\n",
              "      --hover-bg-color: #434B5C;\n",
              "      --hover-fill-color: #FFFFFF;\n",
              "      --disabled-bg-color: #3B4455;\n",
              "      --disabled-fill-color: #666;\n",
              "  }\n",
              "\n",
              "  .colab-df-quickchart {\n",
              "    background-color: var(--bg-color);\n",
              "    border: none;\n",
              "    border-radius: 50%;\n",
              "    cursor: pointer;\n",
              "    display: none;\n",
              "    fill: var(--fill-color);\n",
              "    height: 32px;\n",
              "    padding: 0;\n",
              "    width: 32px;\n",
              "  }\n",
              "\n",
              "  .colab-df-quickchart:hover {\n",
              "    background-color: var(--hover-bg-color);\n",
              "    box-shadow: 0 1px 2px rgba(60, 64, 67, 0.3), 0 1px 3px 1px rgba(60, 64, 67, 0.15);\n",
              "    fill: var(--button-hover-fill-color);\n",
              "  }\n",
              "\n",
              "  .colab-df-quickchart-complete:disabled,\n",
              "  .colab-df-quickchart-complete:disabled:hover {\n",
              "    background-color: var(--disabled-bg-color);\n",
              "    fill: var(--disabled-fill-color);\n",
              "    box-shadow: none;\n",
              "  }\n",
              "\n",
              "  .colab-df-spinner {\n",
              "    border: 2px solid var(--fill-color);\n",
              "    border-color: transparent;\n",
              "    border-bottom-color: var(--fill-color);\n",
              "    animation:\n",
              "      spin 1s steps(1) infinite;\n",
              "  }\n",
              "\n",
              "  @keyframes spin {\n",
              "    0% {\n",
              "      border-color: transparent;\n",
              "      border-bottom-color: var(--fill-color);\n",
              "      border-left-color: var(--fill-color);\n",
              "    }\n",
              "    20% {\n",
              "      border-color: transparent;\n",
              "      border-left-color: var(--fill-color);\n",
              "      border-top-color: var(--fill-color);\n",
              "    }\n",
              "    30% {\n",
              "      border-color: transparent;\n",
              "      border-left-color: var(--fill-color);\n",
              "      border-top-color: var(--fill-color);\n",
              "      border-right-color: var(--fill-color);\n",
              "    }\n",
              "    40% {\n",
              "      border-color: transparent;\n",
              "      border-right-color: var(--fill-color);\n",
              "      border-top-color: var(--fill-color);\n",
              "    }\n",
              "    60% {\n",
              "      border-color: transparent;\n",
              "      border-right-color: var(--fill-color);\n",
              "    }\n",
              "    80% {\n",
              "      border-color: transparent;\n",
              "      border-right-color: var(--fill-color);\n",
              "      border-bottom-color: var(--fill-color);\n",
              "    }\n",
              "    90% {\n",
              "      border-color: transparent;\n",
              "      border-bottom-color: var(--fill-color);\n",
              "    }\n",
              "  }\n",
              "</style>\n",
              "\n",
              "      <script>\n",
              "        async function quickchart(key) {\n",
              "          const quickchartButtonEl =\n",
              "            document.querySelector('#' + key + ' button');\n",
              "          quickchartButtonEl.disabled = true;  // To prevent multiple clicks.\n",
              "          quickchartButtonEl.classList.add('colab-df-spinner');\n",
              "          try {\n",
              "            const charts = await google.colab.kernel.invokeFunction(\n",
              "                'suggestCharts', [key], {});\n",
              "          } catch (error) {\n",
              "            console.error('Error during call to suggestCharts:', error);\n",
              "          }\n",
              "          quickchartButtonEl.classList.remove('colab-df-spinner');\n",
              "          quickchartButtonEl.classList.add('colab-df-quickchart-complete');\n",
              "        }\n",
              "        (() => {\n",
              "          let quickchartButtonEl =\n",
              "            document.querySelector('#df-721db0f9-a0cd-4f54-91c5-48c92dae003b button');\n",
              "          quickchartButtonEl.style.display =\n",
              "            google.colab.kernel.accessAllowed ? 'block' : 'none';\n",
              "        })();\n",
              "      </script>\n",
              "    </div>\n",
              "\n",
              "    </div>\n",
              "  </div>\n"
            ],
            "application/vnd.google.colaboratory.intrinsic+json": {
              "type": "dataframe",
              "variable_name": "test_data"
            }
          },
          "metadata": {},
          "execution_count": 9
        }
      ],
      "source": [
        "test_data.head()"
      ]
    },
    {
      "cell_type": "code",
      "execution_count": 10,
      "id": "93fde057",
      "metadata": {
        "colab": {
          "base_uri": "https://localhost:8080/"
        },
        "id": "93fde057",
        "outputId": "95acbbf9-bf60-4d45-e7ae-a773cd95810d"
      },
      "outputs": [
        {
          "output_type": "execute_result",
          "data": {
            "text/plain": [
              "['ID',\n",
              " 'Customer_ID',\n",
              " 'Month',\n",
              " 'Name',\n",
              " 'Age',\n",
              " 'SSN',\n",
              " 'Occupation',\n",
              " 'Annual_Income',\n",
              " 'Monthly_Inhand_Salary',\n",
              " 'Num_Bank_Accounts',\n",
              " 'Num_Credit_Card',\n",
              " 'Interest_Rate',\n",
              " 'Num_of_Loan',\n",
              " 'Type_of_Loan',\n",
              " 'Delay_from_due_date',\n",
              " 'Num_of_Delayed_Payment',\n",
              " 'Changed_Credit_Limit',\n",
              " 'Num_Credit_Inquiries',\n",
              " 'Credit_Mix',\n",
              " 'Outstanding_Debt',\n",
              " 'Credit_Utilization_Ratio',\n",
              " 'Credit_History_Age',\n",
              " 'Payment_of_Min_Amount',\n",
              " 'Total_EMI_per_month',\n",
              " 'Amount_invested_monthly',\n",
              " 'Payment_Behaviour',\n",
              " 'Monthly_Balance']"
            ]
          },
          "metadata": {},
          "execution_count": 10
        }
      ],
      "source": [
        "test_data.columns.tolist()"
      ]
    },
    {
      "cell_type": "code",
      "execution_count": 11,
      "id": "0da5a042",
      "metadata": {
        "colab": {
          "base_uri": "https://localhost:8080/"
        },
        "id": "0da5a042",
        "outputId": "70dd4d2a-abd7-46fe-dc97-9c29ae582b21"
      },
      "outputs": [
        {
          "output_type": "stream",
          "name": "stdout",
          "text": [
            "Colunas apenas no treino: {'Credit_Score'}\n",
            "Colunas apenas no teste: set()\n"
          ]
        }
      ],
      "source": [
        "# Observando a diferença entre os conjuntos (teste não tem Credit_Score)\n",
        "train_cols = set(train_data.columns.tolist())\n",
        "test_cols = set(test_data.columns.tolist())\n",
        "print(\"Colunas apenas no treino:\", train_cols - test_cols)\n",
        "print(\"Colunas apenas no teste:\", test_cols - train_cols)"
      ]
    },
    {
      "cell_type": "markdown",
      "id": "5216661b",
      "metadata": {
        "id": "5216661b"
      },
      "source": [
        "### Análise exploratória de dados (EDA)"
      ]
    },
    {
      "cell_type": "code",
      "execution_count": 12,
      "id": "73c0c445",
      "metadata": {
        "colab": {
          "base_uri": "https://localhost:8080/"
        },
        "id": "73c0c445",
        "outputId": "ba6fc833-c796-449d-87a5-863b5d2f2fd5"
      },
      "outputs": [
        {
          "output_type": "stream",
          "name": "stdout",
          "text": [
            "<class 'pandas.core.frame.DataFrame'>\n",
            "RangeIndex: 13524 entries, 0 to 13523\n",
            "Data columns (total 28 columns):\n",
            " #   Column                    Non-Null Count  Dtype  \n",
            "---  ------                    --------------  -----  \n",
            " 0   ID                        13524 non-null  object \n",
            " 1   Customer_ID               13524 non-null  object \n",
            " 2   Month                     13523 non-null  object \n",
            " 3   Name                      12182 non-null  object \n",
            " 4   Age                       13523 non-null  object \n",
            " 5   SSN                       13523 non-null  object \n",
            " 6   Occupation                13523 non-null  object \n",
            " 7   Annual_Income             13523 non-null  object \n",
            " 8   Monthly_Inhand_Salary     11477 non-null  float64\n",
            " 9   Num_Bank_Accounts         13523 non-null  float64\n",
            " 10  Num_Credit_Card           13523 non-null  float64\n",
            " 11  Interest_Rate             13523 non-null  float64\n",
            " 12  Num_of_Loan               13523 non-null  object \n",
            " 13  Type_of_Loan              11984 non-null  object \n",
            " 14  Delay_from_due_date       13523 non-null  float64\n",
            " 15  Num_of_Delayed_Payment    12565 non-null  object \n",
            " 16  Changed_Credit_Limit      13523 non-null  object \n",
            " 17  Num_Credit_Inquiries      13240 non-null  float64\n",
            " 18  Credit_Mix                13523 non-null  object \n",
            " 19  Outstanding_Debt          13523 non-null  object \n",
            " 20  Credit_Utilization_Ratio  13523 non-null  float64\n",
            " 21  Credit_History_Age        12267 non-null  object \n",
            " 22  Payment_of_Min_Amount     13523 non-null  object \n",
            " 23  Total_EMI_per_month       13523 non-null  float64\n",
            " 24  Amount_invested_monthly   12951 non-null  object \n",
            " 25  Payment_Behaviour         13523 non-null  object \n",
            " 26  Monthly_Balance           13352 non-null  object \n",
            " 27  Credit_Score              13523 non-null  object \n",
            "dtypes: float64(8), object(20)\n",
            "memory usage: 2.9+ MB\n"
          ]
        }
      ],
      "source": [
        "train_data.info()"
      ]
    },
    {
      "cell_type": "code",
      "execution_count": 13,
      "id": "b2455dc5",
      "metadata": {
        "colab": {
          "base_uri": "https://localhost:8080/",
          "height": 300
        },
        "id": "b2455dc5",
        "outputId": "9ab7f000-4ac7-4885-9e39-3e05299da40f"
      },
      "outputs": [
        {
          "output_type": "execute_result",
          "data": {
            "text/plain": [
              "       Monthly_Inhand_Salary  Num_Bank_Accounts  Num_Credit_Card  \\\n",
              "count           11477.000000       13523.000000     13523.000000   \n",
              "mean             4352.247567          17.776751        23.724248   \n",
              "std              3218.057062         122.008497       134.639479   \n",
              "min               355.208333           0.000000         0.000000   \n",
              "25%              1683.101667           3.000000         4.000000   \n",
              "50%              3325.341838           6.000000         5.000000   \n",
              "75%              6155.640000           7.000000         7.000000   \n",
              "max             14855.930000        1789.000000      1486.000000   \n",
              "\n",
              "       Interest_Rate  Delay_from_due_date  Num_Credit_Inquiries  \\\n",
              "count   13523.000000         13523.000000          13240.000000   \n",
              "mean       73.291577            21.105894             25.550227   \n",
              "std       465.977347            14.541289            181.761323   \n",
              "min         1.000000            -5.000000              0.000000   \n",
              "25%         7.000000            10.000000              3.000000   \n",
              "50%        14.000000            18.000000              5.000000   \n",
              "75%        20.000000            28.000000              9.000000   \n",
              "max      5747.000000            67.000000           2592.000000   \n",
              "\n",
              "       Credit_Utilization_Ratio  Total_EMI_per_month  \n",
              "count              13523.000000         13523.000000  \n",
              "mean                  32.287814          1417.478232  \n",
              "std                    5.151048          8272.233614  \n",
              "min                   20.172942             0.000000  \n",
              "25%                   27.978240            30.015558  \n",
              "50%                   32.313498            69.602920  \n",
              "75%                   36.505636           171.077024  \n",
              "max                   50.000000         82204.000000  "
            ],
            "text/html": [
              "\n",
              "  <div id=\"df-497b5195-456d-4e1a-acc8-53a10eaa4631\" class=\"colab-df-container\">\n",
              "    <div>\n",
              "<style scoped>\n",
              "    .dataframe tbody tr th:only-of-type {\n",
              "        vertical-align: middle;\n",
              "    }\n",
              "\n",
              "    .dataframe tbody tr th {\n",
              "        vertical-align: top;\n",
              "    }\n",
              "\n",
              "    .dataframe thead th {\n",
              "        text-align: right;\n",
              "    }\n",
              "</style>\n",
              "<table border=\"1\" class=\"dataframe\">\n",
              "  <thead>\n",
              "    <tr style=\"text-align: right;\">\n",
              "      <th></th>\n",
              "      <th>Monthly_Inhand_Salary</th>\n",
              "      <th>Num_Bank_Accounts</th>\n",
              "      <th>Num_Credit_Card</th>\n",
              "      <th>Interest_Rate</th>\n",
              "      <th>Delay_from_due_date</th>\n",
              "      <th>Num_Credit_Inquiries</th>\n",
              "      <th>Credit_Utilization_Ratio</th>\n",
              "      <th>Total_EMI_per_month</th>\n",
              "    </tr>\n",
              "  </thead>\n",
              "  <tbody>\n",
              "    <tr>\n",
              "      <th>count</th>\n",
              "      <td>11477.000000</td>\n",
              "      <td>13523.000000</td>\n",
              "      <td>13523.000000</td>\n",
              "      <td>13523.000000</td>\n",
              "      <td>13523.000000</td>\n",
              "      <td>13240.000000</td>\n",
              "      <td>13523.000000</td>\n",
              "      <td>13523.000000</td>\n",
              "    </tr>\n",
              "    <tr>\n",
              "      <th>mean</th>\n",
              "      <td>4352.247567</td>\n",
              "      <td>17.776751</td>\n",
              "      <td>23.724248</td>\n",
              "      <td>73.291577</td>\n",
              "      <td>21.105894</td>\n",
              "      <td>25.550227</td>\n",
              "      <td>32.287814</td>\n",
              "      <td>1417.478232</td>\n",
              "    </tr>\n",
              "    <tr>\n",
              "      <th>std</th>\n",
              "      <td>3218.057062</td>\n",
              "      <td>122.008497</td>\n",
              "      <td>134.639479</td>\n",
              "      <td>465.977347</td>\n",
              "      <td>14.541289</td>\n",
              "      <td>181.761323</td>\n",
              "      <td>5.151048</td>\n",
              "      <td>8272.233614</td>\n",
              "    </tr>\n",
              "    <tr>\n",
              "      <th>min</th>\n",
              "      <td>355.208333</td>\n",
              "      <td>0.000000</td>\n",
              "      <td>0.000000</td>\n",
              "      <td>1.000000</td>\n",
              "      <td>-5.000000</td>\n",
              "      <td>0.000000</td>\n",
              "      <td>20.172942</td>\n",
              "      <td>0.000000</td>\n",
              "    </tr>\n",
              "    <tr>\n",
              "      <th>25%</th>\n",
              "      <td>1683.101667</td>\n",
              "      <td>3.000000</td>\n",
              "      <td>4.000000</td>\n",
              "      <td>7.000000</td>\n",
              "      <td>10.000000</td>\n",
              "      <td>3.000000</td>\n",
              "      <td>27.978240</td>\n",
              "      <td>30.015558</td>\n",
              "    </tr>\n",
              "    <tr>\n",
              "      <th>50%</th>\n",
              "      <td>3325.341838</td>\n",
              "      <td>6.000000</td>\n",
              "      <td>5.000000</td>\n",
              "      <td>14.000000</td>\n",
              "      <td>18.000000</td>\n",
              "      <td>5.000000</td>\n",
              "      <td>32.313498</td>\n",
              "      <td>69.602920</td>\n",
              "    </tr>\n",
              "    <tr>\n",
              "      <th>75%</th>\n",
              "      <td>6155.640000</td>\n",
              "      <td>7.000000</td>\n",
              "      <td>7.000000</td>\n",
              "      <td>20.000000</td>\n",
              "      <td>28.000000</td>\n",
              "      <td>9.000000</td>\n",
              "      <td>36.505636</td>\n",
              "      <td>171.077024</td>\n",
              "    </tr>\n",
              "    <tr>\n",
              "      <th>max</th>\n",
              "      <td>14855.930000</td>\n",
              "      <td>1789.000000</td>\n",
              "      <td>1486.000000</td>\n",
              "      <td>5747.000000</td>\n",
              "      <td>67.000000</td>\n",
              "      <td>2592.000000</td>\n",
              "      <td>50.000000</td>\n",
              "      <td>82204.000000</td>\n",
              "    </tr>\n",
              "  </tbody>\n",
              "</table>\n",
              "</div>\n",
              "    <div class=\"colab-df-buttons\">\n",
              "\n",
              "  <div class=\"colab-df-container\">\n",
              "    <button class=\"colab-df-convert\" onclick=\"convertToInteractive('df-497b5195-456d-4e1a-acc8-53a10eaa4631')\"\n",
              "            title=\"Convert this dataframe to an interactive table.\"\n",
              "            style=\"display:none;\">\n",
              "\n",
              "  <svg xmlns=\"http://www.w3.org/2000/svg\" height=\"24px\" viewBox=\"0 -960 960 960\">\n",
              "    <path d=\"M120-120v-720h720v720H120Zm60-500h600v-160H180v160Zm220 220h160v-160H400v160Zm0 220h160v-160H400v160ZM180-400h160v-160H180v160Zm440 0h160v-160H620v160ZM180-180h160v-160H180v160Zm440 0h160v-160H620v160Z\"/>\n",
              "  </svg>\n",
              "    </button>\n",
              "\n",
              "  <style>\n",
              "    .colab-df-container {\n",
              "      display:flex;\n",
              "      gap: 12px;\n",
              "    }\n",
              "\n",
              "    .colab-df-convert {\n",
              "      background-color: #E8F0FE;\n",
              "      border: none;\n",
              "      border-radius: 50%;\n",
              "      cursor: pointer;\n",
              "      display: none;\n",
              "      fill: #1967D2;\n",
              "      height: 32px;\n",
              "      padding: 0 0 0 0;\n",
              "      width: 32px;\n",
              "    }\n",
              "\n",
              "    .colab-df-convert:hover {\n",
              "      background-color: #E2EBFA;\n",
              "      box-shadow: 0px 1px 2px rgba(60, 64, 67, 0.3), 0px 1px 3px 1px rgba(60, 64, 67, 0.15);\n",
              "      fill: #174EA6;\n",
              "    }\n",
              "\n",
              "    .colab-df-buttons div {\n",
              "      margin-bottom: 4px;\n",
              "    }\n",
              "\n",
              "    [theme=dark] .colab-df-convert {\n",
              "      background-color: #3B4455;\n",
              "      fill: #D2E3FC;\n",
              "    }\n",
              "\n",
              "    [theme=dark] .colab-df-convert:hover {\n",
              "      background-color: #434B5C;\n",
              "      box-shadow: 0px 1px 3px 1px rgba(0, 0, 0, 0.15);\n",
              "      filter: drop-shadow(0px 1px 2px rgba(0, 0, 0, 0.3));\n",
              "      fill: #FFFFFF;\n",
              "    }\n",
              "  </style>\n",
              "\n",
              "    <script>\n",
              "      const buttonEl =\n",
              "        document.querySelector('#df-497b5195-456d-4e1a-acc8-53a10eaa4631 button.colab-df-convert');\n",
              "      buttonEl.style.display =\n",
              "        google.colab.kernel.accessAllowed ? 'block' : 'none';\n",
              "\n",
              "      async function convertToInteractive(key) {\n",
              "        const element = document.querySelector('#df-497b5195-456d-4e1a-acc8-53a10eaa4631');\n",
              "        const dataTable =\n",
              "          await google.colab.kernel.invokeFunction('convertToInteractive',\n",
              "                                                    [key], {});\n",
              "        if (!dataTable) return;\n",
              "\n",
              "        const docLinkHtml = 'Like what you see? Visit the ' +\n",
              "          '<a target=\"_blank\" href=https://colab.research.google.com/notebooks/data_table.ipynb>data table notebook</a>'\n",
              "          + ' to learn more about interactive tables.';\n",
              "        element.innerHTML = '';\n",
              "        dataTable['output_type'] = 'display_data';\n",
              "        await google.colab.output.renderOutput(dataTable, element);\n",
              "        const docLink = document.createElement('div');\n",
              "        docLink.innerHTML = docLinkHtml;\n",
              "        element.appendChild(docLink);\n",
              "      }\n",
              "    </script>\n",
              "  </div>\n",
              "\n",
              "\n",
              "    <div id=\"df-aac87f79-813b-4aa0-90e4-0121e030cf1a\">\n",
              "      <button class=\"colab-df-quickchart\" onclick=\"quickchart('df-aac87f79-813b-4aa0-90e4-0121e030cf1a')\"\n",
              "                title=\"Suggest charts\"\n",
              "                style=\"display:none;\">\n",
              "\n",
              "<svg xmlns=\"http://www.w3.org/2000/svg\" height=\"24px\"viewBox=\"0 0 24 24\"\n",
              "     width=\"24px\">\n",
              "    <g>\n",
              "        <path d=\"M19 3H5c-1.1 0-2 .9-2 2v14c0 1.1.9 2 2 2h14c1.1 0 2-.9 2-2V5c0-1.1-.9-2-2-2zM9 17H7v-7h2v7zm4 0h-2V7h2v10zm4 0h-2v-4h2v4z\"/>\n",
              "    </g>\n",
              "</svg>\n",
              "      </button>\n",
              "\n",
              "<style>\n",
              "  .colab-df-quickchart {\n",
              "      --bg-color: #E8F0FE;\n",
              "      --fill-color: #1967D2;\n",
              "      --hover-bg-color: #E2EBFA;\n",
              "      --hover-fill-color: #174EA6;\n",
              "      --disabled-fill-color: #AAA;\n",
              "      --disabled-bg-color: #DDD;\n",
              "  }\n",
              "\n",
              "  [theme=dark] .colab-df-quickchart {\n",
              "      --bg-color: #3B4455;\n",
              "      --fill-color: #D2E3FC;\n",
              "      --hover-bg-color: #434B5C;\n",
              "      --hover-fill-color: #FFFFFF;\n",
              "      --disabled-bg-color: #3B4455;\n",
              "      --disabled-fill-color: #666;\n",
              "  }\n",
              "\n",
              "  .colab-df-quickchart {\n",
              "    background-color: var(--bg-color);\n",
              "    border: none;\n",
              "    border-radius: 50%;\n",
              "    cursor: pointer;\n",
              "    display: none;\n",
              "    fill: var(--fill-color);\n",
              "    height: 32px;\n",
              "    padding: 0;\n",
              "    width: 32px;\n",
              "  }\n",
              "\n",
              "  .colab-df-quickchart:hover {\n",
              "    background-color: var(--hover-bg-color);\n",
              "    box-shadow: 0 1px 2px rgba(60, 64, 67, 0.3), 0 1px 3px 1px rgba(60, 64, 67, 0.15);\n",
              "    fill: var(--button-hover-fill-color);\n",
              "  }\n",
              "\n",
              "  .colab-df-quickchart-complete:disabled,\n",
              "  .colab-df-quickchart-complete:disabled:hover {\n",
              "    background-color: var(--disabled-bg-color);\n",
              "    fill: var(--disabled-fill-color);\n",
              "    box-shadow: none;\n",
              "  }\n",
              "\n",
              "  .colab-df-spinner {\n",
              "    border: 2px solid var(--fill-color);\n",
              "    border-color: transparent;\n",
              "    border-bottom-color: var(--fill-color);\n",
              "    animation:\n",
              "      spin 1s steps(1) infinite;\n",
              "  }\n",
              "\n",
              "  @keyframes spin {\n",
              "    0% {\n",
              "      border-color: transparent;\n",
              "      border-bottom-color: var(--fill-color);\n",
              "      border-left-color: var(--fill-color);\n",
              "    }\n",
              "    20% {\n",
              "      border-color: transparent;\n",
              "      border-left-color: var(--fill-color);\n",
              "      border-top-color: var(--fill-color);\n",
              "    }\n",
              "    30% {\n",
              "      border-color: transparent;\n",
              "      border-left-color: var(--fill-color);\n",
              "      border-top-color: var(--fill-color);\n",
              "      border-right-color: var(--fill-color);\n",
              "    }\n",
              "    40% {\n",
              "      border-color: transparent;\n",
              "      border-right-color: var(--fill-color);\n",
              "      border-top-color: var(--fill-color);\n",
              "    }\n",
              "    60% {\n",
              "      border-color: transparent;\n",
              "      border-right-color: var(--fill-color);\n",
              "    }\n",
              "    80% {\n",
              "      border-color: transparent;\n",
              "      border-right-color: var(--fill-color);\n",
              "      border-bottom-color: var(--fill-color);\n",
              "    }\n",
              "    90% {\n",
              "      border-color: transparent;\n",
              "      border-bottom-color: var(--fill-color);\n",
              "    }\n",
              "  }\n",
              "</style>\n",
              "\n",
              "      <script>\n",
              "        async function quickchart(key) {\n",
              "          const quickchartButtonEl =\n",
              "            document.querySelector('#' + key + ' button');\n",
              "          quickchartButtonEl.disabled = true;  // To prevent multiple clicks.\n",
              "          quickchartButtonEl.classList.add('colab-df-spinner');\n",
              "          try {\n",
              "            const charts = await google.colab.kernel.invokeFunction(\n",
              "                'suggestCharts', [key], {});\n",
              "          } catch (error) {\n",
              "            console.error('Error during call to suggestCharts:', error);\n",
              "          }\n",
              "          quickchartButtonEl.classList.remove('colab-df-spinner');\n",
              "          quickchartButtonEl.classList.add('colab-df-quickchart-complete');\n",
              "        }\n",
              "        (() => {\n",
              "          let quickchartButtonEl =\n",
              "            document.querySelector('#df-aac87f79-813b-4aa0-90e4-0121e030cf1a button');\n",
              "          quickchartButtonEl.style.display =\n",
              "            google.colab.kernel.accessAllowed ? 'block' : 'none';\n",
              "        })();\n",
              "      </script>\n",
              "    </div>\n",
              "\n",
              "    </div>\n",
              "  </div>\n"
            ],
            "application/vnd.google.colaboratory.intrinsic+json": {
              "type": "dataframe",
              "summary": "{\n  \"name\": \"train_data\",\n  \"rows\": 8,\n  \"fields\": [\n    {\n      \"column\": \"Monthly_Inhand_Salary\",\n      \"properties\": {\n        \"dtype\": \"number\",\n        \"std\": 5010.363585320611,\n        \"min\": 355.20833333333337,\n        \"max\": 14855.93,\n        \"num_unique_values\": 8,\n        \"samples\": [\n          4352.247567266823,\n          3325.341838408399,\n          11477.0\n        ],\n        \"semantic_type\": \"\",\n        \"description\": \"\"\n      }\n    },\n    {\n      \"column\": \"Num_Bank_Accounts\",\n      \"properties\": {\n        \"dtype\": \"number\",\n        \"std\": 4723.509568837084,\n        \"min\": 0.0,\n        \"max\": 13523.0,\n        \"num_unique_values\": 8,\n        \"samples\": [\n          17.776750720993864,\n          6.0,\n          13523.0\n        ],\n        \"semantic_type\": \"\",\n        \"description\": \"\"\n      }\n    },\n    {\n      \"column\": \"Num_Credit_Card\",\n      \"properties\": {\n        \"dtype\": \"number\",\n        \"std\": 4725.034979021773,\n        \"min\": 0.0,\n        \"max\": 13523.0,\n        \"num_unique_values\": 8,\n        \"samples\": [\n          23.724247578200103,\n          5.0,\n          13523.0\n        ],\n        \"semantic_type\": \"\",\n        \"description\": \"\"\n      }\n    },\n    {\n      \"column\": \"Interest_Rate\",\n      \"properties\": {\n        \"dtype\": \"number\",\n        \"std\": 4882.38204164617,\n        \"min\": 1.0,\n        \"max\": 13523.0,\n        \"num_unique_values\": 8,\n        \"samples\": [\n          73.29157731272646,\n          14.0,\n          13523.0\n        ],\n        \"semantic_type\": \"\",\n        \"description\": \"\"\n      }\n    },\n    {\n      \"column\": \"Delay_from_due_date\",\n      \"properties\": {\n        \"dtype\": \"number\",\n        \"std\": 4773.387134332621,\n        \"min\": -5.0,\n        \"max\": 13523.0,\n        \"num_unique_values\": 8,\n        \"samples\": [\n          21.10589366264882,\n          18.0,\n          13523.0\n        ],\n        \"semantic_type\": \"\",\n        \"description\": \"\"\n      }\n    },\n    {\n      \"column\": \"Num_Credit_Inquiries\",\n      \"properties\": {\n        \"dtype\": \"number\",\n        \"std\": 4626.387458589899,\n        \"min\": 0.0,\n        \"max\": 13240.0,\n        \"num_unique_values\": 8,\n        \"samples\": [\n          25.55022658610272,\n          5.0,\n          13240.0\n        ],\n        \"semantic_type\": \"\",\n        \"description\": \"\"\n      }\n    },\n    {\n      \"column\": \"Credit_Utilization_Ratio\",\n      \"properties\": {\n        \"dtype\": \"number\",\n        \"std\": 4770.795744404218,\n        \"min\": 5.151047706055872,\n        \"max\": 13523.0,\n        \"num_unique_values\": 8,\n        \"samples\": [\n          32.28781441495317,\n          32.3134983435472,\n          13523.0\n        ],\n        \"semantic_type\": \"\",\n        \"description\": \"\"\n      }\n    },\n    {\n      \"column\": \"Total_EMI_per_month\",\n      \"properties\": {\n        \"dtype\": \"number\",\n        \"std\": 28321.15499648235,\n        \"min\": 0.0,\n        \"max\": 82204.0,\n        \"num_unique_values\": 8,\n        \"samples\": [\n          1417.4782322947763,\n          69.60292048199007,\n          13523.0\n        ],\n        \"semantic_type\": \"\",\n        \"description\": \"\"\n      }\n    }\n  ]\n}"
            }
          },
          "metadata": {},
          "execution_count": 13
        }
      ],
      "source": [
        "train_data.describe()"
      ]
    },
    {
      "cell_type": "code",
      "execution_count": 14,
      "id": "925f1b29",
      "metadata": {
        "colab": {
          "base_uri": "https://localhost:8080/",
          "height": 962
        },
        "id": "925f1b29",
        "outputId": "8e4a077c-86d0-4bb3-d216-0d6efdb295c9"
      },
      "outputs": [
        {
          "output_type": "execute_result",
          "data": {
            "text/plain": [
              "ID                             0\n",
              "Customer_ID                    0\n",
              "Month                          1\n",
              "Name                        1342\n",
              "Age                            1\n",
              "SSN                            1\n",
              "Occupation                     1\n",
              "Annual_Income                  1\n",
              "Monthly_Inhand_Salary       2047\n",
              "Num_Bank_Accounts              1\n",
              "Num_Credit_Card                1\n",
              "Interest_Rate                  1\n",
              "Num_of_Loan                    1\n",
              "Type_of_Loan                1540\n",
              "Delay_from_due_date            1\n",
              "Num_of_Delayed_Payment       959\n",
              "Changed_Credit_Limit           1\n",
              "Num_Credit_Inquiries         284\n",
              "Credit_Mix                     1\n",
              "Outstanding_Debt               1\n",
              "Credit_Utilization_Ratio       1\n",
              "Credit_History_Age          1257\n",
              "Payment_of_Min_Amount          1\n",
              "Total_EMI_per_month            1\n",
              "Amount_invested_monthly      573\n",
              "Payment_Behaviour              1\n",
              "Monthly_Balance              172\n",
              "Credit_Score                   1\n",
              "dtype: int64"
            ],
            "text/html": [
              "<div>\n",
              "<style scoped>\n",
              "    .dataframe tbody tr th:only-of-type {\n",
              "        vertical-align: middle;\n",
              "    }\n",
              "\n",
              "    .dataframe tbody tr th {\n",
              "        vertical-align: top;\n",
              "    }\n",
              "\n",
              "    .dataframe thead th {\n",
              "        text-align: right;\n",
              "    }\n",
              "</style>\n",
              "<table border=\"1\" class=\"dataframe\">\n",
              "  <thead>\n",
              "    <tr style=\"text-align: right;\">\n",
              "      <th></th>\n",
              "      <th>0</th>\n",
              "    </tr>\n",
              "  </thead>\n",
              "  <tbody>\n",
              "    <tr>\n",
              "      <th>ID</th>\n",
              "      <td>0</td>\n",
              "    </tr>\n",
              "    <tr>\n",
              "      <th>Customer_ID</th>\n",
              "      <td>0</td>\n",
              "    </tr>\n",
              "    <tr>\n",
              "      <th>Month</th>\n",
              "      <td>1</td>\n",
              "    </tr>\n",
              "    <tr>\n",
              "      <th>Name</th>\n",
              "      <td>1342</td>\n",
              "    </tr>\n",
              "    <tr>\n",
              "      <th>Age</th>\n",
              "      <td>1</td>\n",
              "    </tr>\n",
              "    <tr>\n",
              "      <th>SSN</th>\n",
              "      <td>1</td>\n",
              "    </tr>\n",
              "    <tr>\n",
              "      <th>Occupation</th>\n",
              "      <td>1</td>\n",
              "    </tr>\n",
              "    <tr>\n",
              "      <th>Annual_Income</th>\n",
              "      <td>1</td>\n",
              "    </tr>\n",
              "    <tr>\n",
              "      <th>Monthly_Inhand_Salary</th>\n",
              "      <td>2047</td>\n",
              "    </tr>\n",
              "    <tr>\n",
              "      <th>Num_Bank_Accounts</th>\n",
              "      <td>1</td>\n",
              "    </tr>\n",
              "    <tr>\n",
              "      <th>Num_Credit_Card</th>\n",
              "      <td>1</td>\n",
              "    </tr>\n",
              "    <tr>\n",
              "      <th>Interest_Rate</th>\n",
              "      <td>1</td>\n",
              "    </tr>\n",
              "    <tr>\n",
              "      <th>Num_of_Loan</th>\n",
              "      <td>1</td>\n",
              "    </tr>\n",
              "    <tr>\n",
              "      <th>Type_of_Loan</th>\n",
              "      <td>1540</td>\n",
              "    </tr>\n",
              "    <tr>\n",
              "      <th>Delay_from_due_date</th>\n",
              "      <td>1</td>\n",
              "    </tr>\n",
              "    <tr>\n",
              "      <th>Num_of_Delayed_Payment</th>\n",
              "      <td>959</td>\n",
              "    </tr>\n",
              "    <tr>\n",
              "      <th>Changed_Credit_Limit</th>\n",
              "      <td>1</td>\n",
              "    </tr>\n",
              "    <tr>\n",
              "      <th>Num_Credit_Inquiries</th>\n",
              "      <td>284</td>\n",
              "    </tr>\n",
              "    <tr>\n",
              "      <th>Credit_Mix</th>\n",
              "      <td>1</td>\n",
              "    </tr>\n",
              "    <tr>\n",
              "      <th>Outstanding_Debt</th>\n",
              "      <td>1</td>\n",
              "    </tr>\n",
              "    <tr>\n",
              "      <th>Credit_Utilization_Ratio</th>\n",
              "      <td>1</td>\n",
              "    </tr>\n",
              "    <tr>\n",
              "      <th>Credit_History_Age</th>\n",
              "      <td>1257</td>\n",
              "    </tr>\n",
              "    <tr>\n",
              "      <th>Payment_of_Min_Amount</th>\n",
              "      <td>1</td>\n",
              "    </tr>\n",
              "    <tr>\n",
              "      <th>Total_EMI_per_month</th>\n",
              "      <td>1</td>\n",
              "    </tr>\n",
              "    <tr>\n",
              "      <th>Amount_invested_monthly</th>\n",
              "      <td>573</td>\n",
              "    </tr>\n",
              "    <tr>\n",
              "      <th>Payment_Behaviour</th>\n",
              "      <td>1</td>\n",
              "    </tr>\n",
              "    <tr>\n",
              "      <th>Monthly_Balance</th>\n",
              "      <td>172</td>\n",
              "    </tr>\n",
              "    <tr>\n",
              "      <th>Credit_Score</th>\n",
              "      <td>1</td>\n",
              "    </tr>\n",
              "  </tbody>\n",
              "</table>\n",
              "</div><br><label><b>dtype:</b> int64</label>"
            ]
          },
          "metadata": {},
          "execution_count": 14
        }
      ],
      "source": [
        "train_data.isnull().sum()"
      ]
    },
    {
      "cell_type": "code",
      "execution_count": 15,
      "id": "96a8f01b",
      "metadata": {
        "colab": {
          "base_uri": "https://localhost:8080/"
        },
        "id": "96a8f01b",
        "outputId": "27bbdf2f-723c-4b49-bff4-8b1478ca674b"
      },
      "outputs": [
        {
          "output_type": "execute_result",
          "data": {
            "text/plain": [
              "array(['Good', 'Standard', 'Poor', nan], dtype=object)"
            ]
          },
          "metadata": {},
          "execution_count": 15
        }
      ],
      "source": [
        "train_data['Credit_Score'].unique()"
      ]
    },
    {
      "cell_type": "code",
      "execution_count": 16,
      "id": "48da43bb",
      "metadata": {
        "colab": {
          "base_uri": "https://localhost:8080/"
        },
        "id": "48da43bb",
        "outputId": "2b9af7e9-f2e4-4105-b9f8-7a6691fd462c"
      },
      "outputs": [
        {
          "output_type": "stream",
          "name": "stdout",
          "text": [
            "\n",
            "Distribuição da variável alvo (Credit_Score):\n",
            "Credit_Score\n",
            "Standard    7103\n",
            "Poor        4008\n",
            "Good        2412\n",
            "Name: count, dtype: int64\n",
            "Credit_Score\n",
            "Standard    52.525327\n",
            "Poor        29.638394\n",
            "Good        17.836279\n",
            "Name: proportion, dtype: float64\n"
          ]
        }
      ],
      "source": [
        "# Verificando a distribuição da variável alvo\n",
        "print(\"\\nDistribuição da variável alvo (Credit_Score):\")\n",
        "print(train_data['Credit_Score'].value_counts())\n",
        "print(train_data['Credit_Score'].value_counts(normalize=True) * 100)"
      ]
    },
    {
      "cell_type": "markdown",
      "id": "e9cda062",
      "metadata": {
        "id": "e9cda062"
      },
      "source": [
        "Pré-processamento"
      ]
    },
    {
      "cell_type": "code",
      "execution_count": 17,
      "id": "83e18198",
      "metadata": {
        "colab": {
          "base_uri": "https://localhost:8080/"
        },
        "id": "83e18198",
        "outputId": "711a1947-41b6-49af-8fe5-d95c78756f79"
      },
      "outputs": [
        {
          "output_type": "stream",
          "name": "stdout",
          "text": [
            "Validação de duplicação.\n",
            "Não existem duplicadas\n",
            "Validação de duplicação.\n",
            "Não existem duplicadas\n"
          ]
        }
      ],
      "source": [
        "def duplicate_values(df):\n",
        "    print(\"Validação de duplicação.\")\n",
        "    num_duplicates = df.duplicated(subset=None, keep='first').sum()\n",
        "    if num_duplicates > 0:\n",
        "        print(\"Existem\", num_duplicates, \"duplicadas.\")\n",
        "        df.drop_duplicates(keep='first', inplace=True)\n",
        "        print(num_duplicates, \"duplicadas excluidas\")\n",
        "    else:\n",
        "        print(\"Não existem duplicadas\")\n",
        "\n",
        "duplicate_values(train_data)\n",
        "duplicate_values(test_data)"
      ]
    },
    {
      "cell_type": "code",
      "execution_count": 18,
      "id": "acf1780f",
      "metadata": {
        "colab": {
          "base_uri": "https://localhost:8080/"
        },
        "id": "acf1780f",
        "outputId": "d82cffb4-ab30-4fbf-cd06-16f34331fc93"
      },
      "outputs": [
        {
          "output_type": "stream",
          "name": "stdout",
          "text": [
            "Verificando valores numéricos inválidos...\n",
            "Coluna Monthly_Inhand_Salary contém valores não numéricos: [nan]\n",
            "Coluna Num_Bank_Accounts contém valores não numéricos: [nan]\n",
            "Coluna Num_Credit_Card contém valores não numéricos: [nan]\n",
            "Coluna Interest_Rate contém valores não numéricos: [nan]\n",
            "Coluna Delay_from_due_date contém valores não numéricos: [nan]\n",
            "Coluna Num_Credit_Inquiries contém valores não numéricos: [nan]\n",
            "Coluna Credit_Utilization_Ratio contém valores não numéricos: [nan]\n",
            "Coluna Total_EMI_per_month contém valores não numéricos: [nan]\n"
          ]
        }
      ],
      "source": [
        "# Verificando valores inválidos ou inconsistentes em colunas numéricas\n",
        "print(\"Verificando valores numéricos inválidos...\")\n",
        "numeric_cols = train_data.select_dtypes(include=['int64', 'float64']).columns.tolist()\n",
        "for col in numeric_cols:\n",
        "    invalid_values = train_data[~train_data[col].astype(str).str.replace('.', '').str.replace('-', '').str.isdigit()]\n",
        "    if not invalid_values.empty:\n",
        "        print(f\"Coluna {col} contém valores não numéricos: {invalid_values[col].unique()}\")"
      ]
    },
    {
      "cell_type": "markdown",
      "id": "d2eb2531",
      "metadata": {
        "id": "d2eb2531"
      },
      "source": [
        "Aqui pudemos notar que existem valores que não fazem sentindo para o campo Idade"
      ]
    },
    {
      "cell_type": "code",
      "execution_count": 19,
      "id": "da54e957",
      "metadata": {
        "colab": {
          "base_uri": "https://localhost:8080/"
        },
        "id": "da54e957",
        "outputId": "47ebee84-ee1c-4b24-f643-7ca8014223b9"
      },
      "outputs": [
        {
          "output_type": "execute_result",
          "data": {
            "text/plain": [
              "array(['23', '-500', '28_', '28', '34', '54', '55', '21', '31', '33',\n",
              "       '34_', '7580', '30', '30_', '24', '24_', '44', '45', '40', '41',\n",
              "       '32', '33_', '35', '35_', '36', '39', '37', '181', '20', '46',\n",
              "       '26', '42', '19', '31_', '48', '995', '40_', '37_', '38', '54_',\n",
              "       '5079', '43', '21_', '22', '6409', '16', '7080', '18', '849',\n",
              "       '3885', '20_', '15', '27', '43_', '38_', '25', '3052', '14',\n",
              "       '5342', '17', '18_', '4431', '2657', '2111_', '46_', '47', '1032',\n",
              "       '16_', '19_', '47_', '456', '5717', '53_', '53', '56', '25_',\n",
              "       '27_', '55_', '3169', '1191', '29', '42_', '7140', '48_', '49',\n",
              "       '49_', '8233', '6955', '2534', '3115', '7657', '51', '50', '5112',\n",
              "       '50_', '32_', '6452', '2744', '22_', '17_', '1439', '29_', '5795',\n",
              "       '4872', '1772', '15_', '1383', '5657', '52', '1934', '51_', '8352',\n",
              "       '3734', '26_', '2056', '39_', '7508', '2339', '14_', '8406',\n",
              "       '1424', '36_', '6953', '5626', '4471', '548', '44_', '769', '5490',\n",
              "       '525', '4202', '3665', '7670_', '4670', '3616', '6922', '6619',\n",
              "       '1808', '7992', '45_', '223', '1232', '4659', '6895', '395',\n",
              "       '7099', '6048', '3936', '3512', '123', '5639', '471', '7359',\n",
              "       '23_', '4049', '5053', '2109', '7183', '5604', '1206', '6835',\n",
              "       '4067', '41_', '1812', '1170', '3625', '6354', '3724', '480',\n",
              "       '5610', '4710', '4351', '52_', '5784', '3937', '3542', '2239',\n",
              "       '5645', '7425', '7851', '2027', '6306', '835', '3513', '6846',\n",
              "       '6868', '7805', '7274', '831', '8394', '2751', '733_', '783',\n",
              "       '2455', '5612', '2402', '4119', '4645', '8105', '1400', '7431',\n",
              "       '3666', '2350', '491', '1116', '692', '5429', '4745', '4017',\n",
              "       '3279', '651', '5611', '5769_', '6586', '7699', '919', '6765',\n",
              "       '5376', '2546', '112', '3909', '5054', '8655', '4383_', '2824',\n",
              "       '56_', '7865', '2823', '6365', '5688', '6178', '886', '3353',\n",
              "       '8562', '7750', '5186', '8080', '3553', '5537', '3967', '6520',\n",
              "       '2650_', '1335', '2054', '7068', '6100', '2636', '1753', '6389',\n",
              "       '2419', '2033', '2961', '3307_', '5504', '4060', '5237', '2297',\n",
              "       '5583', '4958', '6395', '3319', '7705', '4820', '2456', '5194',\n",
              "       '5154', '4155', '7336', '7195', '8005', '5165', '3861', '2584',\n",
              "       '2563', '5592', '3771', '1188', '5017', '8034', '5256', '8173',\n",
              "       '6962_', '3578', '4572', '5589_', '328', '1678', '1512', '6556_',\n",
              "       '5430', '8442', '4517', '7525', '1203', '4260', '7980', '7153',\n",
              "       '2400', '6331', '3715', '3285', '8043', '8250', '8628', '8608',\n",
              "       '7016', '989', '359', '8155', '2090', '4126', '3791', '5782',\n",
              "       '6292', '8662', '1681', '1338', '8000', '7935', '5608', '1006',\n",
              "       '1451', '622', '4857', '2369', '8216', '7330', '7289', '3601',\n",
              "       '4127', '236', '6707', '493', '4682', '287', '375', '5195', '1969',\n",
              "       '5788', '6413', '2388', '5152', '3986', '1715', '8200', '4336',\n",
              "       '8299', '1308', '3888', '1051', '134', '5897', '6350', '2379',\n",
              "       '3197', '3341', '8674', '7123', '556', '1083', nan], dtype=object)"
            ]
          },
          "metadata": {},
          "execution_count": 19
        }
      ],
      "source": [
        "train_data['Age'].unique()"
      ]
    },
    {
      "cell_type": "code",
      "execution_count": 20,
      "id": "9c350d52",
      "metadata": {
        "colab": {
          "base_uri": "https://localhost:8080/"
        },
        "id": "9c350d52",
        "outputId": "4785ee9e-3915-4c5f-b7af-3a995c038b8b"
      },
      "outputs": [
        {
          "output_type": "execute_result",
          "data": {
            "text/plain": [
              "array(['Scientist', '_______', 'Teacher', 'Engineer', 'Entrepreneur',\n",
              "       'Developer', 'Lawyer', 'Media_Manager', 'Doctor', 'Journalist',\n",
              "       'Manager', 'Accountant', 'Musician', 'Mechanic', 'Writer',\n",
              "       'Architect', nan], dtype=object)"
            ]
          },
          "metadata": {},
          "execution_count": 20
        }
      ],
      "source": [
        "train_data['Occupation'].unique()"
      ]
    },
    {
      "cell_type": "markdown",
      "id": "bbffe385",
      "metadata": {
        "id": "bbffe385"
      },
      "source": [
        "Então criamos uma função para limpar e converter valores"
      ]
    },
    {
      "cell_type": "code",
      "execution_count": 21,
      "id": "fedbd8c4",
      "metadata": {
        "id": "fedbd8c4"
      },
      "outputs": [],
      "source": [
        "# Função para limpar e converter valores\n",
        "def clean_data(df):\n",
        "    df_copy = df.copy()\n",
        "\n",
        "    # colunas que não serão usadas\n",
        "    df_copy = df_copy.drop(['ID','Customer_ID','Month','Name','SSN', 'Type_of_Loan', 'Changed_Credit_Limit', 'Monthly_Inhand_Salary'], axis = 1)\n",
        "\n",
        "    # Tratando valores especiais como NaN\n",
        "    for col in df_copy.columns:\n",
        "        df_copy[col] = df_copy[col].replace('_', np.nan)\n",
        "        df_copy[col] = df_copy[col].replace('!@9#%8', np.nan)\n",
        "        df_copy[col] = df_copy[col].replace('#F%$D@*&8', np.nan)\n",
        "    # preenche o na do Credit_Mix com desconhecido\n",
        "    df_copy['Credit_Mix'].fillna('Unknown', inplace=True)\n",
        "    df_copy['Credit_Mix'] = df_copy['Credit_Mix'].astype('object')\n",
        "\n",
        "    # Tratando valores especiais na coluna Occupation\n",
        "    df_copy['Occupation'] = df_copy['Occupation'].replace('_______', 'Other')\n",
        "    df_copy.loc[pd.isna(df_copy['Occupation']), 'Occupation'] = 'Other'\n",
        "\n",
        "    # Limpando e convertendo a coluna Age para numérico\n",
        "    df_copy['Age'] = pd.to_numeric(df_copy['Age'].astype(str).str.replace('_', ''), errors='coerce')\n",
        "    # Substituir valores inválidos (negativos ou muito altos) por NaN\n",
        "    df_copy.loc[df_copy['Age'] < 0, 'Age'] = np.nan\n",
        "    df_copy.loc[df_copy['Age'] > 100, 'Age'] = np.nan\n",
        "\n",
        "    # Preencher NaN com a mediana das idades válidas\n",
        "    mediana_idade = df_copy['Age'].median()\n",
        "    df_copy['Age'].fillna(mediana_idade, inplace=True)\n",
        "\n",
        "    # Convertendo Credit_History_Age para numérico (em meses)\n",
        "    def convert_credit_history(x):\n",
        "        if pd.isna(x) or x == 'NA':\n",
        "            return np.nan\n",
        "        try:\n",
        "            years = 0\n",
        "            months = 0\n",
        "            if 'Years' in str(x):\n",
        "                years = int(str(x).split('Years')[0].strip())\n",
        "            if 'Months' in str(x):\n",
        "                months = int(str(x).split('Months')[0].split('and')[-1].strip())\n",
        "            return years * 12 + months\n",
        "        except:\n",
        "            return np.nan\n",
        "\n",
        "    df_copy['Credit_History_Age'] = df_copy['Credit_History_Age'].apply(convert_credit_history)\n",
        "        # Preencher NaN com a mediana dos valores válidos de Credit_History_Age\n",
        "    mediana_credit_history = df_copy['Credit_History_Age'].median()\n",
        "    df_copy['Credit_History_Age'].fillna(mediana_credit_history, inplace=True)\n",
        "\n",
        "\n",
        "    # Convertendo colunas numéricas\n",
        "    numeric_cols = ['Age','Annual_Income', 'Num_Bank_Accounts', 'Num_Credit_Card', 'Credit_History_Age',\n",
        "                  'Interest_Rate', 'Num_of_Loan', 'Delay_from_due_date',\n",
        "                  'Num_of_Delayed_Payment', 'Num_Credit_Inquiries',\n",
        "                  'Outstanding_Debt', 'Credit_Utilization_Ratio', 'Total_EMI_per_month',\n",
        "                  'Amount_invested_monthly', 'Monthly_Balance']\n",
        "\n",
        "    for col in numeric_cols:\n",
        "        # Primeiro limpar quaisquer caracteres não numéricos\n",
        "        if col in df_copy.columns:\n",
        "            # Converter para string, remover caracteres não numéricos exceto ponto decimal\n",
        "            df_copy[col] = df_copy[col].astype(str).str.replace(r'[^0-9.-]', '', regex=True)\n",
        "            # Converter para float\n",
        "            df_copy[col] = pd.to_numeric(df_copy[col], errors='coerce')\n",
        "\n",
        "    return df_copy"
      ]
    },
    {
      "cell_type": "code",
      "execution_count": 22,
      "id": "fcc0ad81",
      "metadata": {
        "id": "fcc0ad81"
      },
      "outputs": [],
      "source": [
        "# Aplicando a limpeza aos conjuntos de dados\n",
        "train_data = clean_data(train_data)\n",
        "test_data = clean_data(test_data)"
      ]
    },
    {
      "cell_type": "code",
      "execution_count": 23,
      "id": "8da8bc86",
      "metadata": {
        "colab": {
          "base_uri": "https://localhost:8080/"
        },
        "id": "8da8bc86",
        "outputId": "79540e5a-8769-412d-d91d-d29e0d92dbbb"
      },
      "outputs": [
        {
          "output_type": "stream",
          "name": "stdout",
          "text": [
            "<class 'pandas.core.frame.DataFrame'>\n",
            "RangeIndex: 13685 entries, 0 to 13684\n",
            "Data columns (total 19 columns):\n",
            " #   Column                    Non-Null Count  Dtype  \n",
            "---  ------                    --------------  -----  \n",
            " 0   Age                       13685 non-null  float64\n",
            " 1   Occupation                13685 non-null  object \n",
            " 2   Annual_Income             13684 non-null  float64\n",
            " 3   Num_Bank_Accounts         13684 non-null  float64\n",
            " 4   Num_Credit_Card           13684 non-null  float64\n",
            " 5   Interest_Rate             13684 non-null  float64\n",
            " 6   Num_of_Loan               13684 non-null  float64\n",
            " 7   Delay_from_due_date       13684 non-null  float64\n",
            " 8   Num_of_Delayed_Payment    12709 non-null  float64\n",
            " 9   Num_Credit_Inquiries      13398 non-null  float64\n",
            " 10  Credit_Mix                13685 non-null  object \n",
            " 11  Outstanding_Debt          13684 non-null  float64\n",
            " 12  Credit_Utilization_Ratio  13684 non-null  float64\n",
            " 13  Credit_History_Age        13685 non-null  float64\n",
            " 14  Payment_of_Min_Amount     13684 non-null  object \n",
            " 15  Total_EMI_per_month       13684 non-null  float64\n",
            " 16  Amount_invested_monthly   13087 non-null  float64\n",
            " 17  Payment_Behaviour         12667 non-null  object \n",
            " 18  Monthly_Balance           13521 non-null  float64\n",
            "dtypes: float64(15), object(4)\n",
            "memory usage: 2.0+ MB\n"
          ]
        }
      ],
      "source": [
        "test_data.info()"
      ]
    },
    {
      "cell_type": "code",
      "execution_count": 24,
      "id": "0b362ffc",
      "metadata": {
        "colab": {
          "base_uri": "https://localhost:8080/"
        },
        "id": "0b362ffc",
        "outputId": "29394a4c-6c6c-44c8-8575-df794729c20c"
      },
      "outputs": [
        {
          "output_type": "stream",
          "name": "stdout",
          "text": [
            "<class 'pandas.core.frame.DataFrame'>\n",
            "RangeIndex: 13524 entries, 0 to 13523\n",
            "Data columns (total 20 columns):\n",
            " #   Column                    Non-Null Count  Dtype  \n",
            "---  ------                    --------------  -----  \n",
            " 0   Age                       13524 non-null  float64\n",
            " 1   Occupation                13524 non-null  object \n",
            " 2   Annual_Income             13523 non-null  float64\n",
            " 3   Num_Bank_Accounts         13523 non-null  float64\n",
            " 4   Num_Credit_Card           13523 non-null  float64\n",
            " 5   Interest_Rate             13523 non-null  float64\n",
            " 6   Num_of_Loan               13523 non-null  float64\n",
            " 7   Delay_from_due_date       13523 non-null  float64\n",
            " 8   Num_of_Delayed_Payment    12565 non-null  float64\n",
            " 9   Num_Credit_Inquiries      13240 non-null  float64\n",
            " 10  Credit_Mix                13524 non-null  object \n",
            " 11  Outstanding_Debt          13523 non-null  float64\n",
            " 12  Credit_Utilization_Ratio  13523 non-null  float64\n",
            " 13  Credit_History_Age        13524 non-null  float64\n",
            " 14  Payment_of_Min_Amount     13523 non-null  object \n",
            " 15  Total_EMI_per_month       13523 non-null  float64\n",
            " 16  Amount_invested_monthly   12951 non-null  float64\n",
            " 17  Payment_Behaviour         12494 non-null  object \n",
            " 18  Monthly_Balance           13352 non-null  float64\n",
            " 19  Credit_Score              13523 non-null  object \n",
            "dtypes: float64(15), object(5)\n",
            "memory usage: 2.1+ MB\n"
          ]
        }
      ],
      "source": [
        "train_data.info()"
      ]
    },
    {
      "cell_type": "code",
      "execution_count": 25,
      "id": "57557bce",
      "metadata": {
        "id": "57557bce"
      },
      "outputs": [],
      "source": [
        "# Usando dicionário para mapear categorias para valores numéricos\n",
        "mapeamento = {'Good': 2, 'Standard': 1, 'Poor': 0}\n",
        "\n",
        "# Aplicando o mapeamento\n",
        "train_data['Credit_Score'] = train_data['Credit_Score'].map(mapeamento)"
      ]
    },
    {
      "cell_type": "code",
      "execution_count": 26,
      "id": "b86b2e99",
      "metadata": {
        "colab": {
          "base_uri": "https://localhost:8080/"
        },
        "id": "b86b2e99",
        "outputId": "609087c4-2ad2-43ac-cc7c-0ebfc4ba5694"
      },
      "outputs": [
        {
          "output_type": "stream",
          "name": "stdout",
          "text": [
            "\n",
            "Valores nulos após limpeza (treino):\n",
            "Age                            0\n",
            "Occupation                     0\n",
            "Annual_Income                  1\n",
            "Num_Bank_Accounts              1\n",
            "Num_Credit_Card                1\n",
            "Interest_Rate                  1\n",
            "Num_of_Loan                    1\n",
            "Delay_from_due_date            1\n",
            "Num_of_Delayed_Payment       959\n",
            "Num_Credit_Inquiries         284\n",
            "Credit_Mix                     0\n",
            "Outstanding_Debt               1\n",
            "Credit_Utilization_Ratio       1\n",
            "Credit_History_Age             0\n",
            "Payment_of_Min_Amount          1\n",
            "Total_EMI_per_month            1\n",
            "Amount_invested_monthly      573\n",
            "Payment_Behaviour           1030\n",
            "Monthly_Balance              172\n",
            "Credit_Score                   1\n",
            "dtype: int64\n",
            "\n",
            "Valores nulos após limpeza (teste):\n",
            "Age                            0\n",
            "Occupation                     0\n",
            "Annual_Income                  1\n",
            "Num_Bank_Accounts              1\n",
            "Num_Credit_Card                1\n",
            "Interest_Rate                  1\n",
            "Num_of_Loan                    1\n",
            "Delay_from_due_date            1\n",
            "Num_of_Delayed_Payment       976\n",
            "Num_Credit_Inquiries         287\n",
            "Credit_Mix                     0\n",
            "Outstanding_Debt               1\n",
            "Credit_Utilization_Ratio       1\n",
            "Credit_History_Age             0\n",
            "Payment_of_Min_Amount          1\n",
            "Total_EMI_per_month            1\n",
            "Amount_invested_monthly      598\n",
            "Payment_Behaviour           1018\n",
            "Monthly_Balance              164\n",
            "dtype: int64\n"
          ]
        }
      ],
      "source": [
        "# Verificando valores nulos após limpeza\n",
        "print(\"\\nValores nulos após limpeza (treino):\")\n",
        "print(train_data.isnull().sum())\n",
        "print(\"\\nValores nulos após limpeza (teste):\")\n",
        "print(test_data.isnull().sum())"
      ]
    },
    {
      "cell_type": "code",
      "execution_count": 27,
      "id": "0d6dbb51",
      "metadata": {
        "colab": {
          "base_uri": "https://localhost:8080/",
          "height": 565
        },
        "id": "0d6dbb51",
        "outputId": "acf99f61-58b5-4ae2-950e-696714e08724"
      },
      "outputs": [
        {
          "output_type": "display_data",
          "data": {
            "text/plain": [
              "<Figure size 1000x600 with 1 Axes>"
            ],
            "image/png": "[encoded data removed]"
          },
          "metadata": {}
        }
      ],
      "source": [
        "plt.figure(figsize=(10, 6))\n",
        "ax = sns.countplot(x='Credit_Score', data=train_data)\n",
        "plt.title('Distribuição da Classificação de Crédito')\n",
        "plt.ylabel('Quantidade')\n",
        "plt.xlabel('Classificação de Crédito (0=Poor, 1=Standard, 2=Good)')\n",
        "plt.show()"
      ]
    },
    {
      "cell_type": "code",
      "execution_count": 28,
      "id": "8c68eea4",
      "metadata": {
        "colab": {
          "base_uri": "https://localhost:8080/",
          "height": 581
        },
        "id": "8c68eea4",
        "outputId": "7a3a953f-ea67-4d3c-d82c-3abb963aa91d"
      },
      "outputs": [
        {
          "output_type": "execute_result",
          "data": {
            "text/plain": [
              "[]"
            ]
          },
          "metadata": {},
          "execution_count": 28
        },
        {
          "output_type": "display_data",
          "data": {
            "text/plain": [
              "<Figure size 1000x600 with 1 Axes>"
            ],
            "image/png": "[encoded data removed]"
          },
          "metadata": {}
        }
      ],
      "source": [
        "# Verificando a distribuição da idade\n",
        "plt.figure(figsize=(10, 6))\n",
        "sns.histplot(train_data['Age'], kde=True)\n",
        "plt.title('Distribuição de Idade')\n",
        "plt.plot()"
      ]
    },
    {
      "cell_type": "code",
      "execution_count": 29,
      "id": "85389d0c",
      "metadata": {
        "colab": {
          "base_uri": "https://localhost:8080/"
        },
        "id": "85389d0c",
        "outputId": "6d02ae21-024f-40cd-ffea-7e13bcc29cbf"
      },
      "outputs": [
        {
          "output_type": "execute_result",
          "data": {
            "text/plain": [
              "array(['Unknown', 'Good', 'Standard', 'Bad'], dtype=object)"
            ]
          },
          "metadata": {},
          "execution_count": 29
        }
      ],
      "source": [
        "train_data['Credit_Mix'].unique()"
      ]
    },
    {
      "cell_type": "markdown",
      "id": "9d8648a4",
      "metadata": {
        "id": "9d8648a4"
      },
      "source": [
        "#### Quanto maior o histórico de crédito melhor a classificação"
      ]
    },
    {
      "cell_type": "code",
      "execution_count": 30,
      "id": "d6f31470",
      "metadata": {
        "colab": {
          "base_uri": "https://localhost:8080/",
          "height": 582
        },
        "id": "d6f31470",
        "outputId": "538cd9cf-2769-4828-93af-c832e0d370f7"
      },
      "outputs": [
        {
          "output_type": "execute_result",
          "data": {
            "text/plain": [
              "[]"
            ]
          },
          "metadata": {},
          "execution_count": 30
        },
        {
          "output_type": "display_data",
          "data": {
            "text/plain": [
              "<Figure size 1200x600 with 1 Axes>"
            ],
            "image/png": "[encoded data removed]"
          },
          "metadata": {}
        }
      ],
      "source": [
        "# Explorando relação entre histórico de crédito e score\n",
        "plt.figure(figsize=(12, 6))\n",
        "sns.boxplot(x='Credit_Score', y='Credit_History_Age', data=train_data)\n",
        "plt.title('Histórico de Crédito por Classificação de Crédito')\n",
        "plt.plot()"
      ]
    },
    {
      "cell_type": "code",
      "execution_count": 31,
      "id": "a80f8306",
      "metadata": {
        "colab": {
          "base_uri": "https://localhost:8080/",
          "height": 1000
        },
        "id": "a80f8306",
        "outputId": "812e17d3-b1b2-4571-8bde-a1bba3dbba74"
      },
      "outputs": [
        {
          "output_type": "stream",
          "name": "stdout",
          "text": [
            "Credit_Score                1.000000\n",
            "Credit_History_Age          0.362950\n",
            "Age                         0.154270\n",
            "Credit_Utilization_Ratio    0.052184\n",
            "Amount_invested_monthly     0.027548\n",
            "Total_EMI_per_month         0.016585\n",
            "Annual_Income               0.007514\n",
            "Num_of_Loan                -0.001110\n",
            "Monthly_Balance            -0.001500\n",
            "Num_of_Delayed_Payment     -0.008445\n",
            "Interest_Rate              -0.010563\n",
            "Num_Credit_Card            -0.010810\n",
            "Num_Bank_Accounts          -0.022723\n",
            "Num_Credit_Inquiries       -0.030040\n",
            "Outstanding_Debt           -0.385640\n",
            "Delay_from_due_date        -0.428640\n",
            "Name: Credit_Score, dtype: float64\n"
          ]
        },
        {
          "output_type": "display_data",
          "data": {
            "text/plain": [
              "<Figure size 1600x1200 with 2 Axes>"
            ],
            "image/png": "[encoded data removed]"
          },
          "metadata": {}
        }
      ],
      "source": [
        "numeric_cols = train_data.select_dtypes(include=['int64', 'float64']).columns.tolist()\n",
        "corr_matrix = train_data[numeric_cols].corr()\n",
        "\n",
        "# Visualizando as correlações\n",
        "correlacoes_com_target = corr_matrix['Credit_Score'].sort_values(ascending=False)\n",
        "print(correlacoes_com_target)\n",
        "plt.figure(figsize=(16, 12))\n",
        "sns.heatmap(corr_matrix, annot=True, cmap='coolwarm', fmt=\".2f\")\n",
        "plt.title('Matriz de Correlação das Variáveis Numéricas')\n",
        "plt.savefig('matriz_correlacao.png')\n",
        "plt.show()"
      ]
    },
    {
      "cell_type": "code",
      "execution_count": 32,
      "id": "861a52dd",
      "metadata": {
        "colab": {
          "base_uri": "https://localhost:8080/"
        },
        "id": "861a52dd",
        "outputId": "aecfeb3f-9ac3-4783-8415-32f8cbfb7326"
      },
      "outputs": [
        {
          "output_type": "stream",
          "name": "stdout",
          "text": [
            "[ 3. -1.  5.  6.  8.  7. 13. 10.  0.  4.  9.  1. 12. 11. 30. 31. 34. 27.\n",
            " 14.  2. -2. 16. 17. 15. 23. 22. 21. 18. 19. 52. 51. 48. 53. 26. 43. 28.\n",
            " 25. 20. 47. 46. 49. 24. 61. 29. 50. 58. 45. 59. 55. 56. 57. 54. 62. 65.\n",
            " 64. 67. 36. 41. 33. 32. 39. 44. 42. 60. 35. 38. -3. 63. 40. 37. -5. -4.\n",
            " 66. nan]\n"
          ]
        }
      ],
      "source": [
        "print(train_data['Delay_from_due_date'].unique())"
      ]
    },
    {
      "cell_type": "code",
      "execution_count": 33,
      "id": "b37928b5",
      "metadata": {
        "colab": {
          "base_uri": "https://localhost:8080/",
          "height": 565
        },
        "id": "b37928b5",
        "outputId": "01126500-c67f-40cd-be92-880df8c264e1"
      },
      "outputs": [
        {
          "output_type": "display_data",
          "data": {
            "text/plain": [
              "<Figure size 1200x600 with 1 Axes>"
            ],
            "image/png": "[encoded data removed]"
          },
          "metadata": {}
        }
      ],
      "source": [
        "# Explorando a relação entre atraso de pagamento e pontuação de crédito\n",
        "plt.figure(figsize=(12, 6))\n",
        "sns.boxplot(x='Credit_Score', y='Delay_from_due_date', data=train_data)\n",
        "plt.title('Atraso de Pagamento por Classificação de Crédito')\n",
        "plt.xlabel('Classificação de Crédito')\n",
        "plt.ylabel('Atraso de Pagamento (dias)')\n",
        "plt.show()\n"
      ]
    },
    {
      "cell_type": "markdown",
      "id": "66eea47b",
      "metadata": {
        "id": "66eea47b"
      },
      "source": [
        "Isso mostra que o atraso no pagamento auxlia na decisão de aprovar ou não o crédito"
      ]
    },
    {
      "cell_type": "code",
      "execution_count": 34,
      "id": "4d937348",
      "metadata": {
        "colab": {
          "base_uri": "https://localhost:8080/"
        },
        "id": "4d937348",
        "outputId": "dc65e5e2-f3a3-461e-b62c-df3c58f52122"
      },
      "outputs": [
        {
          "output_type": "stream",
          "name": "stdout",
          "text": [
            "[ 809.98  605.03 1303.01 ... 3727.23  410.       nan]\n"
          ]
        }
      ],
      "source": [
        "print(train_data['Outstanding_Debt'].unique())"
      ]
    },
    {
      "cell_type": "code",
      "execution_count": 35,
      "id": "b8f8d328",
      "metadata": {
        "colab": {
          "base_uri": "https://localhost:8080/",
          "height": 565
        },
        "id": "b8f8d328",
        "outputId": "97697974-5786-40dc-8ad1-ea2b685e32cc"
      },
      "outputs": [
        {
          "output_type": "display_data",
          "data": {
            "text/plain": [
              "<Figure size 1200x600 with 1 Axes>"
            ],
            "image/png": "[encoded data removed]"
          },
          "metadata": {}
        }
      ],
      "source": [
        "plt.figure(figsize=(12, 6))\n",
        "sns.boxplot(x='Credit_Score', y='Outstanding_Debt', data=train_data)\n",
        "plt.title('Dívida Pendentes por Classificação de Crédito')\n",
        "plt.xlabel('Classificação de Crédito')\n",
        "plt.ylabel('Dívida Pendentes')\n",
        "plt.show()\n"
      ]
    },
    {
      "cell_type": "code",
      "execution_count": 36,
      "id": "b3f76ea3",
      "metadata": {
        "colab": {
          "base_uri": "https://localhost:8080/",
          "height": 565
        },
        "id": "b3f76ea3",
        "outputId": "c88bef20-ab94-4c72-bcb1-c1707f922411"
      },
      "outputs": [
        {
          "output_type": "display_data",
          "data": {
            "text/plain": [
              "<Figure size 1200x600 with 1 Axes>"
            ],
            "image/png": "[encoded data removed]"
          },
          "metadata": {}
        }
      ],
      "source": [
        "plt.figure(figsize=(12, 6))\n",
        "sns.boxplot(x='Credit_Score', y='Age', data=train_data)\n",
        "plt.title('Idade por Classificação de Crédito')\n",
        "plt.xlabel('Classificação de Crédito')\n",
        "plt.ylabel('Idade')\n",
        "plt.show()\n"
      ]
    },
    {
      "cell_type": "code",
      "execution_count": 37,
      "id": "21eac67a",
      "metadata": {
        "colab": {
          "base_uri": "https://localhost:8080/"
        },
        "id": "21eac67a",
        "outputId": "ed156663-ec49-49f3-fba2-2efd77b8c4b7"
      },
      "outputs": [
        {
          "output_type": "stream",
          "name": "stdout",
          "text": [
            "Valores únicos na coluna Occupation: ['Scientist' 'Other' 'Teacher' 'Engineer' 'Entrepreneur' 'Developer'\n",
            " 'Lawyer' 'Media_Manager' 'Doctor' 'Journalist' 'Manager' 'Accountant'\n",
            " 'Musician' 'Mechanic' 'Writer' 'Architect']\n",
            "Valores únicos na coluna Credit_Mix: ['Unknown' 'Good' 'Standard' 'Bad']\n",
            "Valores únicos na coluna Payment_of_Min_Amount: ['No' 'NM' 'Yes' nan]\n",
            "Valores únicos na coluna Payment_Behaviour: ['High_spent_Small_value_payments' 'Low_spent_Large_value_payments'\n",
            " 'Low_spent_Medium_value_payments' 'Low_spent_Small_value_payments'\n",
            " 'High_spent_Medium_value_payments' nan 'High_spent_Large_value_payments']\n"
          ]
        }
      ],
      "source": [
        "colunas_obj = ['Occupation', 'Credit_Mix', 'Payment_of_Min_Amount', 'Payment_Behaviour']\n",
        "for coluna in colunas_obj:\n",
        "    print(f\"Valores únicos na coluna {coluna}: {train_data[coluna].unique()}\")\n"
      ]
    },
    {
      "cell_type": "code",
      "execution_count": 38,
      "id": "0f03c7bf",
      "metadata": {
        "colab": {
          "base_uri": "https://localhost:8080/"
        },
        "id": "0f03c7bf",
        "outputId": "7f9b3108-68df-4a95-de67-b0d3ea45ccab"
      },
      "outputs": [
        {
          "output_type": "stream",
          "name": "stdout",
          "text": [
            "Valores codificados na coluna Occupation: [13 12 14  4  5  2  7 10  3  6  8  0 11  9 15  1]\n",
            "Valores codificados na coluna Credit_Mix: [3 1 2 0]\n",
            "Valores codificados na coluna Payment_of_Min_Amount: [2 1 3 0]\n",
            "Valores codificados na coluna Payment_Behaviour: [2 3 4 5 1 6 0]\n"
          ]
        }
      ],
      "source": [
        "\n",
        "\n",
        "# Criar um dicionário para armazenar os encoders\n",
        "encoders = {}\n",
        "\n",
        "# Colunas categóricas a serem codificadas\n",
        "colunas_categoricas = ['Occupation', 'Credit_Mix', 'Payment_of_Min_Amount', 'Payment_Behaviour']\n",
        "\n",
        "# Aplicar Label Encoding em cada coluna categórica\n",
        "for coluna in colunas_categoricas:\n",
        "    le = LabelEncoder()\n",
        "    # Preencher valores NaN com uma string para codificação\n",
        "    train_data[coluna] = train_data[coluna].fillna('Missing')\n",
        "    train_data[coluna] = le.fit_transform(train_data[coluna])\n",
        "    encoders[coluna] = le\n",
        "\n",
        "# Exibir os valores codificados para verificação\n",
        "for coluna in colunas_categoricas:\n",
        "    print(f\"Valores codificados na coluna {coluna}: {train_data[coluna].unique()}\")\n"
      ]
    },
    {
      "cell_type": "code",
      "execution_count": 39,
      "id": "0693151d",
      "metadata": {
        "colab": {
          "base_uri": "https://localhost:8080/"
        },
        "id": "0693151d",
        "outputId": "0b4f1110-ac2a-47bf-f530-12142e7d58e4"
      },
      "outputs": [
        {
          "output_type": "stream",
          "name": "stdout",
          "text": [
            "Correlação entre Occupation e Credit_Score: -0.01326341692364455\n",
            "Correlação entre Credit_Mix e Credit_Score: 0.11400621662141303\n",
            "Correlação entre Payment_of_Min_Amount e Credit_Score: -0.2739294620322546\n",
            "Correlação entre Payment_Behaviour e Credit_Score: -0.10193690412787318\n"
          ]
        }
      ],
      "source": [
        "# Calcular a correlação entre as colunas codificadas e a coluna 'Credit_Score'\n",
        "correlacoes = {}\n",
        "for coluna in colunas_categoricas:\n",
        "    correlacao = train_data[coluna].corr(train_data['Credit_Score'])\n",
        "    correlacoes[coluna] = correlacao\n",
        "\n",
        "# Exibir a lista de correlações\n",
        "for coluna, correlacao in correlacoes.items():\n",
        "    print(f\"Correlação entre {coluna} e Credit_Score: {correlacao}\")\n"
      ]
    },
    {
      "cell_type": "code",
      "execution_count": 40,
      "id": "fa7dbea2",
      "metadata": {
        "colab": {
          "base_uri": "https://localhost:8080/",
          "height": 711
        },
        "id": "fa7dbea2",
        "outputId": "885868cd-83cb-46b1-cd14-589d0516e540"
      },
      "outputs": [
        {
          "output_type": "execute_result",
          "data": {
            "text/plain": [
              "Credit_Score                1.000000\n",
              "Credit_History_Age          0.362950\n",
              "Age                         0.154270\n",
              "Credit_Mix                  0.114006\n",
              "Credit_Utilization_Ratio    0.052184\n",
              "Amount_invested_monthly     0.027548\n",
              "Total_EMI_per_month         0.016585\n",
              "Annual_Income               0.007514\n",
              "Num_of_Loan                -0.001110\n",
              "Monthly_Balance            -0.001500\n",
              "Num_of_Delayed_Payment     -0.008445\n",
              "Interest_Rate              -0.010563\n",
              "Num_Credit_Card            -0.010810\n",
              "Occupation                 -0.013263\n",
              "Num_Bank_Accounts          -0.022723\n",
              "Num_Credit_Inquiries       -0.030040\n",
              "Payment_Behaviour          -0.101937\n",
              "Payment_of_Min_Amount      -0.273929\n",
              "Outstanding_Debt           -0.385640\n",
              "Delay_from_due_date        -0.428640\n",
              "Name: Credit_Score, dtype: float64"
            ],
            "text/html": [
              "<div>\n",
              "<style scoped>\n",
              "    .dataframe tbody tr th:only-of-type {\n",
              "        vertical-align: middle;\n",
              "    }\n",
              "\n",
              "    .dataframe tbody tr th {\n",
              "        vertical-align: top;\n",
              "    }\n",
              "\n",
              "    .dataframe thead th {\n",
              "        text-align: right;\n",
              "    }\n",
              "</style>\n",
              "<table border=\"1\" class=\"dataframe\">\n",
              "  <thead>\n",
              "    <tr style=\"text-align: right;\">\n",
              "      <th></th>\n",
              "      <th>Credit_Score</th>\n",
              "    </tr>\n",
              "  </thead>\n",
              "  <tbody>\n",
              "    <tr>\n",
              "      <th>Credit_Score</th>\n",
              "      <td>1.000000</td>\n",
              "    </tr>\n",
              "    <tr>\n",
              "      <th>Credit_History_Age</th>\n",
              "      <td>0.362950</td>\n",
              "    </tr>\n",
              "    <tr>\n",
              "      <th>Age</th>\n",
              "      <td>0.154270</td>\n",
              "    </tr>\n",
              "    <tr>\n",
              "      <th>Credit_Mix</th>\n",
              "      <td>0.114006</td>\n",
              "    </tr>\n",
              "    <tr>\n",
              "      <th>Credit_Utilization_Ratio</th>\n",
              "      <td>0.052184</td>\n",
              "    </tr>\n",
              "    <tr>\n",
              "      <th>Amount_invested_monthly</th>\n",
              "      <td>0.027548</td>\n",
              "    </tr>\n",
              "    <tr>\n",
              "      <th>Total_EMI_per_month</th>\n",
              "      <td>0.016585</td>\n",
              "    </tr>\n",
              "    <tr>\n",
              "      <th>Annual_Income</th>\n",
              "      <td>0.007514</td>\n",
              "    </tr>\n",
              "    <tr>\n",
              "      <th>Num_of_Loan</th>\n",
              "      <td>-0.001110</td>\n",
              "    </tr>\n",
              "    <tr>\n",
              "      <th>Monthly_Balance</th>\n",
              "      <td>-0.001500</td>\n",
              "    </tr>\n",
              "    <tr>\n",
              "      <th>Num_of_Delayed_Payment</th>\n",
              "      <td>-0.008445</td>\n",
              "    </tr>\n",
              "    <tr>\n",
              "      <th>Interest_Rate</th>\n",
              "      <td>-0.010563</td>\n",
              "    </tr>\n",
              "    <tr>\n",
              "      <th>Num_Credit_Card</th>\n",
              "      <td>-0.010810</td>\n",
              "    </tr>\n",
              "    <tr>\n",
              "      <th>Occupation</th>\n",
              "      <td>-0.013263</td>\n",
              "    </tr>\n",
              "    <tr>\n",
              "      <th>Num_Bank_Accounts</th>\n",
              "      <td>-0.022723</td>\n",
              "    </tr>\n",
              "    <tr>\n",
              "      <th>Num_Credit_Inquiries</th>\n",
              "      <td>-0.030040</td>\n",
              "    </tr>\n",
              "    <tr>\n",
              "      <th>Payment_Behaviour</th>\n",
              "      <td>-0.101937</td>\n",
              "    </tr>\n",
              "    <tr>\n",
              "      <th>Payment_of_Min_Amount</th>\n",
              "      <td>-0.273929</td>\n",
              "    </tr>\n",
              "    <tr>\n",
              "      <th>Outstanding_Debt</th>\n",
              "      <td>-0.385640</td>\n",
              "    </tr>\n",
              "    <tr>\n",
              "      <th>Delay_from_due_date</th>\n",
              "      <td>-0.428640</td>\n",
              "    </tr>\n",
              "  </tbody>\n",
              "</table>\n",
              "</div><br><label><b>dtype:</b> float64</label>"
            ]
          },
          "metadata": {},
          "execution_count": 40
        }
      ],
      "source": [
        "# Calcular a correlação entre todas as colunas e a coluna 'Credit_Score'\n",
        "correlacoes_todas = train_data.corr()['Credit_Score']\n",
        "correlacoes_todas.sort_values(ascending=False)"
      ]
    },
    {
      "cell_type": "code",
      "execution_count": 41,
      "id": "59c5b06e",
      "metadata": {
        "colab": {
          "base_uri": "https://localhost:8080/"
        },
        "id": "59c5b06e",
        "outputId": "8a0b7e69-9e75-4986-ee42-0503e442dfcd"
      },
      "outputs": [
        {
          "output_type": "stream",
          "name": "stdout",
          "text": [
            "\n",
            "Verificando valores numéricos inválidos...\n",
            "Coluna Annual_Income contém valores não numéricos: [nan]\n",
            "Coluna Num_Bank_Accounts contém valores não numéricos: [nan]\n",
            "Coluna Num_Credit_Card contém valores não numéricos: [nan]\n",
            "Coluna Interest_Rate contém valores não numéricos: [nan]\n",
            "Coluna Num_of_Loan contém valores não numéricos: [nan]\n",
            "Coluna Delay_from_due_date contém valores não numéricos: [nan]\n",
            "Coluna Num_of_Delayed_Payment contém valores não numéricos: [nan]\n",
            "Coluna Num_Credit_Inquiries contém valores não numéricos: [nan]\n",
            "Coluna Outstanding_Debt contém valores não numéricos: [nan]\n",
            "Coluna Credit_Utilization_Ratio contém valores não numéricos: [nan]\n",
            "Coluna Total_EMI_per_month contém valores não numéricos: [nan]\n",
            "Coluna Amount_invested_monthly contém valores não numéricos: [nan]\n",
            "Coluna Monthly_Balance contém valores não numéricos: [            nan -3.33333333e+26]\n",
            "Coluna Credit_Score contém valores não numéricos: [nan]\n"
          ]
        }
      ],
      "source": [
        "print(\"\\nVerificando valores numéricos inválidos...\")\n",
        "numeric_cols = train_data.select_dtypes(include=['int64', 'float64']).columns.tolist()\n",
        "for col in numeric_cols:\n",
        "    invalid_values = train_data[~train_data[col].astype(str).str.replace('.', '').str.replace('-', '').str.isdigit()]\n",
        "    if not invalid_values.empty:\n",
        "        print(f\"Coluna {col} contém valores não numéricos: {invalid_values[col].unique()}\")"
      ]
    },
    {
      "cell_type": "code",
      "execution_count": 42,
      "id": "c9a52cb3",
      "metadata": {
        "colab": {
          "base_uri": "https://localhost:8080/"
        },
        "id": "c9a52cb3",
        "outputId": "3d8eb746-66c7-44ed-e553-48313ab07c35"
      },
      "outputs": [
        {
          "output_type": "stream",
          "name": "stdout",
          "text": [
            "Age                           0\n",
            "Occupation                    0\n",
            "Annual_Income                 1\n",
            "Num_Bank_Accounts             1\n",
            "Num_Credit_Card               1\n",
            "Interest_Rate                 1\n",
            "Num_of_Loan                   1\n",
            "Delay_from_due_date           1\n",
            "Num_of_Delayed_Payment      959\n",
            "Num_Credit_Inquiries        284\n",
            "Credit_Mix                    0\n",
            "Outstanding_Debt              1\n",
            "Credit_Utilization_Ratio      1\n",
            "Credit_History_Age            0\n",
            "Payment_of_Min_Amount         0\n",
            "Total_EMI_per_month           1\n",
            "Amount_invested_monthly     573\n",
            "Payment_Behaviour             0\n",
            "Monthly_Balance             172\n",
            "Credit_Score                  1\n",
            "dtype: int64\n"
          ]
        }
      ],
      "source": [
        "print(train_data.isnull().sum())"
      ]
    },
    {
      "cell_type": "code",
      "execution_count": 43,
      "id": "7a248215",
      "metadata": {
        "id": "7a248215"
      },
      "outputs": [],
      "source": [
        "# Separando features e target\n",
        "X = train_data.drop(['Credit_Score'], axis=1)\n",
        "y = train_data['Credit_Score']"
      ]
    },
    {
      "cell_type": "code",
      "execution_count": 44,
      "id": "de01c357",
      "metadata": {
        "colab": {
          "base_uri": "https://localhost:8080/"
        },
        "id": "de01c357",
        "outputId": "e34d39b2-0cd4-49d2-e984-a4680894b5aa"
      },
      "outputs": [
        {
          "output_type": "stream",
          "name": "stdout",
          "text": [
            "\n",
            "Formato dos dados após limpeza:\n",
            "X: (13524, 19)\n",
            "y: (13524,)\n",
            "\n",
            "Tipos de dados após limpeza:\n",
            "Age                         float64\n",
            "Occupation                    int64\n",
            "Annual_Income               float64\n",
            "Num_Bank_Accounts           float64\n",
            "Num_Credit_Card             float64\n",
            "Interest_Rate               float64\n",
            "Num_of_Loan                 float64\n",
            "Delay_from_due_date         float64\n",
            "Num_of_Delayed_Payment      float64\n",
            "Num_Credit_Inquiries        float64\n",
            "Credit_Mix                    int64\n",
            "Outstanding_Debt            float64\n",
            "Credit_Utilization_Ratio    float64\n",
            "Credit_History_Age          float64\n",
            "Payment_of_Min_Amount         int64\n",
            "Total_EMI_per_month         float64\n",
            "Amount_invested_monthly     float64\n",
            "Payment_Behaviour             int64\n",
            "Monthly_Balance             float64\n",
            "dtype: object\n"
          ]
        }
      ],
      "source": [
        "# Visualizando dados após a limpeza\n",
        "print(\"\\nFormato dos dados após limpeza:\")\n",
        "print(f\"X: {X.shape}\")\n",
        "print(f\"y: {y.shape}\")\n",
        "\n",
        "print(\"\\nTipos de dados após limpeza:\")\n",
        "print(X.dtypes)"
      ]
    },
    {
      "cell_type": "code",
      "execution_count": 45,
      "id": "8ebcb4da",
      "metadata": {
        "id": "8ebcb4da"
      },
      "outputs": [],
      "source": [
        "# Definição das features\n",
        "features = [col for col in train_data.columns if col != 'Credit_Score']\n",
        "\n",
        "# Preprocessador para features numéricas\n",
        "numerical_transformer = Pipeline(steps=[\n",
        "    ('imputer', SimpleImputer(strategy='median')),\n",
        "    ('scaler', StandardScaler())])\n",
        "\n",
        "preprocessor = ColumnTransformer(\n",
        "    transformers=[\n",
        "        ('num', numerical_transformer, features)])\n",
        "\n",
        "\n",
        "X_transformado = preprocessor.fit_transform(X)\n",
        "# Usar weighted average (considera a proporção de cada classe)\n"
      ]
    },
    {
      "cell_type": "code",
      "execution_count": 56,
      "id": "dfa52cbf",
      "metadata": {
        "colab": {
          "base_uri": "https://localhost:8080/"
        },
        "id": "dfa52cbf",
        "outputId": "d21c0b27-fbee-43cb-9ea8-c0da1f1c86a2"
      },
      "outputs": [
        {
          "output_type": "stream",
          "name": "stdout",
          "text": [
            "Distribuição das classes:\n",
            "Credit_Score\n",
            "1.0    7103\n",
            "0.0    4008\n",
            "2.0    2412\n",
            "Name: count, dtype: int64\n",
            "Proporção da classe 0 (poor): 0.2964\n",
            "\n",
            "Valores faltantes em y: 1\n",
            "Valores faltantes em X_transformado: 0\n"
          ]
        }
      ],
      "source": [
        "# Verificar a distribuição das classes\n",
        "print(\"Distribuição das classes:\")\n",
        "print(y.value_counts())\n",
        "print(f\"Proporção da classe 0 (poor): {(y == 0).mean():.4f}\")\n",
        "\n",
        "# Verificar se há valores faltantes\n",
        "print(f\"\\nValores faltantes em y: {y.isna().sum()}\")\n",
        "print(f\"Valores faltantes em X_transformado: {np.isnan(X_transformado).sum()}\")\n",
        "\n"
      ]
    },
    {
      "cell_type": "code",
      "source": [
        "X_transformado = pd.DataFrame(X_transformado)\n",
        "y = pd.Series(y)\n",
        "\n",
        "# Identificar os índices válidos (sem NaN em y)\n",
        "indices_validos = y.notna()\n",
        "\n",
        "# Filtrar ambos\n",
        "X_transformado = X_transformado[indices_validos]\n",
        "y = y[indices_validos]"
      ],
      "metadata": {
        "id": "EQKyG8Ge4iTC"
      },
      "id": "EQKyG8Ge4iTC",
      "execution_count": 57,
      "outputs": []
    },
    {
      "cell_type": "code",
      "source": [
        "print(f\"Valores faltantes em y: {y.isna().sum()}\")\n",
        "print(f\"Formato de X_transformado: {X_transformado.shape}\")\n",
        "print(f\"Formato de y: {y.shape}\")"
      ],
      "metadata": {
        "colab": {
          "base_uri": "https://localhost:8080/"
        },
        "id": "DXqvbyIt4kSj",
        "outputId": "ab2a3c5e-5476-4e28-ef4e-670fc954b2aa"
      },
      "id": "DXqvbyIt4kSj",
      "execution_count": 58,
      "outputs": [
        {
          "output_type": "stream",
          "name": "stdout",
          "text": [
            "Valores faltantes em y: 0\n",
            "Formato de X_transformado: (13523, 19)\n",
            "Formato de y: (13523,)\n"
          ]
        }
      ]
    },
    {
      "cell_type": "markdown",
      "id": "6dc3ede3",
      "metadata": {
        "id": "6dc3ede3"
      },
      "source": [
        "### Criação dos pipelines para treinamento dos modelos, utilizando GridSearch para otimizar os parâmetros"
      ]
    },
    {
      "cell_type": "code",
      "execution_count": 59,
      "id": "b8babfd9",
      "metadata": {
        "id": "b8babfd9"
      },
      "outputs": [],
      "source": [
        "f1_scorer = make_scorer(f1_score, average='weighted')"
      ]
    },
    {
      "cell_type": "code",
      "source": [
        "print(np.isnan(X_transformado).any())"
      ],
      "metadata": {
        "colab": {
          "base_uri": "https://localhost:8080/"
        },
        "id": "_E7glB2h4AsE",
        "outputId": "8497b0f0-e366-4161-c97f-ed91f1d8dd66"
      },
      "id": "_E7glB2h4AsE",
      "execution_count": 60,
      "outputs": [
        {
          "output_type": "stream",
          "name": "stdout",
          "text": [
            "0     False\n",
            "1     False\n",
            "2     False\n",
            "3     False\n",
            "4     False\n",
            "5     False\n",
            "6     False\n",
            "7     False\n",
            "8     False\n",
            "9     False\n",
            "10    False\n",
            "11    False\n",
            "12    False\n",
            "13    False\n",
            "14    False\n",
            "15    False\n",
            "16    False\n",
            "17    False\n",
            "18    False\n",
            "dtype: bool\n"
          ]
        }
      ]
    },
    {
      "cell_type": "code",
      "execution_count": 61,
      "id": "21bcd867",
      "metadata": {
        "colab": {
          "base_uri": "https://localhost:8080/"
        },
        "id": "21bcd867",
        "outputId": "cdb60a72-49b1-4b58-d2f5-ce5cdb78d73c"
      },
      "outputs": [
        {
          "output_type": "stream",
          "name": "stdout",
          "text": [
            "Treinando Random Forest...\n",
            "\n",
            "--- Resultados Random Forest ---\n",
            "Melhor f1-score: 0.6705\n",
            "Melhores parâmetros: {'classificador__max_depth': 10, 'classificador__min_samples_split': 10, 'classificador__n_estimators': 200}\n"
          ]
        }
      ],
      "source": [
        "\n",
        "\n",
        "# Pipeline com Random Forest\n",
        "pipeline_rf = Pipeline([\n",
        "    ('classificador', RandomForestClassifier(random_state=42))\n",
        "])\n",
        "\n",
        "# Parâmetros para execução\n",
        "parametros_rf = {\n",
        "  'classificador__n_estimators': [100, 200, 300],\n",
        "    'classificador__max_depth': [None, 10, 20],\n",
        "    'classificador__min_samples_split': [2, 5, 10]\n",
        "}\n",
        "\n",
        "# GridSearch\n",
        "grid_rf = GridSearchCV(pipeline_rf, parametros_rf, cv=3, scoring=f1_scorer, n_jobs=-1)\n",
        "\n",
        "# Treinamento\n",
        "print(\"Treinando Random Forest...\")\n",
        "grid_rf.fit(X_transformado, y)\n",
        "\n",
        "# Resultados\n",
        "print(\"\\n--- Resultados Random Forest ---\")\n",
        "print(f\"Melhor f1-score: {grid_rf.best_score_:.4f}\")\n",
        "print(f\"Melhores parâmetros: {grid_rf.best_params_}\")"
      ]
    },
    {
      "cell_type": "code",
      "execution_count": 62,
      "id": "3f0f718d",
      "metadata": {
        "colab": {
          "base_uri": "https://localhost:8080/"
        },
        "id": "3f0f718d",
        "outputId": "e702bf66-4b48-4e59-8b6c-0f1ffd5fb059"
      },
      "outputs": [
        {
          "output_type": "stream",
          "name": "stdout",
          "text": [
            "Treinando XGBoost...\n",
            "\n",
            "--- Resultados XGBoost ---\n",
            "Melhor f1-score: 0.6647\n",
            "Melhores parâmetros: {'classificador__learning_rate': 0.01, 'classificador__max_depth': 5, 'classificador__n_estimators': 200}\n"
          ]
        }
      ],
      "source": [
        "# Pipeline com XGBoost\n",
        "pipeline_xgb = Pipeline([\n",
        "    ('classificador', xgb.XGBClassifier(random_state=42))\n",
        "])\n",
        "\n",
        "# Parâmetros para execução\n",
        "parametros_xgb = {\n",
        "    'classificador__n_estimators': [100, 200],\n",
        "    'classificador__max_depth': [3, 5, 7],\n",
        "    'classificador__learning_rate': [0.01, 0.1]\n",
        "}\n",
        "\n",
        "# GridSearch\n",
        "grid_xgb = GridSearchCV(pipeline_xgb, parametros_xgb, cv=3, scoring=f1_scorer, n_jobs=-1)\n",
        "\n",
        "# Treinamento\n",
        "print(\"Treinando XGBoost...\")\n",
        "grid_xgb.fit(X_transformado, y)\n",
        "\n",
        "# Resultados\n",
        "print(\"\\n--- Resultados XGBoost ---\")\n",
        "print(f\"Melhor f1-score: {grid_xgb.best_score_:.4f}\")\n",
        "print(f\"Melhores parâmetros: {grid_xgb.best_params_}\")"
      ]
    },
    {
      "cell_type": "code",
      "execution_count": 63,
      "id": "aa9e5292",
      "metadata": {
        "colab": {
          "base_uri": "https://localhost:8080/"
        },
        "id": "aa9e5292",
        "outputId": "93559df8-f895-4288-95a6-ccb2e6ca6bb0"
      },
      "outputs": [
        {
          "output_type": "stream",
          "name": "stdout",
          "text": [
            "Treinando LightGBM...\n",
            "[LightGBM] [Info] Auto-choosing row-wise multi-threading, the overhead of testing was 0.001141 seconds.\n",
            "You can set `force_row_wise=true` to remove the overhead.\n",
            "And if memory is not enough, you can set `force_col_wise=true`.\n",
            "[LightGBM] [Info] Total Bins 2185\n",
            "[LightGBM] [Info] Number of data points in the train set: 13523, number of used features: 18\n",
            "[LightGBM] [Info] Start training from score -1.216100\n",
            "[LightGBM] [Info] Start training from score -0.643875\n",
            "[LightGBM] [Info] Start training from score -1.723936\n",
            "\n",
            "--- Resultados LightGBM ---\n",
            "Melhor f1-score: 0.6609\n",
            "Melhores parâmetros: {'classificador__learning_rate': 0.01, 'classificador__max_depth': 7, 'classificador__n_estimators': 200}\n"
          ]
        }
      ],
      "source": [
        "# Pipeline com LightGBM\n",
        "pipeline_lgbm = Pipeline([\n",
        "    ('classificador', lgb.LGBMClassifier(random_state=42))\n",
        "])\n",
        "\n",
        "# Parâmetros para execução\n",
        "parametros_lgbm = {\n",
        "    'classificador__n_estimators': [100, 200],\n",
        "    'classificador__max_depth': [3, 5, 7],\n",
        "    'classificador__learning_rate': [0.01, 0.1]\n",
        "}\n",
        "\n",
        "# GridSearch\n",
        "grid_lgbm = GridSearchCV(pipeline_lgbm, parametros_lgbm, cv=3, scoring=f1_scorer, n_jobs=-1)\n",
        "\n",
        "# Treinamento\n",
        "print(\"Treinando LightGBM...\")\n",
        "grid_lgbm.fit(X_transformado, y)\n",
        "\n",
        "# Resultados\n",
        "print(\"\\n--- Resultados LightGBM ---\")\n",
        "print(f\"Melhor f1-score: {grid_lgbm.best_score_:.4f}\")\n",
        "print(f\"Melhores parâmetros: {grid_lgbm.best_params_}\")"
      ]
    },
    {
      "cell_type": "code",
      "execution_count": 64,
      "id": "7c110382",
      "metadata": {
        "colab": {
          "base_uri": "https://localhost:8080/"
        },
        "id": "7c110382",
        "outputId": "7f0812fc-6389-45fa-fd41-fcb46b7533ac"
      },
      "outputs": [
        {
          "output_type": "stream",
          "name": "stdout",
          "text": [
            "\n",
            "Melhor modelo: Random Forest com f1-score de 0.6705\n"
          ]
        }
      ],
      "source": [
        "# Determinação do melhor modelo\n",
        "modelos = {'Random Forest': grid_rf, 'XGBoost': grid_xgb, 'LightGBM': grid_lgbm}\n",
        "melhor_modelo = max(modelos.items(), key=lambda x: x[1].best_score_)\n",
        "print(f\"\\nMelhor modelo: {melhor_modelo[0]} com f1-score de {melhor_modelo[1].best_score_:.4f}\")"
      ]
    },
    {
      "cell_type": "code",
      "execution_count": 65,
      "id": "2bd831ba",
      "metadata": {
        "id": "2bd831ba"
      },
      "outputs": [],
      "source": [
        "# Função para avaliar modelo com múltiplas métricas\n",
        "def avaliar_modelo(modelo, X, y, nome_modelo):\n",
        "    # Fazer predições\n",
        "    y_pred = modelo.predict(X)\n",
        "    y_proba = modelo.predict_proba(X)\n",
        "\n",
        "    # Calcular métricas\n",
        "    accuracy = accuracy_score(y, y_pred)\n",
        "    precision = precision_score(y, y_pred, average='weighted')\n",
        "    recall = recall_score(y, y_pred, average='weighted')\n",
        "    f1 = f1_score(y, y_pred, average='weighted')\n",
        "\n",
        "    # Para ROC AUC em multiclasse, usamos One-vs-Rest\n",
        "    try:\n",
        "        roc_auc = roc_auc_score(y, y_proba, multi_class='ovr')\n",
        "    except:\n",
        "        roc_auc = \"N/A\"\n",
        "\n",
        "    # Matriz de confusão\n",
        "    cm = confusion_matrix(y, y_pred)\n",
        "\n",
        "    # Exibir resultados\n",
        "    print(f\"\\n--- Resultados {nome_modelo} ---\")\n",
        "    print(f\"Acurácia: {accuracy:.4f}\")\n",
        "    print(f\"Precisão (weighted): {precision:.4f}\")\n",
        "    print(f\"Recall (weighted): {recall:.4f}\")\n",
        "    print(f\"F1-Score (weighted): {f1:.4f}\")\n",
        "    print(f\"ROC AUC (OvR): {roc_auc}\")\n",
        "\n",
        "    # Exibir matriz de confusão\n",
        "    print(\"\\nMatriz de Confusão:\")\n",
        "    print(cm)\n",
        "\n",
        "    return {\n",
        "        'modelo': nome_modelo,\n",
        "        'accuracy': accuracy,\n",
        "        'precision': precision,\n",
        "        'recall': recall,\n",
        "        'f1': f1,\n",
        "        'roc_auc': roc_auc\n",
        "    }\n"
      ]
    },
    {
      "cell_type": "code",
      "execution_count": 66,
      "id": "fc65b2d0",
      "metadata": {
        "colab": {
          "base_uri": "https://localhost:8080/"
        },
        "id": "fc65b2d0",
        "outputId": "55a0cd43-4140-4b54-d988-8b59e0201231"
      },
      "outputs": [
        {
          "output_type": "stream",
          "name": "stdout",
          "text": [
            "\n",
            "--- Resultados Random Forest ---\n",
            "Acurácia: 0.8117\n",
            "Precisão (weighted): 0.8125\n",
            "Recall (weighted): 0.8117\n",
            "F1-Score (weighted): 0.8120\n",
            "ROC AUC (OvR): 0.9357356297610141\n",
            "\n",
            "Matriz de Confusão:\n",
            "[[3193  651  164]\n",
            " [ 723 5890  490]\n",
            " [   6  512 1894]]\n"
          ]
        }
      ],
      "source": [
        "# Avaliar cada modelo após treinar\n",
        "resultados_rf = avaliar_modelo(grid_rf.best_estimator_, X_transformado, y, \"Random Forest\")"
      ]
    },
    {
      "cell_type": "code",
      "execution_count": 67,
      "id": "d5734a85",
      "metadata": {
        "colab": {
          "base_uri": "https://localhost:8080/"
        },
        "id": "d5734a85",
        "outputId": "8c04f2ad-1b9c-4a5e-b464-98db0ccf509c"
      },
      "outputs": [
        {
          "output_type": "stream",
          "name": "stdout",
          "text": [
            "\n",
            "--- Resultados XGBoost ---\n",
            "Acurácia: 0.7403\n",
            "Precisão (weighted): 0.7435\n",
            "Recall (weighted): 0.7403\n",
            "F1-Score (weighted): 0.7413\n",
            "ROC AUC (OvR): 0.8772020219741427\n",
            "\n",
            "Matriz de Confusão:\n",
            "[[2884  841  283]\n",
            " [ 974 5406  723]\n",
            " [  38  653 1721]]\n"
          ]
        }
      ],
      "source": [
        "resultados_xgb = avaliar_modelo(grid_xgb.best_estimator_, X_transformado, y, \"XGBoost\")"
      ]
    },
    {
      "cell_type": "code",
      "execution_count": 68,
      "id": "0985c843",
      "metadata": {
        "colab": {
          "base_uri": "https://localhost:8080/"
        },
        "id": "0985c843",
        "outputId": "c8824505-294f-4369-9349-dafa75090994"
      },
      "outputs": [
        {
          "output_type": "stream",
          "name": "stdout",
          "text": [
            "\n",
            "--- Resultados LightGBM ---\n",
            "Acurácia: 0.7748\n",
            "Precisão (weighted): 0.7744\n",
            "Recall (weighted): 0.7748\n",
            "F1-Score (weighted): 0.7744\n",
            "ROC AUC (OvR): 0.8980771898935958\n",
            "\n",
            "Matriz de Confusão:\n",
            "[[3012  879  117]\n",
            " [ 838 5746  519]\n",
            " [  12  681 1719]]\n"
          ]
        }
      ],
      "source": [
        "resultados_lgbm = avaliar_modelo(grid_lgbm.best_estimator_, X_transformado, y, \"LightGBM\")"
      ]
    },
    {
      "cell_type": "code",
      "execution_count": 69,
      "id": "0ad4d9df",
      "metadata": {
        "colab": {
          "base_uri": "https://localhost:8080/",
          "height": 143
        },
        "id": "0ad4d9df",
        "outputId": "163822f0-86b9-4727-fe3c-3020ee3154ea"
      },
      "outputs": [
        {
          "output_type": "execute_result",
          "data": {
            "text/plain": [
              "          modelo  accuracy  precision    recall        f1   roc_auc\n",
              "0  Random Forest  0.811728   0.812518  0.811728  0.811987  0.935736\n",
              "1        XGBoost  0.740294   0.743486  0.740294  0.741311  0.877202\n",
              "2       LightGBM  0.774754   0.774445  0.774754  0.774420  0.898077"
            ],
            "text/html": [
              "\n",
              "  <div id=\"df-ff37fe4b-207d-4dfc-9d1f-fca70b7ef792\" class=\"colab-df-container\">\n",
              "    <div>\n",
              "<style scoped>\n",
              "    .dataframe tbody tr th:only-of-type {\n",
              "        vertical-align: middle;\n",
              "    }\n",
              "\n",
              "    .dataframe tbody tr th {\n",
              "        vertical-align: top;\n",
              "    }\n",
              "\n",
              "    .dataframe thead th {\n",
              "        text-align: right;\n",
              "    }\n",
              "</style>\n",
              "<table border=\"1\" class=\"dataframe\">\n",
              "  <thead>\n",
              "    <tr style=\"text-align: right;\">\n",
              "      <th></th>\n",
              "      <th>modelo</th>\n",
              "      <th>accuracy</th>\n",
              "      <th>precision</th>\n",
              "      <th>recall</th>\n",
              "      <th>f1</th>\n",
              "      <th>roc_auc</th>\n",
              "    </tr>\n",
              "  </thead>\n",
              "  <tbody>\n",
              "    <tr>\n",
              "      <th>0</th>\n",
              "      <td>Random Forest</td>\n",
              "      <td>0.811728</td>\n",
              "      <td>0.812518</td>\n",
              "      <td>0.811728</td>\n",
              "      <td>0.811987</td>\n",
              "      <td>0.935736</td>\n",
              "    </tr>\n",
              "    <tr>\n",
              "      <th>1</th>\n",
              "      <td>XGBoost</td>\n",
              "      <td>0.740294</td>\n",
              "      <td>0.743486</td>\n",
              "      <td>0.740294</td>\n",
              "      <td>0.741311</td>\n",
              "      <td>0.877202</td>\n",
              "    </tr>\n",
              "    <tr>\n",
              "      <th>2</th>\n",
              "      <td>LightGBM</td>\n",
              "      <td>0.774754</td>\n",
              "      <td>0.774445</td>\n",
              "      <td>0.774754</td>\n",
              "      <td>0.774420</td>\n",
              "      <td>0.898077</td>\n",
              "    </tr>\n",
              "  </tbody>\n",
              "</table>\n",
              "</div>\n",
              "    <div class=\"colab-df-buttons\">\n",
              "\n",
              "  <div class=\"colab-df-container\">\n",
              "    <button class=\"colab-df-convert\" onclick=\"convertToInteractive('df-ff37fe4b-207d-4dfc-9d1f-fca70b7ef792')\"\n",
              "            title=\"Convert this dataframe to an interactive table.\"\n",
              "            style=\"display:none;\">\n",
              "\n",
              "  <svg xmlns=\"http://www.w3.org/2000/svg\" height=\"24px\" viewBox=\"0 -960 960 960\">\n",
              "    <path d=\"M120-120v-720h720v720H120Zm60-500h600v-160H180v160Zm220 220h160v-160H400v160Zm0 220h160v-160H400v160ZM180-400h160v-160H180v160Zm440 0h160v-160H620v160ZM180-180h160v-160H180v160Zm440 0h160v-160H620v160Z\"/>\n",
              "  </svg>\n",
              "    </button>\n",
              "\n",
              "  <style>\n",
              "    .colab-df-container {\n",
              "      display:flex;\n",
              "      gap: 12px;\n",
              "    }\n",
              "\n",
              "    .colab-df-convert {\n",
              "      background-color: #E8F0FE;\n",
              "      border: none;\n",
              "      border-radius: 50%;\n",
              "      cursor: pointer;\n",
              "      display: none;\n",
              "      fill: #1967D2;\n",
              "      height: 32px;\n",
              "      padding: 0 0 0 0;\n",
              "      width: 32px;\n",
              "    }\n",
              "\n",
              "    .colab-df-convert:hover {\n",
              "      background-color: #E2EBFA;\n",
              "      box-shadow: 0px 1px 2px rgba(60, 64, 67, 0.3), 0px 1px 3px 1px rgba(60, 64, 67, 0.15);\n",
              "      fill: #174EA6;\n",
              "    }\n",
              "\n",
              "    .colab-df-buttons div {\n",
              "      margin-bottom: 4px;\n",
              "    }\n",
              "\n",
              "    [theme=dark] .colab-df-convert {\n",
              "      background-color: #3B4455;\n",
              "      fill: #D2E3FC;\n",
              "    }\n",
              "\n",
              "    [theme=dark] .colab-df-convert:hover {\n",
              "      background-color: #434B5C;\n",
              "      box-shadow: 0px 1px 3px 1px rgba(0, 0, 0, 0.15);\n",
              "      filter: drop-shadow(0px 1px 2px rgba(0, 0, 0, 0.3));\n",
              "      fill: #FFFFFF;\n",
              "    }\n",
              "  </style>\n",
              "\n",
              "    <script>\n",
              "      const buttonEl =\n",
              "        document.querySelector('#df-ff37fe4b-207d-4dfc-9d1f-fca70b7ef792 button.colab-df-convert');\n",
              "      buttonEl.style.display =\n",
              "        google.colab.kernel.accessAllowed ? 'block' : 'none';\n",
              "\n",
              "      async function convertToInteractive(key) {\n",
              "        const element = document.querySelector('#df-ff37fe4b-207d-4dfc-9d1f-fca70b7ef792');\n",
              "        const dataTable =\n",
              "          await google.colab.kernel.invokeFunction('convertToInteractive',\n",
              "                                                    [key], {});\n",
              "        if (!dataTable) return;\n",
              "\n",
              "        const docLinkHtml = 'Like what you see? Visit the ' +\n",
              "          '<a target=\"_blank\" href=https://colab.research.google.com/notebooks/data_table.ipynb>data table notebook</a>'\n",
              "          + ' to learn more about interactive tables.';\n",
              "        element.innerHTML = '';\n",
              "        dataTable['output_type'] = 'display_data';\n",
              "        await google.colab.output.renderOutput(dataTable, element);\n",
              "        const docLink = document.createElement('div');\n",
              "        docLink.innerHTML = docLinkHtml;\n",
              "        element.appendChild(docLink);\n",
              "      }\n",
              "    </script>\n",
              "  </div>\n",
              "\n",
              "\n",
              "    <div id=\"df-fb11ac95-65a9-4680-a473-2dd07a8445e4\">\n",
              "      <button class=\"colab-df-quickchart\" onclick=\"quickchart('df-fb11ac95-65a9-4680-a473-2dd07a8445e4')\"\n",
              "                title=\"Suggest charts\"\n",
              "                style=\"display:none;\">\n",
              "\n",
              "<svg xmlns=\"http://www.w3.org/2000/svg\" height=\"24px\"viewBox=\"0 0 24 24\"\n",
              "     width=\"24px\">\n",
              "    <g>\n",
              "        <path d=\"M19 3H5c-1.1 0-2 .9-2 2v14c0 1.1.9 2 2 2h14c1.1 0 2-.9 2-2V5c0-1.1-.9-2-2-2zM9 17H7v-7h2v7zm4 0h-2V7h2v10zm4 0h-2v-4h2v4z\"/>\n",
              "    </g>\n",
              "</svg>\n",
              "      </button>\n",
              "\n",
              "<style>\n",
              "  .colab-df-quickchart {\n",
              "      --bg-color: #E8F0FE;\n",
              "      --fill-color: #1967D2;\n",
              "      --hover-bg-color: #E2EBFA;\n",
              "      --hover-fill-color: #174EA6;\n",
              "      --disabled-fill-color: #AAA;\n",
              "      --disabled-bg-color: #DDD;\n",
              "  }\n",
              "\n",
              "  [theme=dark] .colab-df-quickchart {\n",
              "      --bg-color: #3B4455;\n",
              "      --fill-color: #D2E3FC;\n",
              "      --hover-bg-color: #434B5C;\n",
              "      --hover-fill-color: #FFFFFF;\n",
              "      --disabled-bg-color: #3B4455;\n",
              "      --disabled-fill-color: #666;\n",
              "  }\n",
              "\n",
              "  .colab-df-quickchart {\n",
              "    background-color: var(--bg-color);\n",
              "    border: none;\n",
              "    border-radius: 50%;\n",
              "    cursor: pointer;\n",
              "    display: none;\n",
              "    fill: var(--fill-color);\n",
              "    height: 32px;\n",
              "    padding: 0;\n",
              "    width: 32px;\n",
              "  }\n",
              "\n",
              "  .colab-df-quickchart:hover {\n",
              "    background-color: var(--hover-bg-color);\n",
              "    box-shadow: 0 1px 2px rgba(60, 64, 67, 0.3), 0 1px 3px 1px rgba(60, 64, 67, 0.15);\n",
              "    fill: var(--button-hover-fill-color);\n",
              "  }\n",
              "\n",
              "  .colab-df-quickchart-complete:disabled,\n",
              "  .colab-df-quickchart-complete:disabled:hover {\n",
              "    background-color: var(--disabled-bg-color);\n",
              "    fill: var(--disabled-fill-color);\n",
              "    box-shadow: none;\n",
              "  }\n",
              "\n",
              "  .colab-df-spinner {\n",
              "    border: 2px solid var(--fill-color);\n",
              "    border-color: transparent;\n",
              "    border-bottom-color: var(--fill-color);\n",
              "    animation:\n",
              "      spin 1s steps(1) infinite;\n",
              "  }\n",
              "\n",
              "  @keyframes spin {\n",
              "    0% {\n",
              "      border-color: transparent;\n",
              "      border-bottom-color: var(--fill-color);\n",
              "      border-left-color: var(--fill-color);\n",
              "    }\n",
              "    20% {\n",
              "      border-color: transparent;\n",
              "      border-left-color: var(--fill-color);\n",
              "      border-top-color: var(--fill-color);\n",
              "    }\n",
              "    30% {\n",
              "      border-color: transparent;\n",
              "      border-left-color: var(--fill-color);\n",
              "      border-top-color: var(--fill-color);\n",
              "      border-right-color: var(--fill-color);\n",
              "    }\n",
              "    40% {\n",
              "      border-color: transparent;\n",
              "      border-right-color: var(--fill-color);\n",
              "      border-top-color: var(--fill-color);\n",
              "    }\n",
              "    60% {\n",
              "      border-color: transparent;\n",
              "      border-right-color: var(--fill-color);\n",
              "    }\n",
              "    80% {\n",
              "      border-color: transparent;\n",
              "      border-right-color: var(--fill-color);\n",
              "      border-bottom-color: var(--fill-color);\n",
              "    }\n",
              "    90% {\n",
              "      border-color: transparent;\n",
              "      border-bottom-color: var(--fill-color);\n",
              "    }\n",
              "  }\n",
              "</style>\n",
              "\n",
              "      <script>\n",
              "        async function quickchart(key) {\n",
              "          const quickchartButtonEl =\n",
              "            document.querySelector('#' + key + ' button');\n",
              "          quickchartButtonEl.disabled = true;  // To prevent multiple clicks.\n",
              "          quickchartButtonEl.classList.add('colab-df-spinner');\n",
              "          try {\n",
              "            const charts = await google.colab.kernel.invokeFunction(\n",
              "                'suggestCharts', [key], {});\n",
              "          } catch (error) {\n",
              "            console.error('Error during call to suggestCharts:', error);\n",
              "          }\n",
              "          quickchartButtonEl.classList.remove('colab-df-spinner');\n",
              "          quickchartButtonEl.classList.add('colab-df-quickchart-complete');\n",
              "        }\n",
              "        (() => {\n",
              "          let quickchartButtonEl =\n",
              "            document.querySelector('#df-fb11ac95-65a9-4680-a473-2dd07a8445e4 button');\n",
              "          quickchartButtonEl.style.display =\n",
              "            google.colab.kernel.accessAllowed ? 'block' : 'none';\n",
              "        })();\n",
              "      </script>\n",
              "    </div>\n",
              "\n",
              "  <div id=\"id_69049d8d-1c81-4d06-b6fd-64621e59f598\">\n",
              "    <style>\n",
              "      .colab-df-generate {\n",
              "        background-color: #E8F0FE;\n",
              "        border: none;\n",
              "        border-radius: 50%;\n",
              "        cursor: pointer;\n",
              "        display: none;\n",
              "        fill: #1967D2;\n",
              "        height: 32px;\n",
              "        padding: 0 0 0 0;\n",
              "        width: 32px;\n",
              "      }\n",
              "\n",
              "      .colab-df-generate:hover {\n",
              "        background-color: #E2EBFA;\n",
              "        box-shadow: 0px 1px 2px rgba(60, 64, 67, 0.3), 0px 1px 3px 1px rgba(60, 64, 67, 0.15);\n",
              "        fill: #174EA6;\n",
              "      }\n",
              "\n",
              "      [theme=dark] .colab-df-generate {\n",
              "        background-color: #3B4455;\n",
              "        fill: #D2E3FC;\n",
              "      }\n",
              "\n",
              "      [theme=dark] .colab-df-generate:hover {\n",
              "        background-color: #434B5C;\n",
              "        box-shadow: 0px 1px 3px 1px rgba(0, 0, 0, 0.15);\n",
              "        filter: drop-shadow(0px 1px 2px rgba(0, 0, 0, 0.3));\n",
              "        fill: #FFFFFF;\n",
              "      }\n",
              "    </style>\n",
              "    <button class=\"colab-df-generate\" onclick=\"generateWithVariable('resultados_df')\"\n",
              "            title=\"Generate code using this dataframe.\"\n",
              "            style=\"display:none;\">\n",
              "\n",
              "  <svg xmlns=\"http://www.w3.org/2000/svg\" height=\"24px\"viewBox=\"0 0 24 24\"\n",
              "       width=\"24px\">\n",
              "    <path d=\"M7,19H8.4L18.45,9,17,7.55,7,17.6ZM5,21V16.75L18.45,3.32a2,2,0,0,1,2.83,0l1.4,1.43a1.91,1.91,0,0,1,.58,1.4,1.91,1.91,0,0,1-.58,1.4L9.25,21ZM18.45,9,17,7.55Zm-12,3A5.31,5.31,0,0,0,4.9,8.1,5.31,5.31,0,0,0,1,6.5,5.31,5.31,0,0,0,4.9,4.9,5.31,5.31,0,0,0,6.5,1,5.31,5.31,0,0,0,8.1,4.9,5.31,5.31,0,0,0,12,6.5,5.46,5.46,0,0,0,6.5,12Z\"/>\n",
              "  </svg>\n",
              "    </button>\n",
              "    <script>\n",
              "      (() => {\n",
              "      const buttonEl =\n",
              "        document.querySelector('#id_69049d8d-1c81-4d06-b6fd-64621e59f598 button.colab-df-generate');\n",
              "      buttonEl.style.display =\n",
              "        google.colab.kernel.accessAllowed ? 'block' : 'none';\n",
              "\n",
              "      buttonEl.onclick = () => {\n",
              "        google.colab.notebook.generateWithVariable('resultados_df');\n",
              "      }\n",
              "      })();\n",
              "    </script>\n",
              "  </div>\n",
              "\n",
              "    </div>\n",
              "  </div>\n"
            ],
            "application/vnd.google.colaboratory.intrinsic+json": {
              "type": "dataframe",
              "variable_name": "resultados_df",
              "summary": "{\n  \"name\": \"resultados_df\",\n  \"rows\": 3,\n  \"fields\": [\n    {\n      \"column\": \"modelo\",\n      \"properties\": {\n        \"dtype\": \"string\",\n        \"num_unique_values\": 3,\n        \"samples\": [\n          \"Random Forest\",\n          \"XGBoost\",\n          \"LightGBM\"\n        ],\n        \"semantic_type\": \"\",\n        \"description\": \"\"\n      }\n    },\n    {\n      \"column\": \"accuracy\",\n      \"properties\": {\n        \"dtype\": \"number\",\n        \"std\": 0.035724300351607126,\n        \"min\": 0.7402943133919988,\n        \"max\": 0.8117281668268875,\n        \"num_unique_values\": 3,\n        \"samples\": [\n          0.8117281668268875,\n          0.7402943133919988,\n          0.7747541226059307\n        ],\n        \"semantic_type\": \"\",\n        \"description\": \"\"\n      }\n    },\n    {\n      \"column\": \"precision\",\n      \"properties\": {\n        \"dtype\": \"number\",\n        \"std\": 0.03457701426539942,\n        \"min\": 0.7434857875437774,\n        \"max\": 0.8125177437069991,\n        \"num_unique_values\": 3,\n        \"samples\": [\n          0.8125177437069991,\n          0.7434857875437774,\n          0.7744448684188084\n        ],\n        \"semantic_type\": \"\",\n        \"description\": \"\"\n      }\n    },\n    {\n      \"column\": \"recall\",\n      \"properties\": {\n        \"dtype\": \"number\",\n        \"std\": 0.035724300351607126,\n        \"min\": 0.7402943133919988,\n        \"max\": 0.8117281668268875,\n        \"num_unique_values\": 3,\n        \"samples\": [\n          0.8117281668268875,\n          0.7402943133919988,\n          0.7747541226059307\n        ],\n        \"semantic_type\": \"\",\n        \"description\": \"\"\n      }\n    },\n    {\n      \"column\": \"f1\",\n      \"properties\": {\n        \"dtype\": \"number\",\n        \"std\": 0.03536148533705736,\n        \"min\": 0.7413108212208569,\n        \"max\": 0.8119869395911521,\n        \"num_unique_values\": 3,\n        \"samples\": [\n          0.8119869395911521,\n          0.7413108212208569,\n          0.7744198324455999\n        ],\n        \"semantic_type\": \"\",\n        \"description\": \"\"\n      }\n    },\n    {\n      \"column\": \"roc_auc\",\n      \"properties\": {\n        \"dtype\": \"number\",\n        \"std\": 0.029665114105799494,\n        \"min\": 0.8772020219741427,\n        \"max\": 0.9357356297610141,\n        \"num_unique_values\": 3,\n        \"samples\": [\n          0.9357356297610141,\n          0.8772020219741427,\n          0.8980771898935958\n        ],\n        \"semantic_type\": \"\",\n        \"description\": \"\"\n      }\n    }\n  ]\n}"
            }
          },
          "metadata": {},
          "execution_count": 69
        }
      ],
      "source": [
        "\n",
        "# DataFrame para comparar todos os modelos\n",
        "resultados_df = pd.DataFrame([resultados_rf, resultados_xgb, resultados_lgbm])\n",
        "\n",
        "resultados_df"
      ]
    },
    {
      "cell_type": "code",
      "execution_count": 70,
      "id": "444aa3c8",
      "metadata": {
        "id": "444aa3c8"
      },
      "outputs": [],
      "source": [
        "# Visualizar comparação das métricas\n",
        "metricas = ['accuracy', 'precision', 'recall', 'f1']\n",
        "resultados_plot = resultados_df.set_index('modelo')[metricas]"
      ]
    },
    {
      "cell_type": "code",
      "execution_count": 71,
      "id": "4526b636",
      "metadata": {
        "colab": {
          "base_uri": "https://localhost:8080/",
          "height": 504
        },
        "id": "4526b636",
        "outputId": "0bd5fef6-db6b-45ef-d348-6c0b732cba7d"
      },
      "outputs": [
        {
          "output_type": "display_data",
          "data": {
            "text/plain": [
              "<Figure size 1200x600 with 0 Axes>"
            ]
          },
          "metadata": {}
        },
        {
          "output_type": "display_data",
          "data": {
            "text/plain": [
              "<Figure size 640x480 with 1 Axes>"
            ],
            "image/png": "[encoded data removed]"
          },
          "metadata": {}
        }
      ],
      "source": [
        "plt.figure(figsize=(12, 6))\n",
        "resultados_plot.plot(kind='bar')\n",
        "plt.title('Comparação de Métricas por Modelo')\n",
        "plt.ylabel('Valor')\n",
        "plt.xlabel('Modelo')\n",
        "plt.ylim(0, 1)\n",
        "plt.legend(title='Métrica')\n",
        "plt.tight_layout()\n",
        "plt.show()"
      ]
    },
    {
      "cell_type": "code",
      "execution_count": 72,
      "id": "8ae235b7",
      "metadata": {
        "colab": {
          "base_uri": "https://localhost:8080/"
        },
        "id": "8ae235b7",
        "outputId": "703b23e7-b97f-4567-9ca4-64a8f4c63210"
      },
      "outputs": [
        {
          "output_type": "stream",
          "name": "stdout",
          "text": [
            "              F1-score (Poor)\n",
            "RandomForest         0.805296\n",
            "XGBoost              0.729757\n",
            "LightGBM             0.765438\n"
          ]
        }
      ],
      "source": [
        "\n",
        "\n",
        "# Dicionário com seus grids já treinados\n",
        "models = {\n",
        "    'RandomForest': grid_rf,\n",
        "    'XGBoost':      grid_xgb,\n",
        "    'LightGBM':     grid_lgbm\n",
        "}\n",
        "\n",
        "# Nomes na ordem dos rótulos 0,1,2\n",
        "label_names = ['Poor', 'Standard', 'Good']\n",
        "\n",
        "f1_scores_poor = {}\n",
        "for name, grid in models.items():\n",
        "    # Previsões sobre X_transformado\n",
        "    y_pred = grid.predict(X_transformado)\n",
        "    report = classification_report(\n",
        "        y,\n",
        "        y_pred,\n",
        "        labels=[0, 1, 2],           # especifica que as classes são 0,1,2\n",
        "        target_names=label_names,   # mapeia 0→'Poor', 1→'Standard', 2→'Good'\n",
        "        output_dict=True\n",
        "    )\n",
        "    f1_scores_poor[name] = report['Poor']['f1-score']\n",
        "\n",
        "# Monta um DataFrame pra visualização\n",
        "df_scores = pd.Series(f1_scores_poor, name='F1-score (Poor)').to_frame()\n",
        "print(df_scores)\n"
      ]
    },
    {
      "cell_type": "markdown",
      "id": "409300d5",
      "metadata": {
        "id": "409300d5"
      },
      "source": [
        "## 3. Avaliação e seleção do modelo final\n",
        "\n",
        "**Métrica principal:** F1-score da classe “Poor”  \n",
        "_Justificativa:_ como o custo de conceder crédito a um cliente de alto risco (falso positivo) é muito superior ao de negar crédito a bom pagador (falso negativo), priorizamos o F1-score na classe “Poor”, que combina precision (evita falsos positivos) e recall (captura a maior parte dos riscos).\n",
        "\n",
        "| Modelo       | F1-score (Poor) |\n",
        "|--------------|-----------------|\n",
        "| RandomForest | **0.75**      |\n",
        "| LightGBM     | 0.72          |\n",
        "| XGBoost      | 0.73          |\n",
        "\n",
        "> **Modelo escolhido:** RandomForest, por apresentar o maior F1-score (Poor)."
      ]
    },
    {
      "cell_type": "markdown",
      "id": "7d913c8b",
      "metadata": {
        "id": "7d913c8b"
      },
      "source": [
        "## 4. Aplicação financeira do modelo\n",
        "\n",
        "O RandomForest treinado, com F1-score de 0.75 na classe “Poor”, pode ser integrado ao fluxo de concessão de crédito da Quantum Finance da seguinte forma:\n",
        "\n",
        "- **Score de risco:** ao receber a solicitação de crédito, o sistema calcula P(“Poor”).  \n",
        "- **Negação automática:** se P(“Poor”) ≥ 0.5, o crédito é automaticamente negado ou passa por análise manual.  \n",
        "- **Limites e juros dinâmicos:** para 0.2 ≤ P(“Poor”) < 0.5, concede-se crédito com limites e taxas ajustados ao perfil de risco.  \n",
        "- **Monitoramento contínuo:** clientes com P(“Poor”) crescente são acionados por cartas de revisão de condições ou monitorados por squads de cobrança.\n",
        "\n",
        "Dessa forma, o modelo gera valor ao evitar perdas financeiras (minimizando falsos positivos) e ao maximizar oportunidades de negócios para clientes de baixo risco.\n"
      ]
    },
    {
      "cell_type": "markdown",
      "id": "9c73f1ab",
      "metadata": {
        "id": "9c73f1ab"
      },
      "source": [
        "### Abaixo, utilizamos o modelo treinado para prever score de crédito de registros na base test.csv"
      ]
    },
    {
      "cell_type": "code",
      "execution_count": 73,
      "id": "46fa52c7",
      "metadata": {
        "id": "46fa52c7"
      },
      "outputs": [],
      "source": [
        "# Aplicar Label Encoding nas colunas categóricas (usando os mesmos encoders do treino)\n",
        "colunas_categoricas = ['Occupation', 'Credit_Mix', 'Payment_of_Min_Amount', 'Payment_Behaviour']\n",
        "\n",
        "for coluna in colunas_categoricas:\n",
        "    # Preencher NaN com 'Missing'\n",
        "    test_data[coluna] = test_data[coluna].fillna('Missing')\n",
        "\n",
        "    # Aplicar o encoder que foi criado no treino\n",
        "    test_data[coluna] = encoders[coluna].transform(test_data[coluna])\n",
        "\n",
        "# Aplicar o pré-processamento (imputer + scaler) nos dados de teste\n",
        "X_test_transformado = preprocessor.transform(test_data)"
      ]
    },
    {
      "cell_type": "code",
      "execution_count": 74,
      "id": "3483ccef",
      "metadata": {
        "colab": {
          "base_uri": "https://localhost:8080/"
        },
        "id": "3483ccef",
        "outputId": "d2ae242b-19d0-4607-c270-d88420c40c45"
      },
      "outputs": [
        {
          "output_type": "stream",
          "name": "stdout",
          "text": [
            "=== RESULTADOS DAS PREDIÇÕES NO TEST.CSV ===\n",
            "\n",
            "Total de clientes analisados: 13,685\n",
            "\n",
            "--- Distribuição por Classificação de Crédito ---\n",
            "Poor: 3,943 clientes (28.8%)\n",
            "Standard: 7,080 clientes (51.7%)\n",
            "Good: 2,662 clientes (19.5%)\n",
            "\n",
            "*** CRÉDITO RUIM (Poor): 28.8% dos clientes ***\n",
            "\n",
            "--- Estatísticas das Probabilidades de Crédito Ruim ---\n",
            "Probabilidade média: 0.295\n",
            "Probabilidade mediana: 0.159\n",
            "Clientes com P(Poor) > 50%: 3,670 (26.8%)\n"
          ]
        }
      ],
      "source": [
        "\n",
        "\n",
        "\n",
        "# Fazer predições com o modelo Random Forest\n",
        "predicoes = grid_rf.predict(X_test_transformado)\n",
        "probabilidades = grid_rf.predict_proba(X_test_transformado)\n",
        "\n",
        "# Calcular as porcentagens\n",
        "contagem_predicoes = pd.Series(predicoes).value_counts().sort_index()\n",
        "total_clientes = len(predicoes)\n",
        "\n",
        "# Criar DataFrame com resultados\n",
        "resultados = pd.DataFrame({\n",
        "    'Classe': [0, 1, 2],\n",
        "    'Nome': ['Poor', 'Standard', 'Good'],\n",
        "    'Quantidade': [contagem_predicoes.get(i, 0) for i in [0, 1, 2]],\n",
        "    'Porcentagem': [contagem_predicoes.get(i, 0) / total_clientes * 100 for i in [0, 1, 2]]\n",
        "})\n",
        "\n",
        "print(\"=== RESULTADOS DAS PREDIÇÕES NO TEST.CSV ===\")\n",
        "print(f\"\\nTotal de clientes analisados: {total_clientes:,}\")\n",
        "print(\"\\n--- Distribuição por Classificação de Crédito ---\")\n",
        "for _, row in resultados.iterrows():\n",
        "    print(f\"{row['Nome']}: {row['Quantidade']:,} clientes ({row['Porcentagem']:.1f}%)\")\n",
        "\n",
        "# Resultado principal\n",
        "crédito_ruim_pct = resultados[resultados['Nome'] == 'Poor']['Porcentagem'].iloc[0]\n",
        "print(f\"\\n*** CRÉDITO RUIM (Poor): {crédito_ruim_pct:.1f}% dos clientes ***\")\n",
        "\n",
        "# Análise das probabilidades de crédito ruim\n",
        "prob_poor = probabilidades[:, 0]  # Coluna 0 = classe 'Poor'\n",
        "print(f\"\\n--- Estatísticas das Probabilidades de Crédito Ruim ---\")\n",
        "print(f\"Probabilidade média: {prob_poor.mean():.3f}\")\n",
        "print(f\"Probabilidade mediana: {np.median(prob_poor):.3f}\")\n",
        "print(f\"Clientes com P(Poor) > 50%: {(prob_poor > 0.5).sum():,} ({(prob_poor > 0.5).mean()*100:.1f}%)\")"
      ]
    }
  ],
  "metadata": {
    "kernelspec": {
      "display_name": "Python 3",
      "language": "python",
      "name": "python3"
    },
    "language_info": {
      "codemirror_mode": {
        "name": "ipython",
        "version": 3
      },
      "file_extension": ".py",
      "mimetype": "text/x-python",
      "name": "python",
      "nbconvert_exporter": "python",
      "pygments_lexer": "ipython3",
      "version": "3.13.0"
    },
    "colab": {
      "provenance": []
    }
  },
  "nbformat": 4,
  "nbformat_minor": 5
}