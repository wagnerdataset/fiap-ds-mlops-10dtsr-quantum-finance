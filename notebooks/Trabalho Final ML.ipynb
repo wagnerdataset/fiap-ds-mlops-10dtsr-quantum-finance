{
 "cells": [
  {
   "cell_type": "markdown",
   "id": "7bfe563f-2354-41f1-9a01-ed484767ed11",
   "metadata": {},
   "source": [
    "# Trabalho Final - Machine Learning\n",
    "\n",
    "* Arthur Bernardes Suematsu\n",
    "* Eduardo Henrique Silva Souza\n",
    "* Gustavo Almeida Brezzi\n",
    "* Wagner Sanches Gonçalves"
   ]
  },
  {
   "cell_type": "markdown",
   "id": "785145b6-ec24-45e8-a6db-c9b65c177dca",
   "metadata": {},
   "source": [
    "Neste trabalho, como parte do time de analistas da Quantum Finance, vocês deverão explorar uma base de dados originalmente utilizada para classificação de score de crédito, disponível no Kaggle (https://www.kaggle.com/datasets/parisrohan/credit-score-classification), utilizando técnicas de Análise Exploratória de Dados (EDA) e algoritmos de Machine Learning supervisionados. \n",
    "\n",
    "\n",
    "O objetivo é aplicar e interpretar os resultados obtidos, assim como criar um sistema que gere valor a partir da análise da base de dados.\n",
    "\n",
    "**Modelo de Classificação Supervisionada**\n",
    "\n",
    "\n",
    "Desenvolver um modelo de classificação supervisionada para prever a classificação de crédito dos indivíduos presentes na base.\n",
    "\n",
    "\n",
    "Passos esperados:\n",
    "\n",
    "1. Realizar uma análise exploratória dos dados (EDA) para entender as características principais da base e as relações entre variáveis; 2 pontos\n",
    "\n",
    "2. Implementar um pipeline de modelo de classificação usando Random Forest, XGBoost e LightGBM. Use GridSearch para otimizar os parametros de cada modelo; 4 pontos\n",
    "\n",
    "3. Avaliar os resultados utilizando a métrica mais adequada e **justifique** sua escolha; 2 pontos\n",
    "\n",
    "4. Apresentar os resultados, indicando a métrica no conjunto de treino (train.csv) e explicar como o modelo pode ser utilizado para decisões financeiras. 2 pontos\n",
    "\n",
    "\n",
    "Entregáveis:\n",
    "\n",
    "1. Este jupyter notebook executado e com os resultados aparentes (não serão aceitoa outros formatos)"
   ]
  },
  {
   "cell_type": "markdown",
   "id": "06e0b846",
   "metadata": {},
   "source": [
    "### Importação das bibliotecas necessárias"
   ]
  },
  {
   "cell_type": "code",
   "execution_count": 2,
   "id": "02363993",
   "metadata": {},
   "outputs": [
    {
     "ename": "ModuleNotFoundError",
     "evalue": "No module named 'seaborn'",
     "output_type": "error",
     "traceback": [
      "\u001b[31m---------------------------------------------------------------------------\u001b[39m",
      "\u001b[31mModuleNotFoundError\u001b[39m                       Traceback (most recent call last)",
      "\u001b[36mCell\u001b[39m\u001b[36m \u001b[39m\u001b[32mIn[2]\u001b[39m\u001b[32m, line 4\u001b[39m\n\u001b[32m      2\u001b[39m \u001b[38;5;28;01mimport\u001b[39;00m\u001b[38;5;250m \u001b[39m\u001b[34;01mnumpy\u001b[39;00m\u001b[38;5;250m \u001b[39m\u001b[38;5;28;01mas\u001b[39;00m\u001b[38;5;250m \u001b[39m\u001b[34;01mnp\u001b[39;00m\n\u001b[32m      3\u001b[39m \u001b[38;5;28;01mimport\u001b[39;00m\u001b[38;5;250m \u001b[39m\u001b[34;01mmatplotlib\u001b[39;00m\u001b[34;01m.\u001b[39;00m\u001b[34;01mpyplot\u001b[39;00m\u001b[38;5;250m \u001b[39m\u001b[38;5;28;01mas\u001b[39;00m\u001b[38;5;250m \u001b[39m\u001b[34;01mplt\u001b[39;00m\n\u001b[32m----> \u001b[39m\u001b[32m4\u001b[39m \u001b[38;5;28;01mimport\u001b[39;00m\u001b[38;5;250m \u001b[39m\u001b[34;01mseaborn\u001b[39;00m\u001b[38;5;250m \u001b[39m\u001b[38;5;28;01mas\u001b[39;00m\u001b[38;5;250m \u001b[39m\u001b[34;01msns\u001b[39;00m\n\u001b[32m      5\u001b[39m \u001b[38;5;28;01mfrom\u001b[39;00m\u001b[38;5;250m \u001b[39m\u001b[34;01msklearn\u001b[39;00m\u001b[34;01m.\u001b[39;00m\u001b[34;01mmodel_selection\u001b[39;00m\u001b[38;5;250m \u001b[39m\u001b[38;5;28;01mimport\u001b[39;00m  GridSearchCV\n\u001b[32m      6\u001b[39m \u001b[38;5;28;01mfrom\u001b[39;00m\u001b[38;5;250m \u001b[39m\u001b[34;01msklearn\u001b[39;00m\u001b[34;01m.\u001b[39;00m\u001b[34;01mpreprocessing\u001b[39;00m\u001b[38;5;250m \u001b[39m\u001b[38;5;28;01mimport\u001b[39;00m StandardScaler, LabelEncoder\n",
      "\u001b[31mModuleNotFoundError\u001b[39m: No module named 'seaborn'"
     ]
    }
   ],
   "source": [
    "import pandas as pd\n",
    "import numpy as np\n",
    "import matplotlib.pyplot as plt\n",
    "import seaborn as sns\n",
    "from sklearn.model_selection import  GridSearchCV\n",
    "from sklearn.preprocessing import StandardScaler, LabelEncoder\n",
    "from sklearn.compose import ColumnTransformer\n",
    "from sklearn.pipeline import Pipeline\n",
    "from sklearn.impute import SimpleImputer\n",
    "from sklearn.ensemble import RandomForestClassifier\n",
    "from sklearn.metrics import make_scorer, classification_report, confusion_matrix, accuracy_score, f1_score, precision_score, recall_score, roc_auc_score\n",
    "import xgboost as xgb\n",
    "import lightgbm as lgb\n",
    "import warnings\n",
    "warnings.filterwarnings('ignore')"
   ]
  },
  {
   "cell_type": "markdown",
   "id": "691e2b5e",
   "metadata": {},
   "source": [
    "### Carregamento e exploração inicial dos dados"
   ]
  },
  {
   "cell_type": "code",
   "execution_count": null,
   "id": "99e636e3",
   "metadata": {},
   "outputs": [
    {
     "name": "stdout",
     "output_type": "stream",
     "text": [
      "Dimensões do conjunto de treino: (100000, 28)\n",
      "Dimensões do conjunto de teste: (50000, 27)\n"
     ]
    }
   ],
   "source": [
    "train_data = pd.read_csv(\"../data/raw/credit_score_train.csv\")\n",
    "test_data = pd.read_csv(\"../data/raw/credit_score_test.csv\")\n",
    "\n",
    "# Verificando as dimensões dos dados\n",
    "print(f\"Dimensões do conjunto de treino: {train_data.shape}\")\n",
    "print(f\"Dimensões do conjunto de teste: {test_data.shape}\")"
   ]
  },
  {
   "cell_type": "code",
   "execution_count": null,
   "id": "8bcb446d",
   "metadata": {},
   "outputs": [
    {
     "data": {
      "text/html": [
       "<div>\n",
       "<style scoped>\n",
       "    .dataframe tbody tr th:only-of-type {\n",
       "        vertical-align: middle;\n",
       "    }\n",
       "\n",
       "    .dataframe tbody tr th {\n",
       "        vertical-align: top;\n",
       "    }\n",
       "\n",
       "    .dataframe thead th {\n",
       "        text-align: right;\n",
       "    }\n",
       "</style>\n",
       "<table border=\"1\" class=\"dataframe\">\n",
       "  <thead>\n",
       "    <tr style=\"text-align: right;\">\n",
       "      <th></th>\n",
       "      <th>ID</th>\n",
       "      <th>Customer_ID</th>\n",
       "      <th>Month</th>\n",
       "      <th>Name</th>\n",
       "      <th>Age</th>\n",
       "      <th>SSN</th>\n",
       "      <th>Occupation</th>\n",
       "      <th>Annual_Income</th>\n",
       "      <th>Monthly_Inhand_Salary</th>\n",
       "      <th>Num_Bank_Accounts</th>\n",
       "      <th>...</th>\n",
       "      <th>Credit_Mix</th>\n",
       "      <th>Outstanding_Debt</th>\n",
       "      <th>Credit_Utilization_Ratio</th>\n",
       "      <th>Credit_History_Age</th>\n",
       "      <th>Payment_of_Min_Amount</th>\n",
       "      <th>Total_EMI_per_month</th>\n",
       "      <th>Amount_invested_monthly</th>\n",
       "      <th>Payment_Behaviour</th>\n",
       "      <th>Monthly_Balance</th>\n",
       "      <th>Credit_Score</th>\n",
       "    </tr>\n",
       "  </thead>\n",
       "  <tbody>\n",
       "    <tr>\n",
       "      <th>0</th>\n",
       "      <td>0x1602</td>\n",
       "      <td>CUS_0xd40</td>\n",
       "      <td>January</td>\n",
       "      <td>Aaron Maashoh</td>\n",
       "      <td>23</td>\n",
       "      <td>821-00-0265</td>\n",
       "      <td>Scientist</td>\n",
       "      <td>19114.12</td>\n",
       "      <td>1824.843333</td>\n",
       "      <td>3</td>\n",
       "      <td>...</td>\n",
       "      <td>_</td>\n",
       "      <td>809.98</td>\n",
       "      <td>26.822620</td>\n",
       "      <td>22 Years and 1 Months</td>\n",
       "      <td>No</td>\n",
       "      <td>49.574949</td>\n",
       "      <td>80.41529543900253</td>\n",
       "      <td>High_spent_Small_value_payments</td>\n",
       "      <td>312.49408867943663</td>\n",
       "      <td>Good</td>\n",
       "    </tr>\n",
       "    <tr>\n",
       "      <th>1</th>\n",
       "      <td>0x1603</td>\n",
       "      <td>CUS_0xd40</td>\n",
       "      <td>February</td>\n",
       "      <td>Aaron Maashoh</td>\n",
       "      <td>23</td>\n",
       "      <td>821-00-0265</td>\n",
       "      <td>Scientist</td>\n",
       "      <td>19114.12</td>\n",
       "      <td>NaN</td>\n",
       "      <td>3</td>\n",
       "      <td>...</td>\n",
       "      <td>Good</td>\n",
       "      <td>809.98</td>\n",
       "      <td>31.944960</td>\n",
       "      <td>NaN</td>\n",
       "      <td>No</td>\n",
       "      <td>49.574949</td>\n",
       "      <td>118.28022162236736</td>\n",
       "      <td>Low_spent_Large_value_payments</td>\n",
       "      <td>284.62916249607184</td>\n",
       "      <td>Good</td>\n",
       "    </tr>\n",
       "    <tr>\n",
       "      <th>2</th>\n",
       "      <td>0x1604</td>\n",
       "      <td>CUS_0xd40</td>\n",
       "      <td>March</td>\n",
       "      <td>Aaron Maashoh</td>\n",
       "      <td>-500</td>\n",
       "      <td>821-00-0265</td>\n",
       "      <td>Scientist</td>\n",
       "      <td>19114.12</td>\n",
       "      <td>NaN</td>\n",
       "      <td>3</td>\n",
       "      <td>...</td>\n",
       "      <td>Good</td>\n",
       "      <td>809.98</td>\n",
       "      <td>28.609352</td>\n",
       "      <td>22 Years and 3 Months</td>\n",
       "      <td>No</td>\n",
       "      <td>49.574949</td>\n",
       "      <td>81.699521264648</td>\n",
       "      <td>Low_spent_Medium_value_payments</td>\n",
       "      <td>331.2098628537912</td>\n",
       "      <td>Good</td>\n",
       "    </tr>\n",
       "    <tr>\n",
       "      <th>3</th>\n",
       "      <td>0x1605</td>\n",
       "      <td>CUS_0xd40</td>\n",
       "      <td>April</td>\n",
       "      <td>Aaron Maashoh</td>\n",
       "      <td>23</td>\n",
       "      <td>821-00-0265</td>\n",
       "      <td>Scientist</td>\n",
       "      <td>19114.12</td>\n",
       "      <td>NaN</td>\n",
       "      <td>3</td>\n",
       "      <td>...</td>\n",
       "      <td>Good</td>\n",
       "      <td>809.98</td>\n",
       "      <td>31.377862</td>\n",
       "      <td>22 Years and 4 Months</td>\n",
       "      <td>No</td>\n",
       "      <td>49.574949</td>\n",
       "      <td>199.4580743910713</td>\n",
       "      <td>Low_spent_Small_value_payments</td>\n",
       "      <td>223.45130972736786</td>\n",
       "      <td>Good</td>\n",
       "    </tr>\n",
       "    <tr>\n",
       "      <th>4</th>\n",
       "      <td>0x1606</td>\n",
       "      <td>CUS_0xd40</td>\n",
       "      <td>May</td>\n",
       "      <td>Aaron Maashoh</td>\n",
       "      <td>23</td>\n",
       "      <td>821-00-0265</td>\n",
       "      <td>Scientist</td>\n",
       "      <td>19114.12</td>\n",
       "      <td>1824.843333</td>\n",
       "      <td>3</td>\n",
       "      <td>...</td>\n",
       "      <td>Good</td>\n",
       "      <td>809.98</td>\n",
       "      <td>24.797347</td>\n",
       "      <td>22 Years and 5 Months</td>\n",
       "      <td>No</td>\n",
       "      <td>49.574949</td>\n",
       "      <td>41.420153086217326</td>\n",
       "      <td>High_spent_Medium_value_payments</td>\n",
       "      <td>341.48923103222177</td>\n",
       "      <td>Good</td>\n",
       "    </tr>\n",
       "  </tbody>\n",
       "</table>\n",
       "<p>5 rows × 28 columns</p>\n",
       "</div>"
      ],
      "text/plain": [
       "       ID Customer_ID     Month           Name   Age          SSN Occupation  \\\n",
       "0  0x1602   CUS_0xd40   January  Aaron Maashoh    23  821-00-0265  Scientist   \n",
       "1  0x1603   CUS_0xd40  February  Aaron Maashoh    23  821-00-0265  Scientist   \n",
       "2  0x1604   CUS_0xd40     March  Aaron Maashoh  -500  821-00-0265  Scientist   \n",
       "3  0x1605   CUS_0xd40     April  Aaron Maashoh    23  821-00-0265  Scientist   \n",
       "4  0x1606   CUS_0xd40       May  Aaron Maashoh    23  821-00-0265  Scientist   \n",
       "\n",
       "  Annual_Income  Monthly_Inhand_Salary  Num_Bank_Accounts  ...  Credit_Mix  \\\n",
       "0      19114.12            1824.843333                  3  ...           _   \n",
       "1      19114.12                    NaN                  3  ...        Good   \n",
       "2      19114.12                    NaN                  3  ...        Good   \n",
       "3      19114.12                    NaN                  3  ...        Good   \n",
       "4      19114.12            1824.843333                  3  ...        Good   \n",
       "\n",
       "   Outstanding_Debt Credit_Utilization_Ratio     Credit_History_Age  \\\n",
       "0            809.98                26.822620  22 Years and 1 Months   \n",
       "1            809.98                31.944960                    NaN   \n",
       "2            809.98                28.609352  22 Years and 3 Months   \n",
       "3            809.98                31.377862  22 Years and 4 Months   \n",
       "4            809.98                24.797347  22 Years and 5 Months   \n",
       "\n",
       "   Payment_of_Min_Amount Total_EMI_per_month Amount_invested_monthly  \\\n",
       "0                     No           49.574949       80.41529543900253   \n",
       "1                     No           49.574949      118.28022162236736   \n",
       "2                     No           49.574949         81.699521264648   \n",
       "3                     No           49.574949       199.4580743910713   \n",
       "4                     No           49.574949      41.420153086217326   \n",
       "\n",
       "                  Payment_Behaviour     Monthly_Balance Credit_Score  \n",
       "0   High_spent_Small_value_payments  312.49408867943663         Good  \n",
       "1    Low_spent_Large_value_payments  284.62916249607184         Good  \n",
       "2   Low_spent_Medium_value_payments   331.2098628537912         Good  \n",
       "3    Low_spent_Small_value_payments  223.45130972736786         Good  \n",
       "4  High_spent_Medium_value_payments  341.48923103222177         Good  \n",
       "\n",
       "[5 rows x 28 columns]"
      ]
     },
     "execution_count": 3,
     "metadata": {},
     "output_type": "execute_result"
    }
   ],
   "source": [
    "train_data.head()"
   ]
  },
  {
   "cell_type": "code",
   "execution_count": null,
   "id": "5024b8a6",
   "metadata": {},
   "outputs": [
    {
     "data": {
      "text/plain": [
       "['ID',\n",
       " 'Customer_ID',\n",
       " 'Month',\n",
       " 'Name',\n",
       " 'Age',\n",
       " 'SSN',\n",
       " 'Occupation',\n",
       " 'Annual_Income',\n",
       " 'Monthly_Inhand_Salary',\n",
       " 'Num_Bank_Accounts',\n",
       " 'Num_Credit_Card',\n",
       " 'Interest_Rate',\n",
       " 'Num_of_Loan',\n",
       " 'Type_of_Loan',\n",
       " 'Delay_from_due_date',\n",
       " 'Num_of_Delayed_Payment',\n",
       " 'Changed_Credit_Limit',\n",
       " 'Num_Credit_Inquiries',\n",
       " 'Credit_Mix',\n",
       " 'Outstanding_Debt',\n",
       " 'Credit_Utilization_Ratio',\n",
       " 'Credit_History_Age',\n",
       " 'Payment_of_Min_Amount',\n",
       " 'Total_EMI_per_month',\n",
       " 'Amount_invested_monthly',\n",
       " 'Payment_Behaviour',\n",
       " 'Monthly_Balance',\n",
       " 'Credit_Score']"
      ]
     },
     "execution_count": 4,
     "metadata": {},
     "output_type": "execute_result"
    }
   ],
   "source": [
    "train_data.columns.tolist()\n"
   ]
  },
  {
   "cell_type": "code",
   "execution_count": null,
   "id": "f7c49f56",
   "metadata": {},
   "outputs": [
    {
     "data": {
      "text/html": [
       "<div>\n",
       "<style scoped>\n",
       "    .dataframe tbody tr th:only-of-type {\n",
       "        vertical-align: middle;\n",
       "    }\n",
       "\n",
       "    .dataframe tbody tr th {\n",
       "        vertical-align: top;\n",
       "    }\n",
       "\n",
       "    .dataframe thead th {\n",
       "        text-align: right;\n",
       "    }\n",
       "</style>\n",
       "<table border=\"1\" class=\"dataframe\">\n",
       "  <thead>\n",
       "    <tr style=\"text-align: right;\">\n",
       "      <th></th>\n",
       "      <th>ID</th>\n",
       "      <th>Customer_ID</th>\n",
       "      <th>Month</th>\n",
       "      <th>Name</th>\n",
       "      <th>Age</th>\n",
       "      <th>SSN</th>\n",
       "      <th>Occupation</th>\n",
       "      <th>Annual_Income</th>\n",
       "      <th>Monthly_Inhand_Salary</th>\n",
       "      <th>Num_Bank_Accounts</th>\n",
       "      <th>...</th>\n",
       "      <th>Num_Credit_Inquiries</th>\n",
       "      <th>Credit_Mix</th>\n",
       "      <th>Outstanding_Debt</th>\n",
       "      <th>Credit_Utilization_Ratio</th>\n",
       "      <th>Credit_History_Age</th>\n",
       "      <th>Payment_of_Min_Amount</th>\n",
       "      <th>Total_EMI_per_month</th>\n",
       "      <th>Amount_invested_monthly</th>\n",
       "      <th>Payment_Behaviour</th>\n",
       "      <th>Monthly_Balance</th>\n",
       "    </tr>\n",
       "  </thead>\n",
       "  <tbody>\n",
       "    <tr>\n",
       "      <th>0</th>\n",
       "      <td>0x160a</td>\n",
       "      <td>CUS_0xd40</td>\n",
       "      <td>September</td>\n",
       "      <td>Aaron Maashoh</td>\n",
       "      <td>23</td>\n",
       "      <td>821-00-0265</td>\n",
       "      <td>Scientist</td>\n",
       "      <td>19114.12</td>\n",
       "      <td>1824.843333</td>\n",
       "      <td>3</td>\n",
       "      <td>...</td>\n",
       "      <td>2022.0</td>\n",
       "      <td>Good</td>\n",
       "      <td>809.98</td>\n",
       "      <td>35.030402</td>\n",
       "      <td>22 Years and 9 Months</td>\n",
       "      <td>No</td>\n",
       "      <td>49.574949</td>\n",
       "      <td>236.64268203272135</td>\n",
       "      <td>Low_spent_Small_value_payments</td>\n",
       "      <td>186.26670208571772</td>\n",
       "    </tr>\n",
       "    <tr>\n",
       "      <th>1</th>\n",
       "      <td>0x160b</td>\n",
       "      <td>CUS_0xd40</td>\n",
       "      <td>October</td>\n",
       "      <td>Aaron Maashoh</td>\n",
       "      <td>24</td>\n",
       "      <td>821-00-0265</td>\n",
       "      <td>Scientist</td>\n",
       "      <td>19114.12</td>\n",
       "      <td>1824.843333</td>\n",
       "      <td>3</td>\n",
       "      <td>...</td>\n",
       "      <td>4.0</td>\n",
       "      <td>Good</td>\n",
       "      <td>809.98</td>\n",
       "      <td>33.053114</td>\n",
       "      <td>22 Years and 10 Months</td>\n",
       "      <td>No</td>\n",
       "      <td>49.574949</td>\n",
       "      <td>21.465380264657146</td>\n",
       "      <td>High_spent_Medium_value_payments</td>\n",
       "      <td>361.44400385378196</td>\n",
       "    </tr>\n",
       "    <tr>\n",
       "      <th>2</th>\n",
       "      <td>0x160c</td>\n",
       "      <td>CUS_0xd40</td>\n",
       "      <td>November</td>\n",
       "      <td>Aaron Maashoh</td>\n",
       "      <td>24</td>\n",
       "      <td>821-00-0265</td>\n",
       "      <td>Scientist</td>\n",
       "      <td>19114.12</td>\n",
       "      <td>1824.843333</td>\n",
       "      <td>3</td>\n",
       "      <td>...</td>\n",
       "      <td>4.0</td>\n",
       "      <td>Good</td>\n",
       "      <td>809.98</td>\n",
       "      <td>33.811894</td>\n",
       "      <td>NaN</td>\n",
       "      <td>No</td>\n",
       "      <td>49.574949</td>\n",
       "      <td>148.23393788500925</td>\n",
       "      <td>Low_spent_Medium_value_payments</td>\n",
       "      <td>264.67544623342997</td>\n",
       "    </tr>\n",
       "    <tr>\n",
       "      <th>3</th>\n",
       "      <td>0x160d</td>\n",
       "      <td>CUS_0xd40</td>\n",
       "      <td>December</td>\n",
       "      <td>Aaron Maashoh</td>\n",
       "      <td>24_</td>\n",
       "      <td>821-00-0265</td>\n",
       "      <td>Scientist</td>\n",
       "      <td>19114.12</td>\n",
       "      <td>NaN</td>\n",
       "      <td>3</td>\n",
       "      <td>...</td>\n",
       "      <td>4.0</td>\n",
       "      <td>Good</td>\n",
       "      <td>809.98</td>\n",
       "      <td>32.430559</td>\n",
       "      <td>23 Years and 0 Months</td>\n",
       "      <td>No</td>\n",
       "      <td>49.574949</td>\n",
       "      <td>39.08251089460281</td>\n",
       "      <td>High_spent_Medium_value_payments</td>\n",
       "      <td>343.82687322383634</td>\n",
       "    </tr>\n",
       "    <tr>\n",
       "      <th>4</th>\n",
       "      <td>0x1616</td>\n",
       "      <td>CUS_0x21b1</td>\n",
       "      <td>September</td>\n",
       "      <td>Rick Rothackerj</td>\n",
       "      <td>28</td>\n",
       "      <td>004-07-5839</td>\n",
       "      <td>_______</td>\n",
       "      <td>34847.84</td>\n",
       "      <td>3037.986667</td>\n",
       "      <td>2</td>\n",
       "      <td>...</td>\n",
       "      <td>5.0</td>\n",
       "      <td>Good</td>\n",
       "      <td>605.03</td>\n",
       "      <td>25.926822</td>\n",
       "      <td>27 Years and 3 Months</td>\n",
       "      <td>No</td>\n",
       "      <td>18.816215</td>\n",
       "      <td>39.684018417945296</td>\n",
       "      <td>High_spent_Large_value_payments</td>\n",
       "      <td>485.2984336755923</td>\n",
       "    </tr>\n",
       "  </tbody>\n",
       "</table>\n",
       "<p>5 rows × 27 columns</p>\n",
       "</div>"
      ],
      "text/plain": [
       "       ID Customer_ID      Month             Name  Age          SSN  \\\n",
       "0  0x160a   CUS_0xd40  September    Aaron Maashoh   23  821-00-0265   \n",
       "1  0x160b   CUS_0xd40    October    Aaron Maashoh   24  821-00-0265   \n",
       "2  0x160c   CUS_0xd40   November    Aaron Maashoh   24  821-00-0265   \n",
       "3  0x160d   CUS_0xd40   December    Aaron Maashoh  24_  821-00-0265   \n",
       "4  0x1616  CUS_0x21b1  September  Rick Rothackerj   28  004-07-5839   \n",
       "\n",
       "  Occupation Annual_Income  Monthly_Inhand_Salary  Num_Bank_Accounts  ...  \\\n",
       "0  Scientist      19114.12            1824.843333                  3  ...   \n",
       "1  Scientist      19114.12            1824.843333                  3  ...   \n",
       "2  Scientist      19114.12            1824.843333                  3  ...   \n",
       "3  Scientist      19114.12                    NaN                  3  ...   \n",
       "4    _______      34847.84            3037.986667                  2  ...   \n",
       "\n",
       "   Num_Credit_Inquiries  Credit_Mix Outstanding_Debt Credit_Utilization_Ratio  \\\n",
       "0                2022.0        Good           809.98                35.030402   \n",
       "1                   4.0        Good           809.98                33.053114   \n",
       "2                   4.0        Good           809.98                33.811894   \n",
       "3                   4.0        Good           809.98                32.430559   \n",
       "4                   5.0        Good           605.03                25.926822   \n",
       "\n",
       "       Credit_History_Age Payment_of_Min_Amount Total_EMI_per_month  \\\n",
       "0   22 Years and 9 Months                    No           49.574949   \n",
       "1  22 Years and 10 Months                    No           49.574949   \n",
       "2                     NaN                    No           49.574949   \n",
       "3   23 Years and 0 Months                    No           49.574949   \n",
       "4   27 Years and 3 Months                    No           18.816215   \n",
       "\n",
       "   Amount_invested_monthly                 Payment_Behaviour  \\\n",
       "0       236.64268203272135    Low_spent_Small_value_payments   \n",
       "1       21.465380264657146  High_spent_Medium_value_payments   \n",
       "2       148.23393788500925   Low_spent_Medium_value_payments   \n",
       "3        39.08251089460281  High_spent_Medium_value_payments   \n",
       "4       39.684018417945296   High_spent_Large_value_payments   \n",
       "\n",
       "      Monthly_Balance  \n",
       "0  186.26670208571772  \n",
       "1  361.44400385378196  \n",
       "2  264.67544623342997  \n",
       "3  343.82687322383634  \n",
       "4   485.2984336755923  \n",
       "\n",
       "[5 rows x 27 columns]"
      ]
     },
     "execution_count": 5,
     "metadata": {},
     "output_type": "execute_result"
    }
   ],
   "source": [
    "test_data.head()"
   ]
  },
  {
   "cell_type": "code",
   "execution_count": null,
   "id": "93fde057",
   "metadata": {},
   "outputs": [
    {
     "data": {
      "text/plain": [
       "['ID',\n",
       " 'Customer_ID',\n",
       " 'Month',\n",
       " 'Name',\n",
       " 'Age',\n",
       " 'SSN',\n",
       " 'Occupation',\n",
       " 'Annual_Income',\n",
       " 'Monthly_Inhand_Salary',\n",
       " 'Num_Bank_Accounts',\n",
       " 'Num_Credit_Card',\n",
       " 'Interest_Rate',\n",
       " 'Num_of_Loan',\n",
       " 'Type_of_Loan',\n",
       " 'Delay_from_due_date',\n",
       " 'Num_of_Delayed_Payment',\n",
       " 'Changed_Credit_Limit',\n",
       " 'Num_Credit_Inquiries',\n",
       " 'Credit_Mix',\n",
       " 'Outstanding_Debt',\n",
       " 'Credit_Utilization_Ratio',\n",
       " 'Credit_History_Age',\n",
       " 'Payment_of_Min_Amount',\n",
       " 'Total_EMI_per_month',\n",
       " 'Amount_invested_monthly',\n",
       " 'Payment_Behaviour',\n",
       " 'Monthly_Balance']"
      ]
     },
     "execution_count": 6,
     "metadata": {},
     "output_type": "execute_result"
    }
   ],
   "source": [
    "test_data.columns.tolist()"
   ]
  },
  {
   "cell_type": "code",
   "execution_count": null,
   "id": "0da5a042",
   "metadata": {},
   "outputs": [
    {
     "name": "stdout",
     "output_type": "stream",
     "text": [
      "Colunas apenas no treino: {'Credit_Score'}\n",
      "Colunas apenas no teste: set()\n"
     ]
    }
   ],
   "source": [
    "# Observando a diferença entre os conjuntos (teste não tem Credit_Score)\n",
    "train_cols = set(train_data.columns.tolist())\n",
    "test_cols = set(test_data.columns.tolist())\n",
    "print(\"Colunas apenas no treino:\", train_cols - test_cols)\n",
    "print(\"Colunas apenas no teste:\", test_cols - train_cols)"
   ]
  },
  {
   "cell_type": "markdown",
   "id": "5216661b",
   "metadata": {},
   "source": [
    "### Análise exploratória de dados (EDA)"
   ]
  },
  {
   "cell_type": "code",
   "execution_count": null,
   "id": "73c0c445",
   "metadata": {},
   "outputs": [
    {
     "name": "stdout",
     "output_type": "stream",
     "text": [
      "<class 'pandas.core.frame.DataFrame'>\n",
      "RangeIndex: 100000 entries, 0 to 99999\n",
      "Data columns (total 28 columns):\n",
      " #   Column                    Non-Null Count   Dtype  \n",
      "---  ------                    --------------   -----  \n",
      " 0   ID                        100000 non-null  object \n",
      " 1   Customer_ID               100000 non-null  object \n",
      " 2   Month                     100000 non-null  object \n",
      " 3   Name                      90015 non-null   object \n",
      " 4   Age                       100000 non-null  object \n",
      " 5   SSN                       100000 non-null  object \n",
      " 6   Occupation                100000 non-null  object \n",
      " 7   Annual_Income             100000 non-null  object \n",
      " 8   Monthly_Inhand_Salary     84998 non-null   float64\n",
      " 9   Num_Bank_Accounts         100000 non-null  int64  \n",
      " 10  Num_Credit_Card           100000 non-null  int64  \n",
      " 11  Interest_Rate             100000 non-null  int64  \n",
      " 12  Num_of_Loan               100000 non-null  object \n",
      " 13  Type_of_Loan              88592 non-null   object \n",
      " 14  Delay_from_due_date       100000 non-null  int64  \n",
      " 15  Num_of_Delayed_Payment    92998 non-null   object \n",
      " 16  Changed_Credit_Limit      100000 non-null  object \n",
      " 17  Num_Credit_Inquiries      98035 non-null   float64\n",
      " 18  Credit_Mix                100000 non-null  object \n",
      " 19  Outstanding_Debt          100000 non-null  object \n",
      " 20  Credit_Utilization_Ratio  100000 non-null  float64\n",
      " 21  Credit_History_Age        90970 non-null   object \n",
      " 22  Payment_of_Min_Amount     100000 non-null  object \n",
      " 23  Total_EMI_per_month       100000 non-null  float64\n",
      " 24  Amount_invested_monthly   95521 non-null   object \n",
      " 25  Payment_Behaviour         100000 non-null  object \n",
      " 26  Monthly_Balance           98800 non-null   object \n",
      " 27  Credit_Score              100000 non-null  object \n",
      "dtypes: float64(4), int64(4), object(20)\n",
      "memory usage: 21.4+ MB\n"
     ]
    }
   ],
   "source": [
    "train_data.info()"
   ]
  },
  {
   "cell_type": "code",
   "execution_count": null,
   "id": "b2455dc5",
   "metadata": {},
   "outputs": [
    {
     "data": {
      "text/html": [
       "<div>\n",
       "<style scoped>\n",
       "    .dataframe tbody tr th:only-of-type {\n",
       "        vertical-align: middle;\n",
       "    }\n",
       "\n",
       "    .dataframe tbody tr th {\n",
       "        vertical-align: top;\n",
       "    }\n",
       "\n",
       "    .dataframe thead th {\n",
       "        text-align: right;\n",
       "    }\n",
       "</style>\n",
       "<table border=\"1\" class=\"dataframe\">\n",
       "  <thead>\n",
       "    <tr style=\"text-align: right;\">\n",
       "      <th></th>\n",
       "      <th>Monthly_Inhand_Salary</th>\n",
       "      <th>Num_Bank_Accounts</th>\n",
       "      <th>Num_Credit_Card</th>\n",
       "      <th>Interest_Rate</th>\n",
       "      <th>Delay_from_due_date</th>\n",
       "      <th>Num_Credit_Inquiries</th>\n",
       "      <th>Credit_Utilization_Ratio</th>\n",
       "      <th>Total_EMI_per_month</th>\n",
       "    </tr>\n",
       "  </thead>\n",
       "  <tbody>\n",
       "    <tr>\n",
       "      <th>count</th>\n",
       "      <td>84998.000000</td>\n",
       "      <td>100000.000000</td>\n",
       "      <td>100000.00000</td>\n",
       "      <td>100000.000000</td>\n",
       "      <td>100000.000000</td>\n",
       "      <td>98035.000000</td>\n",
       "      <td>100000.000000</td>\n",
       "      <td>100000.000000</td>\n",
       "    </tr>\n",
       "    <tr>\n",
       "      <th>mean</th>\n",
       "      <td>4194.170850</td>\n",
       "      <td>17.091280</td>\n",
       "      <td>22.47443</td>\n",
       "      <td>72.466040</td>\n",
       "      <td>21.068780</td>\n",
       "      <td>27.754251</td>\n",
       "      <td>32.285173</td>\n",
       "      <td>1403.118217</td>\n",
       "    </tr>\n",
       "    <tr>\n",
       "      <th>std</th>\n",
       "      <td>3183.686167</td>\n",
       "      <td>117.404834</td>\n",
       "      <td>129.05741</td>\n",
       "      <td>466.422621</td>\n",
       "      <td>14.860104</td>\n",
       "      <td>193.177339</td>\n",
       "      <td>5.116875</td>\n",
       "      <td>8306.041270</td>\n",
       "    </tr>\n",
       "    <tr>\n",
       "      <th>min</th>\n",
       "      <td>303.645417</td>\n",
       "      <td>-1.000000</td>\n",
       "      <td>0.00000</td>\n",
       "      <td>1.000000</td>\n",
       "      <td>-5.000000</td>\n",
       "      <td>0.000000</td>\n",
       "      <td>20.000000</td>\n",
       "      <td>0.000000</td>\n",
       "    </tr>\n",
       "    <tr>\n",
       "      <th>25%</th>\n",
       "      <td>1625.568229</td>\n",
       "      <td>3.000000</td>\n",
       "      <td>4.00000</td>\n",
       "      <td>8.000000</td>\n",
       "      <td>10.000000</td>\n",
       "      <td>3.000000</td>\n",
       "      <td>28.052567</td>\n",
       "      <td>30.306660</td>\n",
       "    </tr>\n",
       "    <tr>\n",
       "      <th>50%</th>\n",
       "      <td>3093.745000</td>\n",
       "      <td>6.000000</td>\n",
       "      <td>5.00000</td>\n",
       "      <td>13.000000</td>\n",
       "      <td>18.000000</td>\n",
       "      <td>6.000000</td>\n",
       "      <td>32.305784</td>\n",
       "      <td>69.249473</td>\n",
       "    </tr>\n",
       "    <tr>\n",
       "      <th>75%</th>\n",
       "      <td>5957.448333</td>\n",
       "      <td>7.000000</td>\n",
       "      <td>7.00000</td>\n",
       "      <td>20.000000</td>\n",
       "      <td>28.000000</td>\n",
       "      <td>9.000000</td>\n",
       "      <td>36.496663</td>\n",
       "      <td>161.224249</td>\n",
       "    </tr>\n",
       "    <tr>\n",
       "      <th>max</th>\n",
       "      <td>15204.633333</td>\n",
       "      <td>1798.000000</td>\n",
       "      <td>1499.00000</td>\n",
       "      <td>5797.000000</td>\n",
       "      <td>67.000000</td>\n",
       "      <td>2597.000000</td>\n",
       "      <td>50.000000</td>\n",
       "      <td>82331.000000</td>\n",
       "    </tr>\n",
       "  </tbody>\n",
       "</table>\n",
       "</div>"
      ],
      "text/plain": [
       "       Monthly_Inhand_Salary  Num_Bank_Accounts  Num_Credit_Card  \\\n",
       "count           84998.000000      100000.000000     100000.00000   \n",
       "mean             4194.170850          17.091280         22.47443   \n",
       "std              3183.686167         117.404834        129.05741   \n",
       "min               303.645417          -1.000000          0.00000   \n",
       "25%              1625.568229           3.000000          4.00000   \n",
       "50%              3093.745000           6.000000          5.00000   \n",
       "75%              5957.448333           7.000000          7.00000   \n",
       "max             15204.633333        1798.000000       1499.00000   \n",
       "\n",
       "       Interest_Rate  Delay_from_due_date  Num_Credit_Inquiries  \\\n",
       "count  100000.000000        100000.000000          98035.000000   \n",
       "mean       72.466040            21.068780             27.754251   \n",
       "std       466.422621            14.860104            193.177339   \n",
       "min         1.000000            -5.000000              0.000000   \n",
       "25%         8.000000            10.000000              3.000000   \n",
       "50%        13.000000            18.000000              6.000000   \n",
       "75%        20.000000            28.000000              9.000000   \n",
       "max      5797.000000            67.000000           2597.000000   \n",
       "\n",
       "       Credit_Utilization_Ratio  Total_EMI_per_month  \n",
       "count             100000.000000        100000.000000  \n",
       "mean                  32.285173          1403.118217  \n",
       "std                    5.116875          8306.041270  \n",
       "min                   20.000000             0.000000  \n",
       "25%                   28.052567            30.306660  \n",
       "50%                   32.305784            69.249473  \n",
       "75%                   36.496663           161.224249  \n",
       "max                   50.000000         82331.000000  "
      ]
     },
     "execution_count": 9,
     "metadata": {},
     "output_type": "execute_result"
    }
   ],
   "source": [
    "train_data.describe()"
   ]
  },
  {
   "cell_type": "code",
   "execution_count": null,
   "id": "925f1b29",
   "metadata": {},
   "outputs": [
    {
     "data": {
      "text/plain": [
       "ID                              0\n",
       "Customer_ID                     0\n",
       "Month                           0\n",
       "Name                         9985\n",
       "Age                             0\n",
       "SSN                             0\n",
       "Occupation                      0\n",
       "Annual_Income                   0\n",
       "Monthly_Inhand_Salary       15002\n",
       "Num_Bank_Accounts               0\n",
       "Num_Credit_Card                 0\n",
       "Interest_Rate                   0\n",
       "Num_of_Loan                     0\n",
       "Type_of_Loan                11408\n",
       "Delay_from_due_date             0\n",
       "Num_of_Delayed_Payment       7002\n",
       "Changed_Credit_Limit            0\n",
       "Num_Credit_Inquiries         1965\n",
       "Credit_Mix                      0\n",
       "Outstanding_Debt                0\n",
       "Credit_Utilization_Ratio        0\n",
       "Credit_History_Age           9030\n",
       "Payment_of_Min_Amount           0\n",
       "Total_EMI_per_month             0\n",
       "Amount_invested_monthly      4479\n",
       "Payment_Behaviour               0\n",
       "Monthly_Balance              1200\n",
       "Credit_Score                    0\n",
       "dtype: int64"
      ]
     },
     "execution_count": 10,
     "metadata": {},
     "output_type": "execute_result"
    }
   ],
   "source": [
    "train_data.isnull().sum()"
   ]
  },
  {
   "cell_type": "code",
   "execution_count": null,
   "id": "96a8f01b",
   "metadata": {},
   "outputs": [
    {
     "data": {
      "text/plain": [
       "array(['Good', 'Standard', 'Poor'], dtype=object)"
      ]
     },
     "execution_count": 11,
     "metadata": {},
     "output_type": "execute_result"
    }
   ],
   "source": [
    "train_data['Credit_Score'].unique()"
   ]
  },
  {
   "cell_type": "code",
   "execution_count": null,
   "id": "48da43bb",
   "metadata": {},
   "outputs": [
    {
     "name": "stdout",
     "output_type": "stream",
     "text": [
      "\n",
      "Distribuição da variável alvo (Credit_Score):\n",
      "Credit_Score\n",
      "Standard    53174\n",
      "Poor        28998\n",
      "Good        17828\n",
      "Name: count, dtype: int64\n",
      "Credit_Score\n",
      "Standard    53.174\n",
      "Poor        28.998\n",
      "Good        17.828\n",
      "Name: proportion, dtype: float64\n"
     ]
    }
   ],
   "source": [
    "# Verificando a distribuição da variável alvo\n",
    "print(\"\\nDistribuição da variável alvo (Credit_Score):\")\n",
    "print(train_data['Credit_Score'].value_counts())\n",
    "print(train_data['Credit_Score'].value_counts(normalize=True) * 100)"
   ]
  },
  {
   "cell_type": "markdown",
   "id": "e9cda062",
   "metadata": {},
   "source": [
    "Pré-processamento"
   ]
  },
  {
   "cell_type": "code",
   "execution_count": null,
   "id": "83e18198",
   "metadata": {},
   "outputs": [
    {
     "name": "stdout",
     "output_type": "stream",
     "text": [
      "Validação de duplicação.\n",
      "Não existem duplicadas\n",
      "Validação de duplicação.\n",
      "Não existem duplicadas\n"
     ]
    }
   ],
   "source": [
    "def duplicate_values(df):\n",
    "    print(\"Validação de duplicação.\")\n",
    "    num_duplicates = df.duplicated(subset=None, keep='first').sum()\n",
    "    if num_duplicates > 0:\n",
    "        print(\"Existem\", num_duplicates, \"duplicadas.\")\n",
    "        df.drop_duplicates(keep='first', inplace=True)\n",
    "        print(num_duplicates, \"duplicadas excluidas\")\n",
    "    else:\n",
    "        print(\"Não existem duplicadas\")\n",
    "\n",
    "duplicate_values(train_data)\n",
    "duplicate_values(test_data)"
   ]
  },
  {
   "cell_type": "code",
   "execution_count": null,
   "id": "acf1780f",
   "metadata": {},
   "outputs": [
    {
     "name": "stdout",
     "output_type": "stream",
     "text": [
      "Verificando valores numéricos inválidos...\n",
      "Coluna Monthly_Inhand_Salary contém valores não numéricos: [nan]\n",
      "Coluna Num_Credit_Inquiries contém valores não numéricos: [nan]\n"
     ]
    }
   ],
   "source": [
    "# Verificando valores inválidos ou inconsistentes em colunas numéricas\n",
    "print(\"Verificando valores numéricos inválidos...\")\n",
    "numeric_cols = train_data.select_dtypes(include=['int64', 'float64']).columns.tolist()\n",
    "for col in numeric_cols:\n",
    "    invalid_values = train_data[~train_data[col].astype(str).str.replace('.', '').str.replace('-', '').str.isdigit()]\n",
    "    if not invalid_values.empty:\n",
    "        print(f\"Coluna {col} contém valores não numéricos: {invalid_values[col].unique()}\")"
   ]
  },
  {
   "cell_type": "markdown",
   "id": "d2eb2531",
   "metadata": {},
   "source": [
    "Aqui pudemos notar que existem valores que não fazem sentindo para o campo Idade"
   ]
  },
  {
   "cell_type": "code",
   "execution_count": null,
   "id": "da54e957",
   "metadata": {},
   "outputs": [
    {
     "data": {
      "text/plain": [
       "array(['23', '-500', '28_', ..., '4808_', '2263', '1342'], dtype=object)"
      ]
     },
     "execution_count": 15,
     "metadata": {},
     "output_type": "execute_result"
    }
   ],
   "source": [
    "train_data['Age'].unique()"
   ]
  },
  {
   "cell_type": "code",
   "execution_count": null,
   "id": "9c350d52",
   "metadata": {},
   "outputs": [
    {
     "data": {
      "text/plain": [
       "array(['Scientist', '_______', 'Teacher', 'Engineer', 'Entrepreneur',\n",
       "       'Developer', 'Lawyer', 'Media_Manager', 'Doctor', 'Journalist',\n",
       "       'Manager', 'Accountant', 'Musician', 'Mechanic', 'Writer',\n",
       "       'Architect'], dtype=object)"
      ]
     },
     "execution_count": 16,
     "metadata": {},
     "output_type": "execute_result"
    }
   ],
   "source": [
    "train_data['Occupation'].unique()"
   ]
  },
  {
   "cell_type": "markdown",
   "id": "bbffe385",
   "metadata": {},
   "source": [
    "Então criamos uma função para limpar e converter valores"
   ]
  },
  {
   "cell_type": "code",
   "execution_count": null,
   "id": "fedbd8c4",
   "metadata": {},
   "outputs": [],
   "source": [
    "# Função para limpar e converter valores\n",
    "def clean_data(df):\n",
    "    df_copy = df.copy()\n",
    "\n",
    "    # colunas que não serão usadas\n",
    "    df_copy = df_copy.drop(['ID','Customer_ID','Month','Name','SSN', 'Type_of_Loan', 'Changed_Credit_Limit', 'Monthly_Inhand_Salary'], axis = 1)\n",
    "   \n",
    "    # Tratando valores especiais como NaN\n",
    "    for col in df_copy.columns:\n",
    "        df_copy[col] = df_copy[col].replace('_', np.nan)\n",
    "        df_copy[col] = df_copy[col].replace('!@9#%8', np.nan)\n",
    "        df_copy[col] = df_copy[col].replace('#F%$D@*&8', np.nan)\n",
    "    # preenche o na do Credit_Mix com desconhecido\n",
    "    df_copy['Credit_Mix'].fillna('Unknown', inplace=True)\n",
    "    df_copy['Credit_Mix'] = df_copy['Credit_Mix'].astype('object')\n",
    "\n",
    "    # Tratando valores especiais na coluna Occupation\n",
    "    df_copy['Occupation'] = df_copy['Occupation'].replace('_______', 'Other')\n",
    "    df_copy.loc[pd.isna(df_copy['Occupation']), 'Occupation'] = 'Other'\n",
    "   \n",
    "    # Limpando e convertendo a coluna Age para numérico\n",
    "    df_copy['Age'] = pd.to_numeric(df_copy['Age'].astype(str).str.replace('_', ''), errors='coerce')\n",
    "    # Substituir valores inválidos (negativos ou muito altos) por NaN\n",
    "    df_copy.loc[df_copy['Age'] < 0, 'Age'] = np.nan\n",
    "    df_copy.loc[df_copy['Age'] > 100, 'Age'] = np.nan\n",
    "\n",
    "    # Preencher NaN com a mediana das idades válidas\n",
    "    mediana_idade = df_copy['Age'].median()\n",
    "    df_copy['Age'].fillna(mediana_idade, inplace=True)\n",
    "    \n",
    "    # Convertendo Credit_History_Age para numérico (em meses)\n",
    "    def convert_credit_history(x):\n",
    "        if pd.isna(x) or x == 'NA':\n",
    "            return np.nan\n",
    "        try:\n",
    "            years = 0\n",
    "            months = 0\n",
    "            if 'Years' in str(x):\n",
    "                years = int(str(x).split('Years')[0].strip())\n",
    "            if 'Months' in str(x):\n",
    "                months = int(str(x).split('Months')[0].split('and')[-1].strip())\n",
    "            return years * 12 + months\n",
    "        except:\n",
    "            return np.nan\n",
    "           \n",
    "    df_copy['Credit_History_Age'] = df_copy['Credit_History_Age'].apply(convert_credit_history)\n",
    "        # Preencher NaN com a mediana dos valores válidos de Credit_History_Age\n",
    "    mediana_credit_history = df_copy['Credit_History_Age'].median()\n",
    "    df_copy['Credit_History_Age'].fillna(mediana_credit_history, inplace=True)\n",
    "   \n",
    "    \n",
    "    # Convertendo colunas numéricas\n",
    "    numeric_cols = ['Age','Annual_Income', 'Num_Bank_Accounts', 'Num_Credit_Card', 'Credit_History_Age',\n",
    "                  'Interest_Rate', 'Num_of_Loan', 'Delay_from_due_date', \n",
    "                  'Num_of_Delayed_Payment', 'Num_Credit_Inquiries',\n",
    "                  'Outstanding_Debt', 'Credit_Utilization_Ratio', 'Total_EMI_per_month',\n",
    "                  'Amount_invested_monthly', 'Monthly_Balance']\n",
    "    \n",
    "    for col in numeric_cols:\n",
    "        # Primeiro limpar quaisquer caracteres não numéricos\n",
    "        if col in df_copy.columns:\n",
    "            # Converter para string, remover caracteres não numéricos exceto ponto decimal\n",
    "            df_copy[col] = df_copy[col].astype(str).str.replace(r'[^0-9.-]', '', regex=True)\n",
    "            # Converter para float\n",
    "            df_copy[col] = pd.to_numeric(df_copy[col], errors='coerce')\n",
    "    \n",
    "    return df_copy"
   ]
  },
  {
   "cell_type": "code",
   "execution_count": null,
   "id": "fcc0ad81",
   "metadata": {},
   "outputs": [],
   "source": [
    "# Aplicando a limpeza aos conjuntos de dados\n",
    "train_data = clean_data(train_data)\n",
    "test_data = clean_data(test_data)"
   ]
  },
  {
   "cell_type": "code",
   "execution_count": null,
   "id": "8da8bc86",
   "metadata": {},
   "outputs": [
    {
     "name": "stdout",
     "output_type": "stream",
     "text": [
      "<class 'pandas.core.frame.DataFrame'>\n",
      "RangeIndex: 50000 entries, 0 to 49999\n",
      "Data columns (total 19 columns):\n",
      " #   Column                    Non-Null Count  Dtype  \n",
      "---  ------                    --------------  -----  \n",
      " 0   Age                       50000 non-null  float64\n",
      " 1   Occupation                50000 non-null  object \n",
      " 2   Annual_Income             50000 non-null  float64\n",
      " 3   Num_Bank_Accounts         50000 non-null  int64  \n",
      " 4   Num_Credit_Card           50000 non-null  int64  \n",
      " 5   Interest_Rate             50000 non-null  int64  \n",
      " 6   Num_of_Loan               50000 non-null  int64  \n",
      " 7   Delay_from_due_date       50000 non-null  int64  \n",
      " 8   Num_of_Delayed_Payment    46502 non-null  float64\n",
      " 9   Num_Credit_Inquiries      48965 non-null  float64\n",
      " 10  Credit_Mix                50000 non-null  object \n",
      " 11  Outstanding_Debt          50000 non-null  float64\n",
      " 12  Credit_Utilization_Ratio  50000 non-null  float64\n",
      " 13  Credit_History_Age        50000 non-null  float64\n",
      " 14  Payment_of_Min_Amount     50000 non-null  object \n",
      " 15  Total_EMI_per_month       50000 non-null  float64\n",
      " 16  Amount_invested_monthly   47729 non-null  float64\n",
      " 17  Payment_Behaviour         46200 non-null  object \n",
      " 18  Monthly_Balance           49438 non-null  float64\n",
      "dtypes: float64(10), int64(5), object(4)\n",
      "memory usage: 7.2+ MB\n"
     ]
    }
   ],
   "source": [
    "test_data.info()"
   ]
  },
  {
   "cell_type": "code",
   "execution_count": null,
   "id": "0b362ffc",
   "metadata": {},
   "outputs": [
    {
     "name": "stdout",
     "output_type": "stream",
     "text": [
      "<class 'pandas.core.frame.DataFrame'>\n",
      "RangeIndex: 100000 entries, 0 to 99999\n",
      "Data columns (total 20 columns):\n",
      " #   Column                    Non-Null Count   Dtype  \n",
      "---  ------                    --------------   -----  \n",
      " 0   Age                       100000 non-null  float64\n",
      " 1   Occupation                100000 non-null  object \n",
      " 2   Annual_Income             100000 non-null  float64\n",
      " 3   Num_Bank_Accounts         100000 non-null  int64  \n",
      " 4   Num_Credit_Card           100000 non-null  int64  \n",
      " 5   Interest_Rate             100000 non-null  int64  \n",
      " 6   Num_of_Loan               100000 non-null  int64  \n",
      " 7   Delay_from_due_date       100000 non-null  int64  \n",
      " 8   Num_of_Delayed_Payment    92998 non-null   float64\n",
      " 9   Num_Credit_Inquiries      98035 non-null   float64\n",
      " 10  Credit_Mix                100000 non-null  object \n",
      " 11  Outstanding_Debt          100000 non-null  float64\n",
      " 12  Credit_Utilization_Ratio  100000 non-null  float64\n",
      " 13  Credit_History_Age        100000 non-null  float64\n",
      " 14  Payment_of_Min_Amount     100000 non-null  object \n",
      " 15  Total_EMI_per_month       100000 non-null  float64\n",
      " 16  Amount_invested_monthly   95521 non-null   float64\n",
      " 17  Payment_Behaviour         92400 non-null   object \n",
      " 18  Monthly_Balance           98800 non-null   float64\n",
      " 19  Credit_Score              100000 non-null  object \n",
      "dtypes: float64(10), int64(5), object(5)\n",
      "memory usage: 15.3+ MB\n"
     ]
    }
   ],
   "source": [
    "train_data.info()"
   ]
  },
  {
   "cell_type": "code",
   "execution_count": null,
   "id": "57557bce",
   "metadata": {},
   "outputs": [],
   "source": [
    "# Usando dicionário para mapear categorias para valores numéricos\n",
    "mapeamento = {'Good': 2, 'Standard': 1, 'Poor': 0}\n",
    "\n",
    "# Aplicando o mapeamento \n",
    "train_data['Credit_Score'] = train_data['Credit_Score'].map(mapeamento)"
   ]
  },
  {
   "cell_type": "code",
   "execution_count": null,
   "id": "b86b2e99",
   "metadata": {},
   "outputs": [
    {
     "name": "stdout",
     "output_type": "stream",
     "text": [
      "\n",
      "Valores nulos após limpeza (treino):\n",
      "Age                            0\n",
      "Occupation                     0\n",
      "Annual_Income                  0\n",
      "Num_Bank_Accounts              0\n",
      "Num_Credit_Card                0\n",
      "Interest_Rate                  0\n",
      "Num_of_Loan                    0\n",
      "Delay_from_due_date            0\n",
      "Num_of_Delayed_Payment      7002\n",
      "Num_Credit_Inquiries        1965\n",
      "Credit_Mix                     0\n",
      "Outstanding_Debt               0\n",
      "Credit_Utilization_Ratio       0\n",
      "Credit_History_Age             0\n",
      "Payment_of_Min_Amount          0\n",
      "Total_EMI_per_month            0\n",
      "Amount_invested_monthly     4479\n",
      "Payment_Behaviour           7600\n",
      "Monthly_Balance             1200\n",
      "Credit_Score                   0\n",
      "dtype: int64\n",
      "\n",
      "Valores nulos após limpeza (teste):\n",
      "Age                            0\n",
      "Occupation                     0\n",
      "Annual_Income                  0\n",
      "Num_Bank_Accounts              0\n",
      "Num_Credit_Card                0\n",
      "Interest_Rate                  0\n",
      "Num_of_Loan                    0\n",
      "Delay_from_due_date            0\n",
      "Num_of_Delayed_Payment      3498\n",
      "Num_Credit_Inquiries        1035\n",
      "Credit_Mix                     0\n",
      "Outstanding_Debt               0\n",
      "Credit_Utilization_Ratio       0\n",
      "Credit_History_Age             0\n",
      "Payment_of_Min_Amount          0\n",
      "Total_EMI_per_month            0\n",
      "Amount_invested_monthly     2271\n",
      "Payment_Behaviour           3800\n",
      "Monthly_Balance              562\n",
      "dtype: int64\n"
     ]
    }
   ],
   "source": [
    "# Verificando valores nulos após limpeza\n",
    "print(\"\\nValores nulos após limpeza (treino):\")\n",
    "print(train_data.isnull().sum())\n",
    "print(\"\\nValores nulos após limpeza (teste):\")\n",
    "print(test_data.isnull().sum())"
   ]
  },
  {
   "cell_type": "code",
   "execution_count": null,
   "id": "0d6dbb51",
   "metadata": {},
   "outputs": [
    {
     "data": {
      "image/png": "[encoded data removed]",
      "text/plain": [
       "<Figure size 1000x600 with 1 Axes>"
      ]
     },
     "metadata": {},
     "output_type": "display_data"
    }
   ],
   "source": [
    "plt.figure(figsize=(10, 6))\n",
    "ax = sns.countplot(x='Credit_Score', data=train_data)\n",
    "plt.title('Distribuição da Classificação de Crédito')\n",
    "plt.ylabel('Quantidade')\n",
    "plt.xlabel('Classificação de Crédito (0=Poor, 1=Standard, 2=Good)')\n",
    "plt.show()"
   ]
  },
  {
   "cell_type": "code",
   "execution_count": null,
   "id": "8c68eea4",
   "metadata": {},
   "outputs": [
    {
     "data": {
      "text/plain": [
       "[]"
      ]
     },
     "execution_count": 24,
     "metadata": {},
     "output_type": "execute_result"
    },
    {
     "data": {
      "image/png": "[encoded data removed]",
      "text/plain": [
       "<Figure size 1000x600 with 1 Axes>"
      ]
     },
     "metadata": {},
     "output_type": "display_data"
    }
   ],
   "source": [
    "# Verificando a distribuição da idade\n",
    "plt.figure(figsize=(10, 6))\n",
    "sns.histplot(train_data['Age'], kde=True)\n",
    "plt.title('Distribuição de Idade')\n",
    "plt.plot()"
   ]
  },
  {
   "cell_type": "code",
   "execution_count": null,
   "id": "85389d0c",
   "metadata": {},
   "outputs": [
    {
     "data": {
      "text/plain": [
       "array(['Unknown', 'Good', 'Standard', 'Bad'], dtype=object)"
      ]
     },
     "execution_count": 25,
     "metadata": {},
     "output_type": "execute_result"
    }
   ],
   "source": [
    "train_data['Credit_Mix'].unique()"
   ]
  },
  {
   "cell_type": "markdown",
   "id": "9d8648a4",
   "metadata": {},
   "source": [
    "#### Quanto maior o histórico de crédito melhor a classificação"
   ]
  },
  {
   "cell_type": "code",
   "execution_count": null,
   "id": "d6f31470",
   "metadata": {},
   "outputs": [
    {
     "data": {
      "text/plain": [
       "[]"
      ]
     },
     "execution_count": 26,
     "metadata": {},
     "output_type": "execute_result"
    },
    {
     "data": {
      "image/png": "[encoded data removed]",
      "text/plain": [
       "<Figure size 1200x600 with 1 Axes>"
      ]
     },
     "metadata": {},
     "output_type": "display_data"
    }
   ],
   "source": [
    "# Explorando relação entre histórico de crédito e score\n",
    "plt.figure(figsize=(12, 6))\n",
    "sns.boxplot(x='Credit_Score', y='Credit_History_Age', data=train_data)\n",
    "plt.title('Histórico de Crédito por Classificação de Crédito')\n",
    "plt.plot()"
   ]
  },
  {
   "cell_type": "code",
   "execution_count": null,
   "id": "a80f8306",
   "metadata": {},
   "outputs": [
    {
     "name": "stdout",
     "output_type": "stream",
     "text": [
      "Credit_Score                1.000000\n",
      "Credit_History_Age          0.371374\n",
      "Age                         0.157543\n",
      "Credit_Utilization_Ratio    0.045793\n",
      "Amount_invested_monthly     0.011631\n",
      "Annual_Income               0.008015\n",
      "Total_EMI_per_month         0.004382\n",
      "Monthly_Balance            -0.001585\n",
      "Interest_Rate              -0.002591\n",
      "Num_Credit_Card            -0.007624\n",
      "Num_of_Delayed_Payment     -0.008103\n",
      "Num_Bank_Accounts          -0.010491\n",
      "Num_of_Loan                -0.010915\n",
      "Num_Credit_Inquiries       -0.011235\n",
      "Outstanding_Debt           -0.386525\n",
      "Delay_from_due_date        -0.431591\n",
      "Name: Credit_Score, dtype: float64\n"
     ]
    },
    {
     "data": {
      "image/png": "[encoded data removed]",
      "text/plain": [
       "<Figure size 1600x1200 with 2 Axes>"
      ]
     },
     "metadata": {},
     "output_type": "display_data"
    }
   ],
   "source": [
    "numeric_cols = train_data.select_dtypes(include=['int64', 'float64']).columns.tolist()\n",
    "corr_matrix = train_data[numeric_cols].corr()\n",
    "\n",
    "# Visualizando as correlações \n",
    "correlacoes_com_target = corr_matrix['Credit_Score'].sort_values(ascending=False)\n",
    "print(correlacoes_com_target)\n",
    "plt.figure(figsize=(16, 12))\n",
    "sns.heatmap(corr_matrix, annot=True, cmap='coolwarm', fmt=\".2f\")\n",
    "plt.title('Matriz de Correlação das Variáveis Numéricas')\n",
    "plt.savefig('matriz_correlacao.png')\n",
    "plt.show()"
   ]
  },
  {
   "cell_type": "code",
   "execution_count": null,
   "id": "861a52dd",
   "metadata": {},
   "outputs": [
    {
     "name": "stdout",
     "output_type": "stream",
     "text": [
      "[ 3 -1  5  6  8  7 13 10  0  4  9  1 12 11 30 31 34 27 14  2 -2 16 17 15\n",
      " 23 22 21 18 19 52 51 48 53 26 43 28 25 20 47 46 49 24 61 29 50 58 45 59\n",
      " 55 56 57 54 62 65 64 67 36 41 33 32 39 44 42 60 35 38 -3 63 40 37 -5 -4\n",
      " 66]\n"
     ]
    }
   ],
   "source": [
    "print(train_data['Delay_from_due_date'].unique())"
   ]
  },
  {
   "cell_type": "code",
   "execution_count": null,
   "id": "b37928b5",
   "metadata": {},
   "outputs": [
    {
     "data": {
      "image/png": "[encoded data removed]",
      "text/plain": [
       "<Figure size 1200x600 with 1 Axes>"
      ]
     },
     "metadata": {},
     "output_type": "display_data"
    }
   ],
   "source": [
    "# Explorando a relação entre atraso de pagamento e pontuação de crédito\n",
    "plt.figure(figsize=(12, 6))\n",
    "sns.boxplot(x='Credit_Score', y='Delay_from_due_date', data=train_data)\n",
    "plt.title('Atraso de Pagamento por Classificação de Crédito')\n",
    "plt.xlabel('Classificação de Crédito')\n",
    "plt.ylabel('Atraso de Pagamento (dias)')\n",
    "plt.show()\n"
   ]
  },
  {
   "cell_type": "markdown",
   "id": "66eea47b",
   "metadata": {},
   "source": [
    "Isso mostra que o atraso no pagamento auxlia na decisão de aprovar ou não o crédito"
   ]
  },
  {
   "cell_type": "code",
   "execution_count": null,
   "id": "4d937348",
   "metadata": {},
   "outputs": [
    {
     "name": "stdout",
     "output_type": "stream",
     "text": [
      "[ 809.98  605.03 1303.01 ...  620.64 3571.7   502.38]\n"
     ]
    }
   ],
   "source": [
    "print(train_data['Outstanding_Debt'].unique())"
   ]
  },
  {
   "cell_type": "code",
   "execution_count": null,
   "id": "b8f8d328",
   "metadata": {},
   "outputs": [
    {
     "data": {
      "image/png": "[encoded data removed]",
      "text/plain": [
       "<Figure size 1200x600 with 1 Axes>"
      ]
     },
     "metadata": {},
     "output_type": "display_data"
    }
   ],
   "source": [
    "plt.figure(figsize=(12, 6))\n",
    "sns.boxplot(x='Credit_Score', y='Outstanding_Debt', data=train_data)\n",
    "plt.title('Dívida Pendentes por Classificação de Crédito')\n",
    "plt.xlabel('Classificação de Crédito')\n",
    "plt.ylabel('Dívida Pendentes')\n",
    "plt.show()\n"
   ]
  },
  {
   "cell_type": "code",
   "execution_count": null,
   "id": "b3f76ea3",
   "metadata": {},
   "outputs": [
    {
     "data": {
      "image/png": "[encoded data removed]",
      "text/plain": [
       "<Figure size 1200x600 with 1 Axes>"
      ]
     },
     "metadata": {},
     "output_type": "display_data"
    }
   ],
   "source": [
    "plt.figure(figsize=(12, 6))\n",
    "sns.boxplot(x='Credit_Score', y='Age', data=train_data)\n",
    "plt.title('Idade por Classificação de Crédito')\n",
    "plt.xlabel('Classificação de Crédito')\n",
    "plt.ylabel('Idade')\n",
    "plt.show()\n"
   ]
  },
  {
   "cell_type": "code",
   "execution_count": null,
   "id": "21eac67a",
   "metadata": {},
   "outputs": [
    {
     "name": "stdout",
     "output_type": "stream",
     "text": [
      "Valores únicos na coluna Occupation: ['Scientist' 'Other' 'Teacher' 'Engineer' 'Entrepreneur' 'Developer'\n",
      " 'Lawyer' 'Media_Manager' 'Doctor' 'Journalist' 'Manager' 'Accountant'\n",
      " 'Musician' 'Mechanic' 'Writer' 'Architect']\n",
      "Valores únicos na coluna Credit_Mix: ['Unknown' 'Good' 'Standard' 'Bad']\n",
      "Valores únicos na coluna Payment_of_Min_Amount: ['No' 'NM' 'Yes']\n",
      "Valores únicos na coluna Payment_Behaviour: ['High_spent_Small_value_payments' 'Low_spent_Large_value_payments'\n",
      " 'Low_spent_Medium_value_payments' 'Low_spent_Small_value_payments'\n",
      " 'High_spent_Medium_value_payments' nan 'High_spent_Large_value_payments']\n"
     ]
    }
   ],
   "source": [
    "colunas_obj = ['Occupation', 'Credit_Mix', 'Payment_of_Min_Amount', 'Payment_Behaviour']\n",
    "for coluna in colunas_obj:\n",
    "    print(f\"Valores únicos na coluna {coluna}: {train_data[coluna].unique()}\")\n"
   ]
  },
  {
   "cell_type": "code",
   "execution_count": null,
   "id": "0f03c7bf",
   "metadata": {},
   "outputs": [
    {
     "name": "stdout",
     "output_type": "stream",
     "text": [
      "Valores codificados na coluna Occupation: [13 12 14  4  5  2  7 10  3  6  8  0 11  9 15  1]\n",
      "Valores codificados na coluna Credit_Mix: [3 1 2 0]\n",
      "Valores codificados na coluna Payment_of_Min_Amount: [1 0 2]\n",
      "Valores codificados na coluna Payment_Behaviour: [2 3 4 5 1 6 0]\n"
     ]
    }
   ],
   "source": [
    "\n",
    "\n",
    "# Criar um dicionário para armazenar os encoders\n",
    "encoders = {}\n",
    "\n",
    "# Colunas categóricas a serem codificadas\n",
    "colunas_categoricas = ['Occupation', 'Credit_Mix', 'Payment_of_Min_Amount', 'Payment_Behaviour']\n",
    "\n",
    "# Aplicar Label Encoding em cada coluna categórica\n",
    "for coluna in colunas_categoricas:\n",
    "    le = LabelEncoder()\n",
    "    # Preencher valores NaN com uma string para codificação\n",
    "    train_data[coluna] = train_data[coluna].fillna('Missing')\n",
    "    train_data[coluna] = le.fit_transform(train_data[coluna])\n",
    "    encoders[coluna] = le\n",
    "\n",
    "# Exibir os valores codificados para verificação\n",
    "for coluna in colunas_categoricas:\n",
    "    print(f\"Valores codificados na coluna {coluna}: {train_data[coluna].unique()}\")\n"
   ]
  },
  {
   "cell_type": "code",
   "execution_count": null,
   "id": "0693151d",
   "metadata": {},
   "outputs": [
    {
     "name": "stdout",
     "output_type": "stream",
     "text": [
      "Correlação entre Occupation e Credit_Score: -0.010303817168283642\n",
      "Correlação entre Credit_Mix e Credit_Score: 0.10632627078934287\n",
      "Correlação entre Payment_of_Min_Amount e Credit_Score: -0.2781269555652279\n",
      "Correlação entre Payment_Behaviour e Credit_Score: -0.10301659049414279\n"
     ]
    }
   ],
   "source": [
    "# Calcular a correlação entre as colunas codificadas e a coluna 'Credit_Score'\n",
    "correlacoes = {}\n",
    "for coluna in colunas_categoricas:\n",
    "    correlacao = train_data[coluna].corr(train_data['Credit_Score'])\n",
    "    correlacoes[coluna] = correlacao\n",
    "\n",
    "# Exibir a lista de correlações\n",
    "for coluna, correlacao in correlacoes.items():\n",
    "    print(f\"Correlação entre {coluna} e Credit_Score: {correlacao}\")\n"
   ]
  },
  {
   "cell_type": "code",
   "execution_count": null,
   "id": "fa7dbea2",
   "metadata": {},
   "outputs": [
    {
     "data": {
      "text/plain": [
       "Credit_Score                1.000000\n",
       "Credit_History_Age          0.371374\n",
       "Age                         0.157543\n",
       "Credit_Mix                  0.106326\n",
       "Credit_Utilization_Ratio    0.045793\n",
       "Amount_invested_monthly     0.011631\n",
       "Annual_Income               0.008015\n",
       "Total_EMI_per_month         0.004382\n",
       "Monthly_Balance            -0.001585\n",
       "Interest_Rate              -0.002591\n",
       "Num_Credit_Card            -0.007624\n",
       "Num_of_Delayed_Payment     -0.008103\n",
       "Occupation                 -0.010304\n",
       "Num_Bank_Accounts          -0.010491\n",
       "Num_of_Loan                -0.010915\n",
       "Num_Credit_Inquiries       -0.011235\n",
       "Payment_Behaviour          -0.103017\n",
       "Payment_of_Min_Amount      -0.278127\n",
       "Outstanding_Debt           -0.386525\n",
       "Delay_from_due_date        -0.431591\n",
       "Name: Credit_Score, dtype: float64"
      ]
     },
     "execution_count": 36,
     "metadata": {},
     "output_type": "execute_result"
    }
   ],
   "source": [
    "# Calcular a correlação entre todas as colunas e a coluna 'Credit_Score'\n",
    "correlacoes_todas = train_data.corr()['Credit_Score']\n",
    "correlacoes_todas.sort_values(ascending=False)"
   ]
  },
  {
   "cell_type": "code",
   "execution_count": null,
   "id": "59c5b06e",
   "metadata": {},
   "outputs": [
    {
     "name": "stdout",
     "output_type": "stream",
     "text": [
      "\n",
      "Verificando valores numéricos inválidos...\n",
      "Coluna Num_of_Delayed_Payment contém valores não numéricos: [nan]\n",
      "Coluna Num_Credit_Inquiries contém valores não numéricos: [nan]\n",
      "Coluna Amount_invested_monthly contém valores não numéricos: [nan]\n",
      "Coluna Monthly_Balance contém valores não numéricos: [            nan -3.33333333e+26]\n"
     ]
    }
   ],
   "source": [
    "print(\"\\nVerificando valores numéricos inválidos...\")\n",
    "numeric_cols = train_data.select_dtypes(include=['int64', 'float64']).columns.tolist()\n",
    "for col in numeric_cols:\n",
    "    invalid_values = train_data[~train_data[col].astype(str).str.replace('.', '').str.replace('-', '').str.isdigit()]\n",
    "    if not invalid_values.empty:\n",
    "        print(f\"Coluna {col} contém valores não numéricos: {invalid_values[col].unique()}\")"
   ]
  },
  {
   "cell_type": "code",
   "execution_count": null,
   "id": "c9a52cb3",
   "metadata": {},
   "outputs": [
    {
     "name": "stdout",
     "output_type": "stream",
     "text": [
      "Age                            0\n",
      "Occupation                     0\n",
      "Annual_Income                  0\n",
      "Num_Bank_Accounts              0\n",
      "Num_Credit_Card                0\n",
      "Interest_Rate                  0\n",
      "Num_of_Loan                    0\n",
      "Delay_from_due_date            0\n",
      "Num_of_Delayed_Payment      7002\n",
      "Num_Credit_Inquiries        1965\n",
      "Credit_Mix                     0\n",
      "Outstanding_Debt               0\n",
      "Credit_Utilization_Ratio       0\n",
      "Credit_History_Age             0\n",
      "Payment_of_Min_Amount          0\n",
      "Total_EMI_per_month            0\n",
      "Amount_invested_monthly     4479\n",
      "Payment_Behaviour              0\n",
      "Monthly_Balance             1200\n",
      "Credit_Score                   0\n",
      "dtype: int64\n"
     ]
    }
   ],
   "source": [
    "print(train_data.isnull().sum())"
   ]
  },
  {
   "cell_type": "code",
   "execution_count": null,
   "id": "7a248215",
   "metadata": {},
   "outputs": [],
   "source": [
    "# Separando features e target\n",
    "X = train_data.drop(['Credit_Score'], axis=1)\n",
    "y = train_data['Credit_Score']"
   ]
  },
  {
   "cell_type": "code",
   "execution_count": null,
   "id": "de01c357",
   "metadata": {},
   "outputs": [
    {
     "name": "stdout",
     "output_type": "stream",
     "text": [
      "\n",
      "Formato dos dados após limpeza:\n",
      "X: (100000, 19)\n",
      "y: (100000,)\n",
      "\n",
      "Tipos de dados após limpeza:\n",
      "Age                         float64\n",
      "Occupation                    int64\n",
      "Annual_Income               float64\n",
      "Num_Bank_Accounts             int64\n",
      "Num_Credit_Card               int64\n",
      "Interest_Rate                 int64\n",
      "Num_of_Loan                   int64\n",
      "Delay_from_due_date           int64\n",
      "Num_of_Delayed_Payment      float64\n",
      "Num_Credit_Inquiries        float64\n",
      "Credit_Mix                    int64\n",
      "Outstanding_Debt            float64\n",
      "Credit_Utilization_Ratio    float64\n",
      "Credit_History_Age          float64\n",
      "Payment_of_Min_Amount         int64\n",
      "Total_EMI_per_month         float64\n",
      "Amount_invested_monthly     float64\n",
      "Payment_Behaviour             int64\n",
      "Monthly_Balance             float64\n",
      "dtype: object\n"
     ]
    }
   ],
   "source": [
    "# Visualizando dados após a limpeza\n",
    "print(\"\\nFormato dos dados após limpeza:\")\n",
    "print(f\"X: {X.shape}\")\n",
    "print(f\"y: {y.shape}\")\n",
    "\n",
    "print(\"\\nTipos de dados após limpeza:\")\n",
    "print(X.dtypes)"
   ]
  },
  {
   "cell_type": "code",
   "execution_count": null,
   "id": "8ebcb4da",
   "metadata": {},
   "outputs": [],
   "source": [
    "# Definição das features\n",
    "features = [col for col in train_data.columns if col != 'Credit_Score']\n",
    "\n",
    "# Preprocessador para features numéricas\n",
    "numerical_transformer = Pipeline(steps=[\n",
    "    ('imputer', SimpleImputer(strategy='median')),\n",
    "    ('scaler', StandardScaler())])\n",
    "\n",
    "preprocessor = ColumnTransformer(\n",
    "    transformers=[\n",
    "        ('num', numerical_transformer, features)])\n",
    "\n",
    "\n",
    "X_transformado = preprocessor.fit_transform(X)\n",
    "# Usar weighted average (considera a proporção de cada classe)\n"
   ]
  },
  {
   "cell_type": "code",
   "execution_count": null,
   "id": "dfa52cbf",
   "metadata": {},
   "outputs": [
    {
     "name": "stdout",
     "output_type": "stream",
     "text": [
      "Distribuição das classes:\n",
      "Credit_Score\n",
      "1    53174\n",
      "0    28998\n",
      "2    17828\n",
      "Name: count, dtype: int64\n",
      "Proporção da classe 0 (poor): 0.2900\n",
      "\n",
      "Valores faltantes em y: 0\n",
      "Valores faltantes em X_transformado: 0\n"
     ]
    }
   ],
   "source": [
    "# Verificar a distribuição das classes\n",
    "print(\"Distribuição das classes:\")\n",
    "print(y.value_counts())\n",
    "print(f\"Proporção da classe 0 (poor): {(y == 0).mean():.4f}\")\n",
    "\n",
    "# Verificar se há valores faltantes\n",
    "print(f\"\\nValores faltantes em y: {y.isna().sum()}\")\n",
    "print(f\"Valores faltantes em X_transformado: {np.isnan(X_transformado).sum()}\")\n",
    "\n"
   ]
  },
  {
   "cell_type": "markdown",
   "id": "6dc3ede3",
   "metadata": {},
   "source": [
    "### Criação dos pipelines para treinamento dos modelos, utilizando GridSearch para otimizar os parâmetros"
   ]
  },
  {
   "cell_type": "code",
   "execution_count": null,
   "id": "b8babfd9",
   "metadata": {},
   "outputs": [],
   "source": [
    "f1_scorer = make_scorer(f1_score, average='weighted')"
   ]
  },
  {
   "cell_type": "code",
   "execution_count": null,
   "id": "21bcd867",
   "metadata": {},
   "outputs": [
    {
     "name": "stdout",
     "output_type": "stream",
     "text": [
      "Treinando Random Forest...\n",
      "\n",
      "--- Resultados Random Forest ---\n",
      "Melhor f1-score: 0.6881\n",
      "Melhores parâmetros: {'classificador__max_depth': 10, 'classificador__min_samples_split': 5, 'classificador__n_estimators': 300}\n"
     ]
    }
   ],
   "source": [
    "\n",
    "\n",
    "# Pipeline com Random Forest\n",
    "pipeline_rf = Pipeline([\n",
    "    ('classificador', RandomForestClassifier(random_state=42))\n",
    "])\n",
    "\n",
    "# Parâmetros para execução\n",
    "parametros_rf = {\n",
    "  'classificador__n_estimators': [100, 200, 300],\n",
    "    'classificador__max_depth': [None, 10, 20],\n",
    "    'classificador__min_samples_split': [2, 5, 10]\n",
    "}\n",
    "\n",
    "# GridSearch \n",
    "grid_rf = GridSearchCV(pipeline_rf, parametros_rf, cv=3, scoring=f1_scorer, n_jobs=-1)\n",
    "\n",
    "# Treinamento\n",
    "print(\"Treinando Random Forest...\")\n",
    "grid_rf.fit(X_transformado, y)\n",
    "\n",
    "# Resultados\n",
    "print(\"\\n--- Resultados Random Forest ---\")\n",
    "print(f\"Melhor f1-score: {grid_rf.best_score_:.4f}\")\n",
    "print(f\"Melhores parâmetros: {grid_rf.best_params_}\")"
   ]
  },
  {
   "cell_type": "code",
   "execution_count": null,
   "id": "3f0f718d",
   "metadata": {},
   "outputs": [
    {
     "name": "stdout",
     "output_type": "stream",
     "text": [
      "Treinando XGBoost...\n",
      "\n",
      "--- Resultados XGBoost ---\n",
      "Melhor f1-score: 0.6893\n",
      "Melhores parâmetros: {'classificador__learning_rate': 0.01, 'classificador__max_depth': 7, 'classificador__n_estimators': 200}\n"
     ]
    }
   ],
   "source": [
    "# Pipeline com XGBoost\n",
    "pipeline_xgb = Pipeline([\n",
    "    ('classificador', xgb.XGBClassifier(random_state=42))\n",
    "])\n",
    "\n",
    "# Parâmetros para execução\n",
    "parametros_xgb = {\n",
    "    'classificador__n_estimators': [100, 200],\n",
    "    'classificador__max_depth': [3, 5, 7],\n",
    "    'classificador__learning_rate': [0.01, 0.1]\n",
    "}\n",
    "\n",
    "# GridSearch\n",
    "grid_xgb = GridSearchCV(pipeline_xgb, parametros_xgb, cv=3, scoring=f1_scorer, n_jobs=-1)\n",
    "\n",
    "# Treinamento\n",
    "print(\"Treinando XGBoost...\")\n",
    "grid_xgb.fit(X_transformado, y)\n",
    "\n",
    "# Resultados\n",
    "print(\"\\n--- Resultados XGBoost ---\")\n",
    "print(f\"Melhor f1-score: {grid_xgb.best_score_:.4f}\")\n",
    "print(f\"Melhores parâmetros: {grid_xgb.best_params_}\")"
   ]
  },
  {
   "cell_type": "code",
   "execution_count": null,
   "id": "aa9e5292",
   "metadata": {},
   "outputs": [
    {
     "name": "stdout",
     "output_type": "stream",
     "text": [
      "Treinando LightGBM...\n",
      "[LightGBM] [Info] Auto-choosing col-wise multi-threading, the overhead of testing was 0.007076 seconds.\n",
      "You can set `force_col_wise=true` to remove the overhead.\n",
      "[LightGBM] [Info] Total Bins 3205\n",
      "[LightGBM] [Info] Number of data points in the train set: 100000, number of used features: 18\n",
      "[LightGBM] [Info] Start training from score -1.237943\n",
      "[LightGBM] [Info] Start training from score -0.631601\n",
      "[LightGBM] [Info] Start training from score -1.724400\n",
      "[LightGBM] [Warning] No further splits with positive gain, best gain: -inf\n",
      "\n",
      "--- Resultados LightGBM ---\n",
      "Melhor f1-score: 0.6876\n",
      "Melhores parâmetros: {'classificador__learning_rate': 0.1, 'classificador__max_depth': 7, 'classificador__n_estimators': 100}\n"
     ]
    }
   ],
   "source": [
    "# Pipeline com LightGBM\n",
    "pipeline_lgbm = Pipeline([\n",
    "    ('classificador', lgb.LGBMClassifier(random_state=42))\n",
    "])\n",
    "\n",
    "# Parâmetros para execução\n",
    "parametros_lgbm = {\n",
    "    'classificador__n_estimators': [100, 200],\n",
    "    'classificador__max_depth': [3, 5, 7],\n",
    "    'classificador__learning_rate': [0.01, 0.1]\n",
    "}\n",
    "\n",
    "# GridSearch\n",
    "grid_lgbm = GridSearchCV(pipeline_lgbm, parametros_lgbm, cv=3, scoring=f1_scorer, n_jobs=-1)\n",
    "\n",
    "# Treinamento\n",
    "print(\"Treinando LightGBM...\")\n",
    "grid_lgbm.fit(X_transformado, y)\n",
    "\n",
    "# Resultados\n",
    "print(\"\\n--- Resultados LightGBM ---\")\n",
    "print(f\"Melhor f1-score: {grid_lgbm.best_score_:.4f}\")\n",
    "print(f\"Melhores parâmetros: {grid_lgbm.best_params_}\")"
   ]
  },
  {
   "cell_type": "code",
   "execution_count": null,
   "id": "7c110382",
   "metadata": {},
   "outputs": [
    {
     "name": "stdout",
     "output_type": "stream",
     "text": [
      "\n",
      "Melhor modelo: XGBoost com f1-score de 0.6893\n"
     ]
    }
   ],
   "source": [
    "# Determinação do melhor modelo\n",
    "modelos = {'Random Forest': grid_rf, 'XGBoost': grid_xgb, 'LightGBM': grid_lgbm}\n",
    "melhor_modelo = max(modelos.items(), key=lambda x: x[1].best_score_)\n",
    "print(f\"\\nMelhor modelo: {melhor_modelo[0]} com f1-score de {melhor_modelo[1].best_score_:.4f}\")"
   ]
  },
  {
   "cell_type": "code",
   "execution_count": null,
   "id": "2bd831ba",
   "metadata": {},
   "outputs": [],
   "source": [
    "# Função para avaliar modelo com múltiplas métricas\n",
    "def avaliar_modelo(modelo, X, y, nome_modelo):\n",
    "    # Fazer predições\n",
    "    y_pred = modelo.predict(X)\n",
    "    y_proba = modelo.predict_proba(X)\n",
    "    \n",
    "    # Calcular métricas\n",
    "    accuracy = accuracy_score(y, y_pred)\n",
    "    precision = precision_score(y, y_pred, average='weighted')\n",
    "    recall = recall_score(y, y_pred, average='weighted')\n",
    "    f1 = f1_score(y, y_pred, average='weighted')\n",
    "    \n",
    "    # Para ROC AUC em multiclasse, usamos One-vs-Rest\n",
    "    try:\n",
    "        roc_auc = roc_auc_score(y, y_proba, multi_class='ovr')\n",
    "    except:\n",
    "        roc_auc = \"N/A\"\n",
    "    \n",
    "    # Matriz de confusão\n",
    "    cm = confusion_matrix(y, y_pred)\n",
    "    \n",
    "    # Exibir resultados\n",
    "    print(f\"\\n--- Resultados {nome_modelo} ---\")\n",
    "    print(f\"Acurácia: {accuracy:.4f}\")\n",
    "    print(f\"Precisão (weighted): {precision:.4f}\")\n",
    "    print(f\"Recall (weighted): {recall:.4f}\")\n",
    "    print(f\"F1-Score (weighted): {f1:.4f}\")\n",
    "    print(f\"ROC AUC (OvR): {roc_auc}\")\n",
    "    \n",
    "    # Exibir matriz de confusão\n",
    "    print(\"\\nMatriz de Confusão:\")\n",
    "    print(cm)\n",
    "    \n",
    "    return {\n",
    "        'modelo': nome_modelo,\n",
    "        'accuracy': accuracy,\n",
    "        'precision': precision,\n",
    "        'recall': recall,\n",
    "        'f1': f1,\n",
    "        'roc_auc': roc_auc\n",
    "    }\n"
   ]
  },
  {
   "cell_type": "code",
   "execution_count": null,
   "id": "fc65b2d0",
   "metadata": {},
   "outputs": [
    {
     "name": "stdout",
     "output_type": "stream",
     "text": [
      "\n",
      "--- Resultados Random Forest ---\n",
      "Acurácia: 0.7447\n",
      "Precisão (weighted): 0.7509\n",
      "Recall (weighted): 0.7447\n",
      "F1-Score (weighted): 0.7465\n",
      "ROC AUC (OvR): 0.8789669309384305\n",
      "\n",
      "Matriz de Confusão:\n",
      "[[22356  4744  1898]\n",
      " [ 7219 39661  6294]\n",
      " [  390  4986 12452]]\n"
     ]
    }
   ],
   "source": [
    "# Avaliar cada modelo após treinar\n",
    "resultados_rf = avaliar_modelo(grid_rf.best_estimator_, X_transformado, y, \"Random Forest\")"
   ]
  },
  {
   "cell_type": "code",
   "execution_count": null,
   "id": "d5734a85",
   "metadata": {},
   "outputs": [
    {
     "name": "stdout",
     "output_type": "stream",
     "text": [
      "\n",
      "--- Resultados XGBoost ---\n",
      "Acurácia: 0.7222\n",
      "Precisão (weighted): 0.7290\n",
      "Recall (weighted): 0.7222\n",
      "F1-Score (weighted): 0.7243\n",
      "ROC AUC (OvR): 0.8654978224421477\n",
      "\n",
      "Matriz de Confusão:\n",
      "[[20827  6143  2028]\n",
      " [ 7249 39001  6924]\n",
      " [  464  4967 12397]]\n"
     ]
    }
   ],
   "source": [
    "resultados_xgb = avaliar_modelo(grid_xgb.best_estimator_, X_transformado, y, \"XGBoost\")"
   ]
  },
  {
   "cell_type": "code",
   "execution_count": null,
   "id": "0985c843",
   "metadata": {},
   "outputs": [
    {
     "name": "stdout",
     "output_type": "stream",
     "text": [
      "\n",
      "--- Resultados LightGBM ---\n",
      "Acurácia: 0.7444\n",
      "Precisão (weighted): 0.7476\n",
      "Recall (weighted): 0.7444\n",
      "F1-Score (weighted): 0.7455\n",
      "ROC AUC (OvR): 0.8875632461692415\n",
      "\n",
      "Matriz de Confusão:\n",
      "[[21276  6046  1676]\n",
      " [ 7101 40455  5618]\n",
      " [  333  4783 12712]]\n"
     ]
    }
   ],
   "source": [
    "resultados_lgbm = avaliar_modelo(grid_lgbm.best_estimator_, X_transformado, y, \"LightGBM\")"
   ]
  },
  {
   "cell_type": "code",
   "execution_count": null,
   "id": "0ad4d9df",
   "metadata": {},
   "outputs": [
    {
     "data": {
      "text/html": [
       "<div>\n",
       "<style scoped>\n",
       "    .dataframe tbody tr th:only-of-type {\n",
       "        vertical-align: middle;\n",
       "    }\n",
       "\n",
       "    .dataframe tbody tr th {\n",
       "        vertical-align: top;\n",
       "    }\n",
       "\n",
       "    .dataframe thead th {\n",
       "        text-align: right;\n",
       "    }\n",
       "</style>\n",
       "<table border=\"1\" class=\"dataframe\">\n",
       "  <thead>\n",
       "    <tr style=\"text-align: right;\">\n",
       "      <th></th>\n",
       "      <th>modelo</th>\n",
       "      <th>accuracy</th>\n",
       "      <th>precision</th>\n",
       "      <th>recall</th>\n",
       "      <th>f1</th>\n",
       "      <th>roc_auc</th>\n",
       "    </tr>\n",
       "  </thead>\n",
       "  <tbody>\n",
       "    <tr>\n",
       "      <th>0</th>\n",
       "      <td>Random Forest</td>\n",
       "      <td>0.74469</td>\n",
       "      <td>0.750868</td>\n",
       "      <td>0.74469</td>\n",
       "      <td>0.746538</td>\n",
       "      <td>0.878967</td>\n",
       "    </tr>\n",
       "    <tr>\n",
       "      <th>1</th>\n",
       "      <td>XGBoost</td>\n",
       "      <td>0.72225</td>\n",
       "      <td>0.728985</td>\n",
       "      <td>0.72225</td>\n",
       "      <td>0.724332</td>\n",
       "      <td>0.865498</td>\n",
       "    </tr>\n",
       "    <tr>\n",
       "      <th>2</th>\n",
       "      <td>LightGBM</td>\n",
       "      <td>0.74443</td>\n",
       "      <td>0.747634</td>\n",
       "      <td>0.74443</td>\n",
       "      <td>0.745494</td>\n",
       "      <td>0.887563</td>\n",
       "    </tr>\n",
       "  </tbody>\n",
       "</table>\n",
       "</div>"
      ],
      "text/plain": [
       "          modelo  accuracy  precision   recall        f1   roc_auc\n",
       "0  Random Forest   0.74469   0.750868  0.74469  0.746538  0.878967\n",
       "1        XGBoost   0.72225   0.728985  0.72225  0.724332  0.865498\n",
       "2       LightGBM   0.74443   0.747634  0.74443  0.745494  0.887563"
      ]
     },
     "execution_count": 52,
     "metadata": {},
     "output_type": "execute_result"
    }
   ],
   "source": [
    "\n",
    "# DataFrame para comparar todos os modelos\n",
    "resultados_df = pd.DataFrame([resultados_rf, resultados_xgb, resultados_lgbm])\n",
    "\n",
    "resultados_df"
   ]
  },
  {
   "cell_type": "code",
   "execution_count": null,
   "id": "444aa3c8",
   "metadata": {},
   "outputs": [],
   "source": [
    "# Visualizar comparação das métricas\n",
    "metricas = ['accuracy', 'precision', 'recall', 'f1']\n",
    "resultados_plot = resultados_df.set_index('modelo')[metricas]"
   ]
  },
  {
   "cell_type": "code",
   "execution_count": null,
   "id": "4526b636",
   "metadata": {},
   "outputs": [
    {
     "data": {
      "text/plain": [
       "<Figure size 1200x600 with 0 Axes>"
      ]
     },
     "metadata": {},
     "output_type": "display_data"
    },
    {
     "data": {
      "image/png": "[encoded data removed]",
      "text/plain": [
       "<Figure size 640x480 with 1 Axes>"
      ]
     },
     "metadata": {},
     "output_type": "display_data"
    }
   ],
   "source": [
    "plt.figure(figsize=(12, 6))\n",
    "resultados_plot.plot(kind='bar')\n",
    "plt.title('Comparação de Métricas por Modelo')\n",
    "plt.ylabel('Valor')\n",
    "plt.xlabel('Modelo')\n",
    "plt.ylim(0, 1)\n",
    "plt.legend(title='Métrica')\n",
    "plt.tight_layout()\n",
    "plt.show()"
   ]
  },
  {
   "cell_type": "code",
   "execution_count": null,
   "id": "8ae235b7",
   "metadata": {},
   "outputs": [
    {
     "name": "stdout",
     "output_type": "stream",
     "text": [
      "              F1-score (Poor)\n",
      "RandomForest         0.758306\n",
      "XGBoost              0.723939\n",
      "LightGBM             0.737367\n"
     ]
    }
   ],
   "source": [
    "\n",
    "\n",
    "# Dicionário com seus grids já treinados\n",
    "models = {\n",
    "    'RandomForest': grid_rf,\n",
    "    'XGBoost':      grid_xgb,\n",
    "    'LightGBM':     grid_lgbm\n",
    "}\n",
    "\n",
    "# Nomes na ordem dos rótulos 0,1,2\n",
    "label_names = ['Poor', 'Standard', 'Good']\n",
    "\n",
    "f1_scores_poor = {}\n",
    "for name, grid in models.items():\n",
    "    # Previsões sobre X_transformado\n",
    "    y_pred = grid.predict(X_transformado)\n",
    "    report = classification_report(\n",
    "        y,\n",
    "        y_pred,\n",
    "        labels=[0, 1, 2],           # especifica que as classes são 0,1,2\n",
    "        target_names=label_names,   # mapeia 0→'Poor', 1→'Standard', 2→'Good'\n",
    "        output_dict=True\n",
    "    )\n",
    "    f1_scores_poor[name] = report['Poor']['f1-score']\n",
    "\n",
    "# Monta um DataFrame pra visualização\n",
    "df_scores = pd.Series(f1_scores_poor, name='F1-score (Poor)').to_frame()\n",
    "print(df_scores)\n"
   ]
  },
  {
   "cell_type": "markdown",
   "id": "409300d5",
   "metadata": {},
   "source": [
    "## 3. Avaliação e seleção do modelo final\n",
    "\n",
    "**Métrica principal:** F1-score da classe “Poor”  \n",
    "_Justificativa:_ como o custo de conceder crédito a um cliente de alto risco (falso positivo) é muito superior ao de negar crédito a bom pagador (falso negativo), priorizamos o F1-score na classe “Poor”, que combina precision (evita falsos positivos) e recall (captura a maior parte dos riscos).\n",
    "\n",
    "| Modelo       | F1-score (Poor) |\n",
    "|--------------|-----------------|\n",
    "| RandomForest | **0.75**      |\n",
    "| LightGBM     | 0.72          |\n",
    "| XGBoost      | 0.73          |\n",
    "\n",
    "> **Modelo escolhido:** RandomForest, por apresentar o maior F1-score (Poor)."
   ]
  },
  {
   "cell_type": "markdown",
   "id": "7d913c8b",
   "metadata": {},
   "source": [
    "## 4. Aplicação financeira do modelo\n",
    "\n",
    "O RandomForest treinado, com F1-score de 0.75 na classe “Poor”, pode ser integrado ao fluxo de concessão de crédito da Quantum Finance da seguinte forma:\n",
    "\n",
    "- **Score de risco:** ao receber a solicitação de crédito, o sistema calcula P(“Poor”).  \n",
    "- **Negação automática:** se P(“Poor”) ≥ 0.5, o crédito é automaticamente negado ou passa por análise manual.  \n",
    "- **Limites e juros dinâmicos:** para 0.2 ≤ P(“Poor”) < 0.5, concede-se crédito com limites e taxas ajustados ao perfil de risco.  \n",
    "- **Monitoramento contínuo:** clientes com P(“Poor”) crescente são acionados por cartas de revisão de condições ou monitorados por squads de cobrança.\n",
    "\n",
    "Dessa forma, o modelo gera valor ao evitar perdas financeiras (minimizando falsos positivos) e ao maximizar oportunidades de negócios para clientes de baixo risco.\n"
   ]
  },
  {
   "cell_type": "markdown",
   "id": "9c73f1ab",
   "metadata": {},
   "source": [
    "### Abaixo, utilizamos o modelo treinado para prever score de crédito de registros na base test.csv"
   ]
  },
  {
   "cell_type": "code",
   "execution_count": null,
   "id": "46fa52c7",
   "metadata": {},
   "outputs": [],
   "source": [
    "# Aplicar Label Encoding nas colunas categóricas (usando os mesmos encoders do treino)\n",
    "colunas_categoricas = ['Occupation', 'Credit_Mix', 'Payment_of_Min_Amount', 'Payment_Behaviour']\n",
    "\n",
    "for coluna in colunas_categoricas:\n",
    "    # Preencher NaN com 'Missing'\n",
    "    test_data[coluna] = test_data[coluna].fillna('Missing')\n",
    "    \n",
    "    # Aplicar o encoder que foi criado no treino\n",
    "    test_data[coluna] = encoders[coluna].transform(test_data[coluna])\n",
    "\n",
    "# Aplicar o pré-processamento (imputer + scaler) nos dados de teste\n",
    "X_test_transformado = preprocessor.transform(test_data)"
   ]
  },
  {
   "cell_type": "code",
   "execution_count": null,
   "id": "3483ccef",
   "metadata": {},
   "outputs": [
    {
     "name": "stdout",
     "output_type": "stream",
     "text": [
      "=== RESULTADOS DAS PREDIÇÕES NO TEST.CSV ===\n",
      "\n",
      "Total de clientes analisados: 50,000\n",
      "\n",
      "--- Distribuição por Classificação de Crédito ---\n",
      "Poor: 15,222 clientes (30.4%)\n",
      "Standard: 24,382 clientes (48.8%)\n",
      "Good: 10,396 clientes (20.8%)\n",
      "\n",
      "*** CRÉDITO RUIM (Poor): 30.4% dos clientes ***\n",
      "\n",
      "--- Estatísticas das Probabilidades de Crédito Ruim ---\n",
      "Probabilidade média: 0.293\n",
      "Probabilidade mediana: 0.136\n",
      "Clientes com P(Poor) > 50%: 13,701 (27.4%)\n"
     ]
    }
   ],
   "source": [
    "\n",
    "\n",
    "\n",
    "# Fazer predições com o modelo Random Forest\n",
    "predicoes = grid_rf.predict(X_test_transformado)\n",
    "probabilidades = grid_rf.predict_proba(X_test_transformado)\n",
    "\n",
    "# Calcular as porcentagens\n",
    "contagem_predicoes = pd.Series(predicoes).value_counts().sort_index()\n",
    "total_clientes = len(predicoes)\n",
    "\n",
    "# Criar DataFrame com resultados\n",
    "resultados = pd.DataFrame({\n",
    "    'Classe': [0, 1, 2],\n",
    "    'Nome': ['Poor', 'Standard', 'Good'],\n",
    "    'Quantidade': [contagem_predicoes.get(i, 0) for i in [0, 1, 2]],\n",
    "    'Porcentagem': [contagem_predicoes.get(i, 0) / total_clientes * 100 for i in [0, 1, 2]]\n",
    "})\n",
    "\n",
    "print(\"=== RESULTADOS DAS PREDIÇÕES NO TEST.CSV ===\")\n",
    "print(f\"\\nTotal de clientes analisados: {total_clientes:,}\")\n",
    "print(\"\\n--- Distribuição por Classificação de Crédito ---\")\n",
    "for _, row in resultados.iterrows():\n",
    "    print(f\"{row['Nome']}: {row['Quantidade']:,} clientes ({row['Porcentagem']:.1f}%)\")\n",
    "\n",
    "# Resultado principal\n",
    "crédito_ruim_pct = resultados[resultados['Nome'] == 'Poor']['Porcentagem'].iloc[0]\n",
    "print(f\"\\n*** CRÉDITO RUIM (Poor): {crédito_ruim_pct:.1f}% dos clientes ***\")\n",
    "\n",
    "# Análise das probabilidades de crédito ruim\n",
    "prob_poor = probabilidades[:, 0]  # Coluna 0 = classe 'Poor'\n",
    "print(f\"\\n--- Estatísticas das Probabilidades de Crédito Ruim ---\")\n",
    "print(f\"Probabilidade média: {prob_poor.mean():.3f}\")\n",
    "print(f\"Probabilidade mediana: {np.median(prob_poor):.3f}\")\n",
    "print(f\"Clientes com P(Poor) > 50%: {(prob_poor > 0.5).sum():,} ({(prob_poor > 0.5).mean()*100:.1f}%)\")"
   ]
  }
 ],
 "metadata": {
  "kernelspec": {
   "display_name": ".venv",
   "language": "python",
   "name": "python3"
  },
  "language_info": {
   "codemirror_mode": {
    "name": "ipython",
    "version": 3
   },
   "file_extension": ".py",
   "mimetype": "text/x-python",
   "name": "python",
   "nbconvert_exporter": "python",
   "pygments_lexer": "ipython3",
   "version": "3.11.9"
  }
 },
 "nbformat": 4,
 "nbformat_minor": 5
}
